{
 "cells": [
  {
   "cell_type": "markdown",
   "metadata": {},
   "source": [
    "# Objective: Estimate how power changes with different batch multiplexing study designs"
   ]
  },
  {
   "cell_type": "markdown",
   "metadata": {},
   "source": [
    "- scPOST allows users to change their simulated study design so that they may test how different study design choices affect their power.\n",
    "- An important aspect of scRNA-seq experiments involves determining how to run the experiments. If the study size is large enough, samples may need to be assayed in batches, which introduces batch effects. \n",
    "- Batch effects can potentially reduce power. Assaying several samples in the same batch (multiplexing) is a standard part of multi-sample experiments. Here, we explore how scPOST can be used to evaluate the performance of different multiplexing schemes\n",
    "\n",
    "We'll simulate datasets from a rheumatoid arthritis (RA) dataset described in Zhang F, Wei K, Slowikowski K, Fonseka C, Rao DA, *et al.*, *Nature Immunol* (2020). Here, we use the dataset in its non-batch-corrected state, so that the input dataset contains batch effects (without batch effects, the differences in power between sequential and multiplexed study designs are similar). The metadata and PC embeddings for this non-batch-corrected dataset is provided in the pre-loaded data: ra_PreHarmObj.\n",
    "\n",
    "In this tutorial, we'll:\n",
    "- Simulate datasets featuring study designs with different multiplexing schemes\n",
    "- Visualize how power changes with different multiplexing schemes\n",
    "\n",
    "**In this tutorial, we assume you have at least read the \"Getting Started\" tutorial, which provides more detail in creating scPOST workflows.**"
   ]
  },
  {
   "cell_type": "markdown",
   "metadata": {},
   "source": [
    "## Load packages"
   ]
  },
  {
   "cell_type": "code",
   "execution_count": 2,
   "metadata": {},
   "outputs": [],
   "source": [
    "suppressPackageStartupMessages({\n",
    "    # imports for analyses\n",
    "    library(scpost)\n",
    "    library(dplyr)\n",
    "    \n",
    "    # imports for figures\n",
    "    library(ggplot2)\n",
    "    library(RColorBrewer)\n",
    "    library(patchwork)\n",
    "})\n",
    "\n",
    "fig.size <- function (height, width) {\n",
    "    options(repr.plot.height = height, repr.plot.width = width)\n",
    "}"
   ]
  },
  {
   "cell_type": "markdown",
   "metadata": {},
   "source": [
    "# Step 1: Parameter estimation"
   ]
  },
  {
   "cell_type": "code",
   "execution_count": 2,
   "metadata": {},
   "outputs": [
    {
     "data": {
      "text/plain": [
       "   user  system elapsed \n",
       "  0.248   0.003   0.252 "
      ]
     },
     "metadata": {},
     "output_type": "display_data"
    }
   ],
   "source": [
    "system.time({\n",
    "    ra_freqEstimates <- estimateFreqVar(meta = ra_PreHarmObj$meta, clusCol = 'preHarmClus', sampleCol = 'sample', logCov = TRUE)\n",
    "})"
   ]
  },
  {
   "cell_type": "code",
   "execution_count": 3,
   "metadata": {},
   "outputs": [
    {
     "data": {
      "text/plain": [
       "   user  system elapsed \n",
       " 11.764   0.021  11.802 "
      ]
     },
     "metadata": {},
     "output_type": "display_data"
    }
   ],
   "source": [
    "system.time({\n",
    "    ra_pcEstimates <- estimatePCVar(pca = ra_PreHarmObj$embeddings, npcs = 20, meta = ra_PreHarmObj$meta, clusCol = 'preHarmClus',\n",
    "                                    sampleCol = 'sample', batchCol = 'batch')\n",
    "})"
   ]
  },
  {
   "cell_type": "markdown",
   "metadata": {},
   "source": [
    "# Step 2 & 3: Simulate datasets"
   ]
  },
  {
   "cell_type": "markdown",
   "metadata": {},
   "source": [
    "We'll simulate 3 different multiplexing designs. First, we created folders for each design that we will place the simulations into. We'll explore:\n",
    "\n",
    "1. A non-multiplexed sequential study design where each sample is run in its own batch\n",
    "2. A standard multiplexed study design where multiple samples are run in the same batch (4 samples per batch)\n",
    "3. An alternative multiplexing study design wehere samples a split into sub-samples, which are then placed into different batches (see figure in this section)"
   ]
  },
  {
   "cell_type": "markdown",
   "metadata": {},
   "source": [
    "## Sequential "
   ]
  },
  {
   "cell_type": "markdown",
   "metadata": {},
   "source": [
    "Let's first simulate a 20-sample study with a simple design. We'll simulate for each sample to be run **sequentially** - one sample for one batch. This is not usually the standard design for modern scRNA-seq experiments, as multiplexing helps reduce cost. However, we show the results for this design as demonstration in order to compare."
   ]
  },
  {
   "cell_type": "code",
   "execution_count": 4,
   "metadata": {},
   "outputs": [
    {
     "name": "stdout",
     "output_type": "stream",
     "text": [
      "List of 4\n",
      " $ batches     :List of 40\n",
      " $ sample_names: chr [1:40] \"sample1\" \"sample2\" \"sample3\" \"sample4\" ...\n",
      " $ cases       : chr [1:20] \"sample29\" \"sample28\" \"sample8\" \"sample34\" ...\n",
      " $ ctrls       : chr [1:20] \"sample1\" \"sample3\" \"sample4\" \"sample5\" ...\n"
     ]
    },
    {
     "data": {
      "text/html": [
       "<table class=\"dataframe\">\n",
       "<caption>A data.frame: 2 × 13</caption>\n",
       "<thead>\n",
       "\t<tr><th></th><th scope=col>rep</th><th scope=col>ncases</th><th scope=col>nctrls</th><th scope=col>nbatches</th><th scope=col>b_scale</th><th scope=col>s_scale</th><th scope=col>cf_scale</th><th scope=col>clus</th><th scope=col>fc</th><th scope=col>res_use</th><th scope=col>save_path</th><th scope=col>cond_induce</th><th scope=col>seed</th></tr>\n",
       "\t<tr><th></th><th scope=col>&lt;int&gt;</th><th scope=col>&lt;dbl&gt;</th><th scope=col>&lt;dbl&gt;</th><th scope=col>&lt;dbl&gt;</th><th scope=col>&lt;dbl&gt;</th><th scope=col>&lt;dbl&gt;</th><th scope=col>&lt;dbl&gt;</th><th scope=col>&lt;fct&gt;</th><th scope=col>&lt;dbl&gt;</th><th scope=col>&lt;dbl&gt;</th><th scope=col>&lt;fct&gt;</th><th scope=col>&lt;chr&gt;</th><th scope=col>&lt;int&gt;</th></tr>\n",
       "</thead>\n",
       "<tbody>\n",
       "\t<tr><th scope=row>1</th><td>1</td><td>20</td><td>20</td><td>40</td><td>1</td><td>1</td><td>1</td><td>clus0</td><td>2</td><td>2</td><td>/data/srlab1/nmillard/scpost/vignettes/scpostSims//multiplexing/sequential/</td><td>cases</td><td>1294817627</td></tr>\n",
       "\t<tr><th scope=row>2</th><td>2</td><td>20</td><td>20</td><td>40</td><td>1</td><td>1</td><td>1</td><td>clus0</td><td>2</td><td>2</td><td>/data/srlab1/nmillard/scpost/vignettes/scpostSims//multiplexing/sequential/</td><td>cases</td><td>1413599036</td></tr>\n",
       "</tbody>\n",
       "</table>\n"
      ],
      "text/latex": [
       "A data.frame: 2 × 13\n",
       "\\begin{tabular}{r|lllllllllllll}\n",
       "  & rep & ncases & nctrls & nbatches & b\\_scale & s\\_scale & cf\\_scale & clus & fc & res\\_use & save\\_path & cond\\_induce & seed\\\\\n",
       "  & <int> & <dbl> & <dbl> & <dbl> & <dbl> & <dbl> & <dbl> & <fct> & <dbl> & <dbl> & <fct> & <chr> & <int>\\\\\n",
       "\\hline\n",
       "\t1 & 1 & 20 & 20 & 40 & 1 & 1 & 1 & clus0 & 2 & 2 & /data/srlab1/nmillard/scpost/vignettes/scpostSims//multiplexing/sequential/ & cases & 1294817627\\\\\n",
       "\t2 & 2 & 20 & 20 & 40 & 1 & 1 & 1 & clus0 & 2 & 2 & /data/srlab1/nmillard/scpost/vignettes/scpostSims//multiplexing/sequential/ & cases & 1413599036\\\\\n",
       "\\end{tabular}\n"
      ],
      "text/markdown": [
       "\n",
       "A data.frame: 2 × 13\n",
       "\n",
       "| <!--/--> | rep &lt;int&gt; | ncases &lt;dbl&gt; | nctrls &lt;dbl&gt; | nbatches &lt;dbl&gt; | b_scale &lt;dbl&gt; | s_scale &lt;dbl&gt; | cf_scale &lt;dbl&gt; | clus &lt;fct&gt; | fc &lt;dbl&gt; | res_use &lt;dbl&gt; | save_path &lt;fct&gt; | cond_induce &lt;chr&gt; | seed &lt;int&gt; |\n",
       "|---|---|---|---|---|---|---|---|---|---|---|---|---|---|\n",
       "| 1 | 1 | 20 | 20 | 40 | 1 | 1 | 1 | clus0 | 2 | 2 | /data/srlab1/nmillard/scpost/vignettes/scpostSims//multiplexing/sequential/ | cases | 1294817627 |\n",
       "| 2 | 2 | 20 | 20 | 40 | 1 | 1 | 1 | clus0 | 2 | 2 | /data/srlab1/nmillard/scpost/vignettes/scpostSims//multiplexing/sequential/ | cases | 1413599036 |\n",
       "\n"
      ],
      "text/plain": [
       "  rep ncases nctrls nbatches b_scale s_scale cf_scale clus  fc res_use\n",
       "1 1   20     20     40       1       1       1        clus0 2  2      \n",
       "2 2   20     20     40       1       1       1        clus0 2  2      \n",
       "  save_path                                                                  \n",
       "1 /data/srlab1/nmillard/scpost/vignettes/scpostSims//multiplexing/sequential/\n",
       "2 /data/srlab1/nmillard/scpost/vignettes/scpostSims//multiplexing/sequential/\n",
       "  cond_induce seed      \n",
       "1 cases       1294817627\n",
       "2 cases       1413599036"
      ]
     },
     "metadata": {},
     "output_type": "display_data"
    }
   ],
   "source": [
    "set.seed(23)\n",
    "\n",
    "# Set the number of samples, number of cells per sample, and create sequential batch structure\n",
    "ncases <- 20\n",
    "nctrls <- 20\n",
    "nbatches <- ncases + nctrls\n",
    "batchStructure <- distribSamplePerBatch(ncases = ncases, nctrls = nctrls, nbatches = nbatches)\n",
    "ncells <- rep(100, times = ncases + nctrls)\n",
    "names(ncells) <- batchStructure$sample_names\n",
    "\n",
    "batchStructure %>% str(1)\n",
    "\n",
    "params <- createParamTable(\n",
    "    nreps = 10,\n",
    "    clus = \"clus0\",\n",
    "    fc = 2,\n",
    "    ncases = ncases,\n",
    "    nctrls = nctrls,\n",
    "    nbatches = nbatches,\n",
    "    b_scale = 1,\n",
    "    s_scale = 1,\n",
    "    cf_scale = 1,\n",
    "    res_use = 2,\n",
    "    cond_induce = \"cases\",\n",
    "    save_path = file.path(getwd(), \"scpostSims//multiplexing/sequential/\")\n",
    ")\n",
    "\n",
    "params %>% head(2)"
   ]
  },
  {
   "cell_type": "code",
   "execution_count": 5,
   "metadata": {},
   "outputs": [
    {
     "name": "stderr",
     "output_type": "stream",
     "text": [
      "Simulated dataset at 2021-07-21 15:11:29\n",
      "\n",
      "Simulated dataset at 2021-07-21 15:11:35\n",
      "\n",
      "Simulated dataset at 2021-07-21 15:11:40\n",
      "\n",
      "Simulated dataset at 2021-07-21 15:11:45\n",
      "\n",
      "Simulated dataset at 2021-07-21 15:11:51\n",
      "\n",
      "Simulated dataset at 2021-07-21 15:11:56\n",
      "\n",
      "Simulated dataset at 2021-07-21 15:12:01\n",
      "\n",
      "Simulated dataset at 2021-07-21 15:12:07\n",
      "\n",
      "Simulated dataset at 2021-07-21 15:12:12\n",
      "\n",
      "Simulated dataset at 2021-07-21 15:12:18\n",
      "\n"
     ]
    },
    {
     "data": {
      "text/html": [
       "<ol>\n",
       "\t<li>NULL</li>\n",
       "\t<li>NULL</li>\n",
       "\t<li>NULL</li>\n",
       "\t<li>NULL</li>\n",
       "\t<li>NULL</li>\n",
       "\t<li>NULL</li>\n",
       "\t<li>NULL</li>\n",
       "\t<li>NULL</li>\n",
       "\t<li>NULL</li>\n",
       "\t<li>NULL</li>\n",
       "</ol>\n"
      ],
      "text/latex": [
       "\\begin{enumerate}\n",
       "\\item NULL\n",
       "\\item NULL\n",
       "\\item NULL\n",
       "\\item NULL\n",
       "\\item NULL\n",
       "\\item NULL\n",
       "\\item NULL\n",
       "\\item NULL\n",
       "\\item NULL\n",
       "\\item NULL\n",
       "\\end{enumerate}\n"
      ],
      "text/markdown": [
       "1. NULL\n",
       "2. NULL\n",
       "3. NULL\n",
       "4. NULL\n",
       "5. NULL\n",
       "6. NULL\n",
       "7. NULL\n",
       "8. NULL\n",
       "9. NULL\n",
       "10. NULL\n",
       "\n",
       "\n"
      ],
      "text/plain": [
       "[[1]]\n",
       "NULL\n",
       "\n",
       "[[2]]\n",
       "NULL\n",
       "\n",
       "[[3]]\n",
       "NULL\n",
       "\n",
       "[[4]]\n",
       "NULL\n",
       "\n",
       "[[5]]\n",
       "NULL\n",
       "\n",
       "[[6]]\n",
       "NULL\n",
       "\n",
       "[[7]]\n",
       "NULL\n",
       "\n",
       "[[8]]\n",
       "NULL\n",
       "\n",
       "[[9]]\n",
       "NULL\n",
       "\n",
       "[[10]]\n",
       "NULL\n"
      ]
     },
     "metadata": {},
     "output_type": "display_data"
    }
   ],
   "source": [
    "suppressWarnings({\n",
    "    lapply(seq(nrow(params)), function(x){\n",
    "            simDataset.withMASC(\n",
    "                save_path = params[x, 'save_path'],\n",
    "                rep = params[x, 'rep'],\n",
    "                seed = params[x, 'seed'],\n",
    "                ncases = params[x, 'ncases'],\n",
    "                nctrls = params[x, 'nctrls'],\n",
    "                nbatches = params[x, 'nbatches'],\n",
    "                batchStructure = batchStructure,\n",
    "                ncells = ncells,\n",
    "                centroids = ra_pcEstimates$centroids,\n",
    "                pc_cov_list = ra_pcEstimates$pc_cov_list,\n",
    "                batch_vars = ra_pcEstimates$batch_vars,\n",
    "                b_scale = params[x, 'b_scale'],\n",
    "                sample_vars = ra_pcEstimates$sample_vars,\n",
    "                s_scale = params[x, 's_scale'],\n",
    "                cfcov = ra_freqEstimates$cfcov,\n",
    "                cf_scale = params[x, 'cf_scale'],\n",
    "                meanFreqs = ra_freqEstimates$meanFreq,\n",
    "                clus = params[x, 'clus'],\n",
    "                fc = params[x, 'fc'],\n",
    "                cond_induce = params[x, 'cond_induce'],\n",
    "                res_use = params[x, 'res_use'], \n",
    "                mc.cores = 1,\n",
    "                clusterData = TRUE,\n",
    "                returnPCs = FALSE\n",
    "            )\n",
    "    })\n",
    "})"
   ]
  },
  {
   "cell_type": "markdown",
   "metadata": {},
   "source": [
    "## Multiplexed"
   ]
  },
  {
   "cell_type": "markdown",
   "metadata": {},
   "source": [
    "We now simulate a multiplexed study design, where the 20 samples are split into 5 batches (4 samples per batch). This is typically the format modern scRNA-seq experiments are run. \n",
    "\n",
    "**Note: if you wish to slightly change the batch structure, you may edit the \"batches\" element of the batchStructure variable, which contains the placement of which samples are placed into which batch**"
   ]
  },
  {
   "cell_type": "code",
   "execution_count": 3,
   "metadata": {},
   "outputs": [
    {
     "name": "stdout",
     "output_type": "stream",
     "text": [
      "List of 4\n",
      " $ batches     :List of 5\n",
      "  ..$ batch1:List of 2\n",
      "  .. ..$ cases: chr [1:4] \"sample29\" \"sample21\" \"sample22\" \"sample25\"\n",
      "  .. ..$ ctrls: chr [1:4] \"sample1\" \"sample11\" \"sample20\" \"sample30\"\n",
      "  ..$ batch2:List of 2\n",
      "  .. ..$ cases: chr [1:4] \"sample28\" \"sample36\" \"sample13\" \"sample32\"\n",
      "  .. ..$ ctrls: chr [1:4] \"sample3\" \"sample14\" \"sample23\" \"sample35\"\n",
      "  ..$ batch3:List of 2\n",
      "  .. ..$ cases: chr [1:4] \"sample8\" \"sample6\" \"sample10\" \"sample7\"\n",
      "  .. ..$ ctrls: chr [1:4] \"sample4\" \"sample16\" \"sample24\" \"sample37\"\n",
      "  ..$ batch4:List of 2\n",
      "  .. ..$ cases: chr [1:4] \"sample34\" \"sample33\" \"sample12\" \"sample2\"\n",
      "  .. ..$ ctrls: chr [1:4] \"sample5\" \"sample18\" \"sample26\" \"sample38\"\n",
      "  ..$ batch5:List of 2\n",
      "  .. ..$ cases: chr [1:4] \"sample17\" \"sample31\" \"sample39\" \"sample15\"\n",
      "  .. ..$ ctrls: chr [1:4] \"sample9\" \"sample19\" \"sample27\" \"sample40\"\n",
      " $ sample_names: chr [1:40] \"sample1\" \"sample2\" \"sample3\" \"sample4\" ...\n",
      " $ cases       : chr [1:20] \"sample29\" \"sample28\" \"sample8\" \"sample34\" ...\n",
      " $ ctrls       : chr [1:20] \"sample1\" \"sample3\" \"sample4\" \"sample5\" ...\n"
     ]
    }
   ],
   "source": [
    "set.seed(23)\n",
    "\n",
    "# Set the number of samples, number of cells per sample, and create sequential batch structure\n",
    "ncases <- 20\n",
    "nctrls <- 20\n",
    "nbatches <- 5\n",
    "batchStructure <- distribSamples(ncases = ncases, nctrls = nctrls, nbatches = nbatches)\n",
    "ncells <- rep(100, times = ncases + nctrls)\n",
    "names(ncells) <- batchStructure$sample_names\n",
    "\n",
    "batchStructure %>% str\n",
    "\n",
    "params2 <- createParamTable(\n",
    "    nreps = 10,\n",
    "    clus = \"clus0\",\n",
    "    fc = 2,\n",
    "    ncases = ncases,\n",
    "    nctrls = nctrls,\n",
    "    nbatches = nbatches,\n",
    "    b_scale = 1,\n",
    "    s_scale = 1,\n",
    "    cf_scale = 1,\n",
    "    res_use = 2,\n",
    "    cond_induce = \"cases\",\n",
    "    save_path = file.path(getwd(), \"scpostSims//multiplexing/multi/\")\n",
    ")"
   ]
  },
  {
   "cell_type": "code",
   "execution_count": 86,
   "metadata": {},
   "outputs": [
    {
     "name": "stderr",
     "output_type": "stream",
     "text": [
      "Simulated dataset at 2021-07-21 14:59:33\n",
      "\n",
      "Simulated dataset at 2021-07-21 14:59:39\n",
      "\n",
      "Simulated dataset at 2021-07-21 14:59:44\n",
      "\n",
      "Simulated dataset at 2021-07-21 14:59:49\n",
      "\n",
      "Simulated dataset at 2021-07-21 14:59:55\n",
      "\n",
      "Simulated dataset at 2021-07-21 15:00:01\n",
      "\n",
      "Simulated dataset at 2021-07-21 15:00:06\n",
      "\n",
      "Simulated dataset at 2021-07-21 15:00:12\n",
      "\n",
      "Simulated dataset at 2021-07-21 15:00:17\n",
      "\n",
      "Simulated dataset at 2021-07-21 15:00:22\n",
      "\n"
     ]
    },
    {
     "data": {
      "text/html": [
       "<ol>\n",
       "\t<li>NULL</li>\n",
       "\t<li>NULL</li>\n",
       "\t<li>NULL</li>\n",
       "\t<li>NULL</li>\n",
       "\t<li>NULL</li>\n",
       "\t<li>NULL</li>\n",
       "\t<li>NULL</li>\n",
       "\t<li>NULL</li>\n",
       "\t<li>NULL</li>\n",
       "\t<li>NULL</li>\n",
       "</ol>\n"
      ],
      "text/latex": [
       "\\begin{enumerate}\n",
       "\\item NULL\n",
       "\\item NULL\n",
       "\\item NULL\n",
       "\\item NULL\n",
       "\\item NULL\n",
       "\\item NULL\n",
       "\\item NULL\n",
       "\\item NULL\n",
       "\\item NULL\n",
       "\\item NULL\n",
       "\\end{enumerate}\n"
      ],
      "text/markdown": [
       "1. NULL\n",
       "2. NULL\n",
       "3. NULL\n",
       "4. NULL\n",
       "5. NULL\n",
       "6. NULL\n",
       "7. NULL\n",
       "8. NULL\n",
       "9. NULL\n",
       "10. NULL\n",
       "\n",
       "\n"
      ],
      "text/plain": [
       "[[1]]\n",
       "NULL\n",
       "\n",
       "[[2]]\n",
       "NULL\n",
       "\n",
       "[[3]]\n",
       "NULL\n",
       "\n",
       "[[4]]\n",
       "NULL\n",
       "\n",
       "[[5]]\n",
       "NULL\n",
       "\n",
       "[[6]]\n",
       "NULL\n",
       "\n",
       "[[7]]\n",
       "NULL\n",
       "\n",
       "[[8]]\n",
       "NULL\n",
       "\n",
       "[[9]]\n",
       "NULL\n",
       "\n",
       "[[10]]\n",
       "NULL\n"
      ]
     },
     "metadata": {},
     "output_type": "display_data"
    }
   ],
   "source": [
    "suppressWarnings({\n",
    "    lapply(seq(nrow(params2)), function(x){\n",
    "            simDataset.withMASC(\n",
    "                save_path = params2[x, 'save_path'],\n",
    "                rep = params2[x, 'rep'],\n",
    "                seed = params2[x, 'seed'],\n",
    "                ncases = params2[x, 'ncases'],\n",
    "                nctrls = params2[x, 'nctrls'],\n",
    "                nbatches = params2[x, 'nbatches'],\n",
    "                batchStructure = batchStructure,\n",
    "                ncells = ncells,\n",
    "                centroids = ra_pcEstimates$centroids,\n",
    "                pc_cov_list = ra_pcEstimates$pc_cov_list,\n",
    "                batch_vars = ra_pcEstimates$batch_vars,\n",
    "                b_scale = params2[x, 'b_scale'],\n",
    "                sample_vars = ra_pcEstimates$sample_vars,\n",
    "                s_scale = params2[x, 's_scale'],\n",
    "                cfcov = ra_freqEstimates$cfcov,\n",
    "                cf_scale = params2[x, 'cf_scale'],\n",
    "                meanFreqs = ra_freqEstimates$meanFreq,\n",
    "                clus = params2[x, 'clus'],\n",
    "                fc = params2[x, 'fc'],\n",
    "                cond_induce = params2[x, 'cond_induce'],\n",
    "                res_use = params2[x, 'res_use'], \n",
    "                mc.cores = 1,\n",
    "                clusterData = TRUE,\n",
    "                returnPCs = FALSE\n",
    "            )\n",
    "    })\n",
    "})"
   ]
  },
  {
   "cell_type": "markdown",
   "metadata": {},
   "source": [
    "## Alternative multiplexing design"
   ]
  },
  {
   "cell_type": "markdown",
   "metadata": {},
   "source": [
    "We now simulate an alternative multiplexed study design. scRNA-seq experiments are costly, which may limit the capacity for investigators to experiment with different batch multiplexing structures. scPOST allows investigators to simulate how different structures may benefit their power. \n",
    "\n",
    "For this alternative multiplxed study design, we take samples and split them into sub-samples. These sub-samples are then subsequently placed into different batches, so several batches in the study contain sub-samples from the same parent sample (see figure). This has the consequence of artificially increasing your effective sample size, with the trade-off of decreasing the number of cells per \"sample\". However, as we show in the scPOST manuscript and the \"Optimizing study designs: samples vs. cells per sample\" tutorial, increasing the number of samples in your study can yield dramatic increases to your power."
   ]
  },
  {
   "cell_type": "code",
   "execution_count": null,
   "metadata": {},
   "outputs": [],
   "source": [
    "# ![test](images/Power_Suppl_MultiplexDesign.png){width=85%}"
   ]
  },
  {
   "cell_type": "code",
   "execution_count": 87,
   "metadata": {},
   "outputs": [
    {
     "name": "stdout",
     "output_type": "stream",
     "text": [
      "List of 4\n",
      " $ batches     :List of 5\n",
      "  ..$ batch1:List of 2\n",
      "  .. ..$ cases: chr [1:16] \"sample33\" \"sample10\" \"sample26\" \"sample17\" ...\n",
      "  .. ..$ ctrls: chr [1:16] \"sample11\" \"sample32\" \"sample34\" \"sample38\" ...\n",
      "  ..$ batch2:List of 2\n",
      "  .. ..$ cases: chr [1:16] \"sample40\" \"sample1\" \"sample36\" \"sample24\" ...\n",
      "  .. ..$ ctrls: chr [1:16] \"sample15\" \"sample31\" \"sample30\" \"sample21\" ...\n",
      "  ..$ batch3:List of 2\n",
      "  .. ..$ cases: chr [1:16] \"sample4\" \"sample1\" \"sample3\" \"sample25\" ...\n",
      "  .. ..$ ctrls: chr [1:16] \"sample22\" \"sample30\" \"sample37\" \"sample2\" ...\n",
      "  ..$ batch4:List of 2\n",
      "  .. ..$ cases: chr [1:16] \"sample36\" \"sample18\" \"sample10\" \"sample24\" ...\n",
      "  .. ..$ ctrls: chr [1:16] \"sample35\" \"sample8\" \"sample28\" \"sample38\" ...\n",
      "  ..$ batch5:List of 2\n",
      "  .. ..$ cases: chr [1:16] \"sample7\" \"sample19\" \"sample25\" \"sample3\" ...\n",
      "  .. ..$ ctrls: chr [1:16] \"sample37\" \"sample28\" \"sample2\" \"sample32\" ...\n",
      " $ sample_names: chr [1:40] \"sample1\" \"sample2\" \"sample3\" \"sample4\" ...\n",
      " $ cases       : chr [1:20] \"sample17\" \"sample16\" \"sample13\" \"sample18\" ...\n",
      " $ ctrls       : chr [1:20] \"sample2\" \"sample5\" \"sample8\" \"sample9\" ...\n"
     ]
    }
   ],
   "source": [
    "set.seed(23)\n",
    "\n",
    "# Set the number of samples, number of cells per sample, and create sequential batch structure\n",
    "ncases <- 20\n",
    "nctrls <- 20\n",
    "nbatches <- 5\n",
    "batchStructure <- distribSplitSamples(ncases = ncases, nctrls = nctrls, \n",
    "                                      nbatches = nbatches, numSubsamples = 4)\n",
    "# Reduce number of cells per sample so that they the total number of cells is the same as the previous study designs\n",
    "ncells <- rep(25, times = ncases + nctrls)\n",
    "names(ncells) <- batchStructure$sample_names\n",
    "\n",
    "batchStructure %>% str\n",
    "\n",
    "params3 <- createParamTable(\n",
    "    nreps = 10,\n",
    "    clus = \"clus0\",\n",
    "    fc = 2,\n",
    "    ncases = ncases,\n",
    "    nctrls = nctrls,\n",
    "    nbatches = nbatches,\n",
    "    b_scale = 1,\n",
    "    s_scale = 1,\n",
    "    cf_scale = 1,\n",
    "    res_use = 2,\n",
    "    cond_induce = \"cases\",\n",
    "    save_path = file.path(getwd(), \"scpostSims//multiplexing/alternativeMulti/\")\n",
    ")"
   ]
  },
  {
   "cell_type": "code",
   "execution_count": 88,
   "metadata": {},
   "outputs": [
    {
     "name": "stderr",
     "output_type": "stream",
     "text": [
      "Simulated dataset at 2021-07-21 15:00:29\n",
      "\n",
      "Simulated dataset at 2021-07-21 15:00:36\n",
      "\n",
      "Simulated dataset at 2021-07-21 15:00:43\n",
      "\n",
      "Simulated dataset at 2021-07-21 15:00:48\n",
      "\n",
      "Simulated dataset at 2021-07-21 15:00:55\n",
      "\n",
      "Simulated dataset at 2021-07-21 15:01:02\n",
      "\n",
      "Simulated dataset at 2021-07-21 15:01:07\n",
      "\n",
      "Simulated dataset at 2021-07-21 15:01:14\n",
      "\n",
      "Simulated dataset at 2021-07-21 15:01:20\n",
      "\n",
      "Simulated dataset at 2021-07-21 15:01:26\n",
      "\n"
     ]
    },
    {
     "data": {
      "text/html": [
       "<ol>\n",
       "\t<li>NULL</li>\n",
       "\t<li>NULL</li>\n",
       "\t<li>NULL</li>\n",
       "\t<li>NULL</li>\n",
       "\t<li>NULL</li>\n",
       "\t<li>NULL</li>\n",
       "\t<li>NULL</li>\n",
       "\t<li>NULL</li>\n",
       "\t<li>NULL</li>\n",
       "\t<li>NULL</li>\n",
       "</ol>\n"
      ],
      "text/latex": [
       "\\begin{enumerate}\n",
       "\\item NULL\n",
       "\\item NULL\n",
       "\\item NULL\n",
       "\\item NULL\n",
       "\\item NULL\n",
       "\\item NULL\n",
       "\\item NULL\n",
       "\\item NULL\n",
       "\\item NULL\n",
       "\\item NULL\n",
       "\\end{enumerate}\n"
      ],
      "text/markdown": [
       "1. NULL\n",
       "2. NULL\n",
       "3. NULL\n",
       "4. NULL\n",
       "5. NULL\n",
       "6. NULL\n",
       "7. NULL\n",
       "8. NULL\n",
       "9. NULL\n",
       "10. NULL\n",
       "\n",
       "\n"
      ],
      "text/plain": [
       "[[1]]\n",
       "NULL\n",
       "\n",
       "[[2]]\n",
       "NULL\n",
       "\n",
       "[[3]]\n",
       "NULL\n",
       "\n",
       "[[4]]\n",
       "NULL\n",
       "\n",
       "[[5]]\n",
       "NULL\n",
       "\n",
       "[[6]]\n",
       "NULL\n",
       "\n",
       "[[7]]\n",
       "NULL\n",
       "\n",
       "[[8]]\n",
       "NULL\n",
       "\n",
       "[[9]]\n",
       "NULL\n",
       "\n",
       "[[10]]\n",
       "NULL\n"
      ]
     },
     "metadata": {},
     "output_type": "display_data"
    }
   ],
   "source": [
    "suppressWarnings({\n",
    "    lapply(seq(nrow(params3)), function(x){\n",
    "            simDataset.withMASC(\n",
    "                save_path = params3[x, 'save_path'],\n",
    "                rep = params3[x, 'rep'],\n",
    "                seed = params3[x, 'seed'],\n",
    "                ncases = params3[x, 'ncases'],\n",
    "                nctrls = params3[x, 'nctrls'],\n",
    "                nbatches = params3[x, 'nbatches'],\n",
    "                batchStructure = batchStructure,\n",
    "                ncells = ncells,\n",
    "                centroids = ra_pcEstimates$centroids,\n",
    "                pc_cov_list = ra_pcEstimates$pc_cov_list,\n",
    "                batch_vars = ra_pcEstimates$batch_vars,\n",
    "                b_scale = params3[x, 'b_scale'],\n",
    "                sample_vars = ra_pcEstimates$sample_vars,\n",
    "                s_scale = params3[x, 's_scale'],\n",
    "                cfcov = ra_freqEstimates$cfcov,\n",
    "                cf_scale = params3[x, 'cf_scale'],\n",
    "                meanFreqs = ra_freqEstimates$meanFreq,\n",
    "                clus = params3[x, 'clus'],\n",
    "                fc = params3[x, 'fc'],\n",
    "                cond_induce = params3[x, 'cond_induce'],\n",
    "                res_use = params3[x, 'res_use'], \n",
    "                mc.cores = 1,\n",
    "                clusterData = TRUE,\n",
    "                returnPCs = FALSE\n",
    "            )\n",
    "    })\n",
    "})"
   ]
  },
  {
   "cell_type": "markdown",
   "metadata": {},
   "source": [
    "# Load simulated datasets and calculate power"
   ]
  },
  {
   "cell_type": "code",
   "execution_count": 6,
   "metadata": {},
   "outputs": [
    {
     "data": {
      "text/html": [
       "10"
      ],
      "text/latex": [
       "10"
      ],
      "text/markdown": [
       "10"
      ],
      "text/plain": [
       "[1] 10"
      ]
     },
     "metadata": {},
     "output_type": "display_data"
    },
    {
     "data": {
      "text/html": [
       "<table class=\"dataframe\">\n",
       "<caption>A data.frame: 1 × 11</caption>\n",
       "<thead>\n",
       "\t<tr><th scope=col>ind_fc</th><th scope=col>ncases</th><th scope=col>nctrls</th><th scope=col>nsamples</th><th scope=col>ncells</th><th scope=col>bscale</th><th scope=col>sscale</th><th scope=col>cfscale</th><th scope=col>trials</th><th scope=col>masc_power</th><th scope=col>masc_power_ci</th></tr>\n",
       "\t<tr><th scope=col>&lt;fct&gt;</th><th scope=col>&lt;fct&gt;</th><th scope=col>&lt;fct&gt;</th><th scope=col>&lt;fct&gt;</th><th scope=col>&lt;fct&gt;</th><th scope=col>&lt;fct&gt;</th><th scope=col>&lt;fct&gt;</th><th scope=col>&lt;fct&gt;</th><th scope=col>&lt;int&gt;</th><th scope=col>&lt;dbl&gt;</th><th scope=col>&lt;dbl&gt;</th></tr>\n",
       "</thead>\n",
       "<tbody>\n",
       "\t<tr><td>2</td><td>20</td><td>20</td><td>40</td><td>100</td><td>1</td><td>1</td><td>1</td><td>10</td><td>0</td><td>0</td></tr>\n",
       "</tbody>\n",
       "</table>\n"
      ],
      "text/latex": [
       "A data.frame: 1 × 11\n",
       "\\begin{tabular}{lllllllllll}\n",
       " ind\\_fc & ncases & nctrls & nsamples & ncells & bscale & sscale & cfscale & trials & masc\\_power & masc\\_power\\_ci\\\\\n",
       " <fct> & <fct> & <fct> & <fct> & <fct> & <fct> & <fct> & <fct> & <int> & <dbl> & <dbl>\\\\\n",
       "\\hline\n",
       "\t 2 & 20 & 20 & 40 & 100 & 1 & 1 & 1 & 10 & 0 & 0\\\\\n",
       "\\end{tabular}\n"
      ],
      "text/markdown": [
       "\n",
       "A data.frame: 1 × 11\n",
       "\n",
       "| ind_fc &lt;fct&gt; | ncases &lt;fct&gt; | nctrls &lt;fct&gt; | nsamples &lt;fct&gt; | ncells &lt;fct&gt; | bscale &lt;fct&gt; | sscale &lt;fct&gt; | cfscale &lt;fct&gt; | trials &lt;int&gt; | masc_power &lt;dbl&gt; | masc_power_ci &lt;dbl&gt; |\n",
       "|---|---|---|---|---|---|---|---|---|---|---|\n",
       "| 2 | 20 | 20 | 40 | 100 | 1 | 1 | 1 | 10 | 0 | 0 |\n",
       "\n"
      ],
      "text/plain": [
       "  ind_fc ncases nctrls nsamples ncells bscale sscale cfscale trials masc_power\n",
       "1 2      20     20     40       100    1      1      1       10     0         \n",
       "  masc_power_ci\n",
       "1 0            "
      ]
     },
     "metadata": {},
     "output_type": "display_data"
    }
   ],
   "source": [
    "dir_sequential <- file.path(getwd(), \"scpostSims/multiplexing//sequential\")\n",
    "filenames_sequential <- list.files(path = dir_sequential,\n",
    "                                  full.names = T) %>% basename\n",
    "resTables_sequential <- lapply(filenames_sequential, function(x){\n",
    "        readRDS(file.path(dir_sequential, x))[['res']]\n",
    "})\n",
    "\n",
    "power_sequential <- getPowerFromRes(\n",
    "    resFiles = filenames_sequential,\n",
    "    resTables = resTables_sequential,\n",
    "    threshold = 0.05,\n",
    "    z = 1.96,\n",
    "    stratByClus = FALSE\n",
    ")\n",
    "resTables_sequential %>% length\n",
    "power_sequential"
   ]
  },
  {
   "cell_type": "code",
   "execution_count": 7,
   "metadata": {},
   "outputs": [
    {
     "data": {
      "text/html": [
       "10"
      ],
      "text/latex": [
       "10"
      ],
      "text/markdown": [
       "10"
      ],
      "text/plain": [
       "[1] 10"
      ]
     },
     "metadata": {},
     "output_type": "display_data"
    },
    {
     "data": {
      "text/html": [
       "<table class=\"dataframe\">\n",
       "<caption>A data.frame: 1 × 11</caption>\n",
       "<thead>\n",
       "\t<tr><th scope=col>ind_fc</th><th scope=col>ncases</th><th scope=col>nctrls</th><th scope=col>nsamples</th><th scope=col>ncells</th><th scope=col>bscale</th><th scope=col>sscale</th><th scope=col>cfscale</th><th scope=col>trials</th><th scope=col>masc_power</th><th scope=col>masc_power_ci</th></tr>\n",
       "\t<tr><th scope=col>&lt;fct&gt;</th><th scope=col>&lt;fct&gt;</th><th scope=col>&lt;fct&gt;</th><th scope=col>&lt;fct&gt;</th><th scope=col>&lt;fct&gt;</th><th scope=col>&lt;fct&gt;</th><th scope=col>&lt;fct&gt;</th><th scope=col>&lt;fct&gt;</th><th scope=col>&lt;int&gt;</th><th scope=col>&lt;dbl&gt;</th><th scope=col>&lt;dbl&gt;</th></tr>\n",
       "</thead>\n",
       "<tbody>\n",
       "\t<tr><td>2</td><td>20</td><td>20</td><td>40</td><td>100</td><td>1</td><td>1</td><td>1</td><td>10</td><td>0</td><td>0</td></tr>\n",
       "</tbody>\n",
       "</table>\n"
      ],
      "text/latex": [
       "A data.frame: 1 × 11\n",
       "\\begin{tabular}{lllllllllll}\n",
       " ind\\_fc & ncases & nctrls & nsamples & ncells & bscale & sscale & cfscale & trials & masc\\_power & masc\\_power\\_ci\\\\\n",
       " <fct> & <fct> & <fct> & <fct> & <fct> & <fct> & <fct> & <fct> & <int> & <dbl> & <dbl>\\\\\n",
       "\\hline\n",
       "\t 2 & 20 & 20 & 40 & 100 & 1 & 1 & 1 & 10 & 0 & 0\\\\\n",
       "\\end{tabular}\n"
      ],
      "text/markdown": [
       "\n",
       "A data.frame: 1 × 11\n",
       "\n",
       "| ind_fc &lt;fct&gt; | ncases &lt;fct&gt; | nctrls &lt;fct&gt; | nsamples &lt;fct&gt; | ncells &lt;fct&gt; | bscale &lt;fct&gt; | sscale &lt;fct&gt; | cfscale &lt;fct&gt; | trials &lt;int&gt; | masc_power &lt;dbl&gt; | masc_power_ci &lt;dbl&gt; |\n",
       "|---|---|---|---|---|---|---|---|---|---|---|\n",
       "| 2 | 20 | 20 | 40 | 100 | 1 | 1 | 1 | 10 | 0 | 0 |\n",
       "\n"
      ],
      "text/plain": [
       "  ind_fc ncases nctrls nsamples ncells bscale sscale cfscale trials masc_power\n",
       "1 2      20     20     40       100    1      1      1       10     0         \n",
       "  masc_power_ci\n",
       "1 0            "
      ]
     },
     "metadata": {},
     "output_type": "display_data"
    }
   ],
   "source": [
    "dir_multi <- file.path(getwd(), \"scpostSims/multiplexing//multi\")\n",
    "filenames_multi <- list.files(path = dir_multi,\n",
    "                                  full.names = T) %>% basename\n",
    "resTables_multi <- lapply(filenames_multi, function(x){\n",
    "        readRDS(file.path(dir_multi, x))[['res']]\n",
    "})\n",
    "\n",
    "power_multi <- getPowerFromRes(\n",
    "    resFiles = filenames_multi,\n",
    "    resTables = resTables_multi,\n",
    "    threshold = 0.05,\n",
    "    z = 1.96,\n",
    "    stratByClus = FALSE\n",
    ")\n",
    "resTables_multi %>% length\n",
    "power_multi"
   ]
  },
  {
   "cell_type": "code",
   "execution_count": 8,
   "metadata": {},
   "outputs": [
    {
     "data": {
      "text/html": [
       "10"
      ],
      "text/latex": [
       "10"
      ],
      "text/markdown": [
       "10"
      ],
      "text/plain": [
       "[1] 10"
      ]
     },
     "metadata": {},
     "output_type": "display_data"
    },
    {
     "data": {
      "text/html": [
       "<table class=\"dataframe\">\n",
       "<caption>A data.frame: 1 × 11</caption>\n",
       "<thead>\n",
       "\t<tr><th scope=col>ind_fc</th><th scope=col>ncases</th><th scope=col>nctrls</th><th scope=col>nsamples</th><th scope=col>ncells</th><th scope=col>bscale</th><th scope=col>sscale</th><th scope=col>cfscale</th><th scope=col>trials</th><th scope=col>masc_power</th><th scope=col>masc_power_ci</th></tr>\n",
       "\t<tr><th scope=col>&lt;fct&gt;</th><th scope=col>&lt;fct&gt;</th><th scope=col>&lt;fct&gt;</th><th scope=col>&lt;fct&gt;</th><th scope=col>&lt;fct&gt;</th><th scope=col>&lt;fct&gt;</th><th scope=col>&lt;fct&gt;</th><th scope=col>&lt;fct&gt;</th><th scope=col>&lt;int&gt;</th><th scope=col>&lt;dbl&gt;</th><th scope=col>&lt;dbl&gt;</th></tr>\n",
       "</thead>\n",
       "<tbody>\n",
       "\t<tr><td>2</td><td>20</td><td>20</td><td>40</td><td>25</td><td>1</td><td>1</td><td>1</td><td>10</td><td>0.3</td><td>0.284031</td></tr>\n",
       "</tbody>\n",
       "</table>\n"
      ],
      "text/latex": [
       "A data.frame: 1 × 11\n",
       "\\begin{tabular}{lllllllllll}\n",
       " ind\\_fc & ncases & nctrls & nsamples & ncells & bscale & sscale & cfscale & trials & masc\\_power & masc\\_power\\_ci\\\\\n",
       " <fct> & <fct> & <fct> & <fct> & <fct> & <fct> & <fct> & <fct> & <int> & <dbl> & <dbl>\\\\\n",
       "\\hline\n",
       "\t 2 & 20 & 20 & 40 & 25 & 1 & 1 & 1 & 10 & 0.3 & 0.284031\\\\\n",
       "\\end{tabular}\n"
      ],
      "text/markdown": [
       "\n",
       "A data.frame: 1 × 11\n",
       "\n",
       "| ind_fc &lt;fct&gt; | ncases &lt;fct&gt; | nctrls &lt;fct&gt; | nsamples &lt;fct&gt; | ncells &lt;fct&gt; | bscale &lt;fct&gt; | sscale &lt;fct&gt; | cfscale &lt;fct&gt; | trials &lt;int&gt; | masc_power &lt;dbl&gt; | masc_power_ci &lt;dbl&gt; |\n",
       "|---|---|---|---|---|---|---|---|---|---|---|\n",
       "| 2 | 20 | 20 | 40 | 25 | 1 | 1 | 1 | 10 | 0.3 | 0.284031 |\n",
       "\n"
      ],
      "text/plain": [
       "  ind_fc ncases nctrls nsamples ncells bscale sscale cfscale trials masc_power\n",
       "1 2      20     20     40       25     1      1      1       10     0.3       \n",
       "  masc_power_ci\n",
       "1 0.284031     "
      ]
     },
     "metadata": {},
     "output_type": "display_data"
    }
   ],
   "source": [
    "dir_altMulti <- file.path(getwd(), \"scpostSims/multiplexing/alternativeMulti\")\n",
    "filenames_altMulti <- list.files(path = dir_altMulti,\n",
    "                                  full.names = T) %>% basename\n",
    "resTables_altMulti <- lapply(filenames_altMulti, function(x){\n",
    "        readRDS(file.path(dir_altMulti, x))[['res']]\n",
    "})\n",
    "\n",
    "power_altMulti <- getPowerFromRes(\n",
    "    resFiles = filenames_altMulti,\n",
    "    resTables = resTables_altMulti,\n",
    "    threshold = 0.05,\n",
    "    z = 1.96,\n",
    "    stratByClus = FALSE\n",
    ")\n",
    "resTables_altMulti %>% length\n",
    "power_altMulti"
   ]
  },
  {
   "cell_type": "code",
   "execution_count": 9,
   "metadata": {},
   "outputs": [],
   "source": [
    "comb <- rbind.data.frame(power_sequential, power_multi, power_altMulti)\n",
    "comb$Power <- 100 * comb$masc_power\n",
    "comb$CI <- 100 * comb$masc_power_ci\n",
    "comb$context <- factor(c(\"Sequential\", \"Multiplexed\", \"Alternative multiplexed\"),\n",
    "                       levels = c(\"Sequential\", \"Multiplexed\", \"Alternative multiplexed\"))\n",
    "plotPal <- colorRampPalette(brewer.pal(9, 'Set1'))"
   ]
  },
  {
   "cell_type": "code",
   "execution_count": 10,
   "metadata": {},
   "outputs": [
    {
     "data": {
      "image/png": "[encoded data removed]",
      "text/plain": [
       "plot without title"
      ]
     },
     "metadata": {
      "image/png": {
       "height": 300,
       "width": 480
      }
     },
     "output_type": "display_data"
    }
   ],
   "source": [
    "fig.size(5,8)\n",
    "comb %>% sample_frac %>%\n",
    "    ggplot(aes(x = context, y = Power, fill = context)) +\n",
    "    geom_bar(stat = 'identity', position = position_dodge()) +\n",
    "    labs(title = 'Multiplexing designs', x = 'Context', col = 'Context') +\n",
    "    scale_fill_manual(values = plotPal(10), name = 'Context') +\n",
    "    geom_hline(yintercept = 5, col = 'purple', size = 1.2, linetype = 2) +\n",
    "    theme_classic() "
   ]
  },
  {
   "cell_type": "markdown",
   "metadata": {},
   "source": [
    "In this experimental context and with these parameters, the altnerative multiplexing study design actually provides noticeable power benefits. Generally, we've found that at normal/larger study sizes, the standard multiplexing and alternative multiplexing study designs tend to perform similar in terms of power. Furthermore, both multiplexing schemes yield more power than the sequential scheme. Finally, as expected, as batch effects increase, the benefits of multiplexing increase.\n",
    "\n",
    "More results can be found in the scPOST manuscript, which provide more comparisons between the sequential scheme and the alternative multiplexing scheme."
   ]
  },
  {
   "cell_type": "markdown",
   "metadata": {},
   "source": [
    "# Session information"
   ]
  },
  {
   "cell_type": "code",
   "execution_count": 28,
   "metadata": {},
   "outputs": [
    {
     "data": {
      "text/plain": [
       "R version 4.0.3 (2020-10-10)\n",
       "Platform: x86_64-conda-linux-gnu (64-bit)\n",
       "Running under: Red Hat Enterprise Linux Server release 6.5 (Santiago)\n",
       "\n",
       "Matrix products: default\n",
       "BLAS/LAPACK: /PHShome/nm455/miniconda3/envs/paraR4.0.3/lib/libopenblasp-r0.3.12.so\n",
       "\n",
       "Random number generation:\n",
       " RNG:     L'Ecuyer-CMRG \n",
       " Normal:  Inversion \n",
       " Sample:  Rejection \n",
       " \n",
       "locale:\n",
       " [1] LC_CTYPE=en_US.UTF-8       LC_NUMERIC=C              \n",
       " [3] LC_TIME=en_US.UTF-8        LC_COLLATE=en_US.UTF-8    \n",
       " [5] LC_MONETARY=en_US.UTF-8    LC_MESSAGES=en_US.UTF-8   \n",
       " [7] LC_PAPER=en_US.UTF-8       LC_NAME=C                 \n",
       " [9] LC_ADDRESS=C               LC_TELEPHONE=C            \n",
       "[11] LC_MEASUREMENT=en_US.UTF-8 LC_IDENTIFICATION=C       \n",
       "\n",
       "attached base packages:\n",
       "[1] stats     graphics  grDevices utils     datasets  methods   base     \n",
       "\n",
       "other attached packages:\n",
       "[1] patchwork_1.1.1    RColorBrewer_1.1-2 ggplot2_3.3.3      dplyr_1.0.4       \n",
       "[5] scpost_1.0        \n",
       "\n",
       "loaded via a namespace (and not attached):\n",
       "  [1] Seurat_4.0.0         Rtsne_0.15           minqa_1.2.4         \n",
       "  [4] colorspace_2.0-0     deldir_0.2-10        ellipsis_0.3.1      \n",
       "  [7] ggridges_0.5.3       IRdisplay_1.0        base64enc_0.1-3     \n",
       " [10] spatstat.data_2.1-0  farver_2.0.3         leiden_0.3.7        \n",
       " [13] listenv_0.8.0        ggrepel_0.9.1        fansi_0.4.2         \n",
       " [16] codetools_0.2-18     splines_4.0.3        polyclip_1.10-0     \n",
       " [19] IRkernel_1.1.1       jsonlite_1.7.2       nloptr_1.2.2.2      \n",
       " [22] ica_1.0-2            cluster_2.1.1        png_0.1-7           \n",
       " [25] uwot_0.1.10          shiny_1.6.0          sctransform_0.3.2   \n",
       " [28] compiler_4.0.3       httr_1.4.2           assertthat_0.2.1    \n",
       " [31] SeuratObject_4.0.0   Matrix_1.3-2         fastmap_1.1.0       \n",
       " [34] lazyeval_0.2.2       later_1.1.0.1        htmltools_0.5.1.1   \n",
       " [37] tools_4.0.3          igraph_1.2.6         gtable_0.3.0        \n",
       " [40] glue_1.4.2           RANN_2.6.1           reshape2_1.4.4      \n",
       " [43] Rcpp_1.0.6           spatstat_1.64-1      scattermore_0.7     \n",
       " [46] vctrs_0.3.6          nlme_3.1-152         lmtest_0.9-38       \n",
       " [49] stringr_1.4.0        globals_0.14.0       lme4_1.1-26         \n",
       " [52] mime_0.10            miniUI_0.1.1.1       lifecycle_1.0.0     \n",
       " [55] irlba_2.3.3          gtools_3.8.2         statmod_1.4.35      \n",
       " [58] goftest_1.2-2        future_1.21.0        MASS_7.3-53.1       \n",
       " [61] zoo_1.8-8            scales_1.1.1         promises_1.2.0.1    \n",
       " [64] spatstat.utils_2.1-0 parallel_4.0.3       reticulate_1.18     \n",
       " [67] pbapply_1.4-3        gridExtra_2.3        rpart_4.1-15        \n",
       " [70] stringi_1.5.3        boot_1.3-27          repr_1.1.3          \n",
       " [73] rlang_0.4.10         pkgconfig_2.0.3      matrixStats_0.58.0  \n",
       " [76] evaluate_0.14        lattice_0.20-41      ROCR_1.0-11         \n",
       " [79] purrr_0.3.4          tensor_1.5           labeling_0.4.2      \n",
       " [82] htmlwidgets_1.5.3    cowplot_1.1.1        tidyselect_1.1.0    \n",
       " [85] parallelly_1.23.0    RcppAnnoy_0.0.18     plyr_1.8.6          \n",
       " [88] magrittr_2.0.1       R6_2.5.0             generics_0.1.0      \n",
       " [91] pbdZMQ_0.3-5         DBI_1.1.1            withr_2.4.1         \n",
       " [94] pillar_1.5.0         mgcv_1.8-34          fitdistrplus_1.1-3  \n",
       " [97] survival_3.2-7       abind_1.4-5          tibble_3.0.6        \n",
       "[100] future.apply_1.7.0   crayon_1.4.1         uuid_0.1-4          \n",
       "[103] KernSmooth_2.23-18   utf8_1.1.4           plotly_4.9.3        \n",
       "[106] grid_4.0.3           data.table_1.14.0    digest_0.6.27       \n",
       "[109] xtable_1.8-4         tidyr_1.1.2          httpuv_1.5.5        \n",
       "[112] munsell_0.5.0        viridisLite_0.3.0   "
      ]
     },
     "metadata": {},
     "output_type": "display_data"
    }
   ],
   "source": [
    "sessionInfo()"
   ]
  },
  {
   "cell_type": "code",
   "execution_count": null,
   "metadata": {},
   "outputs": [],
   "source": []
  }
 ],
 "metadata": {
  "kernelspec": {
   "display_name": "R",
   "language": "R",
   "name": "ir"
  },
  "language_info": {
   "codemirror_mode": "r",
   "file_extension": ".r",
   "mimetype": "text/x-r-source",
   "name": "R",
   "pygments_lexer": "r",
   "version": "4.0.3"
  },
  "toc-showcode": false,
  "toc-showtags": false
 },
 "nbformat": 4,
 "nbformat_minor": 4
}
