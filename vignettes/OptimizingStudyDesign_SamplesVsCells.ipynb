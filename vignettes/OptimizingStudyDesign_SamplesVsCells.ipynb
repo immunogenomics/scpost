{
 "cells": [
  {
   "cell_type": "markdown",
   "metadata": {},
   "source": [
    "# Objective: Determine the optimal way to increase study size"
   ]
  },
  {
   "cell_type": "markdown",
   "metadata": {},
   "source": [
    "- scPOST allows users to change their simulated study design so that they may test how different study design choices affect their power.\n",
    "- One of the most common ways to increase power in a study is to increase the size. In scRNA-seq experiments, there a multiple ways to do this. One might imagine a trying to invest time in trying to obtain more samples in their study, or attempting to optimize their protocols to increase their cells per sample yield. \n",
    "\n",
    "Here, we'll simulate datasets from a rheumatoid arthritis (RA) dataset described in Zhang F, Wei K, Slowikowski K, Fonseka C, Rao DA, *et al.*, *Nature Immunol* (2020). The metadata and PC embeddings for this batch-corrected dataset is provided in the pre-loaded data: ra_HarmObj.\n",
    "\n",
    "In this tutorial, we'll:\n",
    "- Simulate datasets featuring study designs that contain a range of sample sizes and cells per sample.\n",
    "- Visualize how power increases as we increase the study size.\n",
    "\n",
    "**In this tutorial, we assume you have at least read the \"Getting Started\" tutorial, which provides more detail in creating scPOST workflows.**"
   ]
  },
  {
   "cell_type": "markdown",
   "metadata": {},
   "source": [
    "## Load packages"
   ]
  },
  {
   "cell_type": "code",
   "execution_count": 1,
   "metadata": {},
   "outputs": [],
   "source": [
    "suppressPackageStartupMessages({\n",
    "    # imports for analyses\n",
    "    library(scpost)\n",
    "    library(dplyr)\n",
    "    \n",
    "    # imports for figures\n",
    "    library(ggplot2)\n",
    "    library(viridis)\n",
    "    library(patchwork)\n",
    "})\n",
    "\n",
    "fig.size <- function (height, width) {\n",
    "    options(repr.plot.height = height, repr.plot.width = width)\n",
    "}"
   ]
  },
  {
   "cell_type": "markdown",
   "metadata": {},
   "source": [
    "# Step 1: Parameter estimation"
   ]
  },
  {
   "cell_type": "code",
   "execution_count": 2,
   "metadata": {},
   "outputs": [
    {
     "data": {
      "text/plain": [
       "   user  system elapsed \n",
       "  0.320   0.004   0.398 "
      ]
     },
     "metadata": {},
     "output_type": "display_data"
    }
   ],
   "source": [
    "system.time({\n",
    "    ra_freqEstimates <- estimateFreqVar(meta = ra_HarmObj$meta, clusCol = 'harmClus', sampleCol = 'sample', logCov = TRUE)\n",
    "})"
   ]
  },
  {
   "cell_type": "code",
   "execution_count": 3,
   "metadata": {},
   "outputs": [
    {
     "data": {
      "text/plain": [
       "   user  system elapsed \n",
       " 10.914   0.017  11.167 "
      ]
     },
     "metadata": {},
     "output_type": "display_data"
    }
   ],
   "source": [
    "system.time({\n",
    "    ra_pcEstimates <- estimatePCVar(pca = ra_HarmObj$embeddings, npcs = 20, meta = ra_HarmObj$meta, clusCol = 'harmClus',\n",
    "                                    sampleCol = 'sample', batchCol = 'batch')\n",
    "})"
   ]
  },
  {
   "cell_type": "markdown",
   "metadata": {},
   "source": [
    "# Step 2 & 3: Simulate datasets"
   ]
  },
  {
   "cell_type": "markdown",
   "metadata": {},
   "source": [
    "Here, we'll simulate a realistic dataset like we did in the \"Getting Started\" tutorial. However, we'll now vary how many cells per sample are simulated, or vary the sample size (in addition, we scale up the number of batches in the study with the number of samples). For simplicity, we only simulate 2 replicates forr each sample/cells per sample combination - in practice, we recommend simulating more replicates, which is often best done in parallel or by adapting this code into a script for an LSF. \n",
    "\n",
    "In this workflow: we created a folder for a particular sample size. We then simulated datasets where we we varied the number of cells per sample for a particular sample size and placed the data into the folder for that sample size. We then created folders for increased samples sizes and placed the relevant simulated datasets into the relevant sample size folder.\n",
    "\n",
    "**Note: we perform a differential abundance test, MASC, so simulation and testing time will increase as the study size increases.** For simplicity, we only test a range of 50, 100 and 200 cells per sample (many studies will contain a larger cells per sample). "
   ]
  },
  {
   "cell_type": "markdown",
   "metadata": {},
   "source": [
    "## 20 samples"
   ]
  },
  {
   "cell_type": "code",
   "execution_count": 27,
   "metadata": {},
   "outputs": [
    {
     "data": {
      "text/html": [
       "<style>\n",
       ".list-inline {list-style: none; margin:0; padding: 0}\n",
       ".list-inline>li {display: inline-block}\n",
       ".list-inline>li:not(:last-child)::after {content: \"\\00b7\"; padding: 0 .5ex}\n",
       "</style>\n",
       "<ol class=list-inline><li>15</li><li>14</li></ol>\n"
      ],
      "text/latex": [
       "\\begin{enumerate*}\n",
       "\\item 15\n",
       "\\item 14\n",
       "\\end{enumerate*}\n"
      ],
      "text/markdown": [
       "1. 15\n",
       "2. 14\n",
       "\n",
       "\n"
      ],
      "text/plain": [
       "[1] 15 14"
      ]
     },
     "metadata": {},
     "output_type": "display_data"
    },
    {
     "data": {
      "text/html": [
       "<table class=\"dataframe\">\n",
       "<caption>A data.frame: 2 × 14</caption>\n",
       "<thead>\n",
       "\t<tr><th></th><th scope=col>rep</th><th scope=col>ncases</th><th scope=col>nctrls</th><th scope=col>nbatches</th><th scope=col>b_scale</th><th scope=col>s_scale</th><th scope=col>cf_scale</th><th scope=col>clus</th><th scope=col>fc</th><th scope=col>res_use</th><th scope=col>ncells</th><th scope=col>save_path</th><th scope=col>cond_induce</th><th scope=col>seed</th></tr>\n",
       "\t<tr><th></th><th scope=col>&lt;int&gt;</th><th scope=col>&lt;dbl&gt;</th><th scope=col>&lt;dbl&gt;</th><th scope=col>&lt;dbl&gt;</th><th scope=col>&lt;dbl&gt;</th><th scope=col>&lt;dbl&gt;</th><th scope=col>&lt;dbl&gt;</th><th scope=col>&lt;fct&gt;</th><th scope=col>&lt;dbl&gt;</th><th scope=col>&lt;dbl&gt;</th><th scope=col>&lt;list&gt;</th><th scope=col>&lt;fct&gt;</th><th scope=col>&lt;chr&gt;</th><th scope=col>&lt;int&gt;</th></tr>\n",
       "</thead>\n",
       "<tbody>\n",
       "\t<tr><th scope=row>1</th><td>1</td><td>10</td><td>10</td><td>5</td><td>1</td><td>1</td><td>1</td><td>clus0</td><td>3</td><td>2</td><td>50, 50, 50, 50, 50, 50, 50, 50, 50, 50, 50, 50, 50, 50, 50, 50, 50, 50, 50, 50</td><td>/data/srlab1/nmillard/scpost/vignettes/scpostSims/cellsVsSamples/20samples/</td><td>cases</td><td> 265763406</td></tr>\n",
       "\t<tr><th scope=row>2</th><td>2</td><td>10</td><td>10</td><td>5</td><td>1</td><td>1</td><td>1</td><td>clus0</td><td>3</td><td>2</td><td>50, 50, 50, 50, 50, 50, 50, 50, 50, 50, 50, 50, 50, 50, 50, 50, 50, 50, 50, 50</td><td>/data/srlab1/nmillard/scpost/vignettes/scpostSims/cellsVsSamples/20samples/</td><td>cases</td><td>1113800433</td></tr>\n",
       "</tbody>\n",
       "</table>\n"
      ],
      "text/latex": [
       "A data.frame: 2 × 14\n",
       "\\begin{tabular}{r|llllllllllllll}\n",
       "  & rep & ncases & nctrls & nbatches & b\\_scale & s\\_scale & cf\\_scale & clus & fc & res\\_use & ncells & save\\_path & cond\\_induce & seed\\\\\n",
       "  & <int> & <dbl> & <dbl> & <dbl> & <dbl> & <dbl> & <dbl> & <fct> & <dbl> & <dbl> & <list> & <fct> & <chr> & <int>\\\\\n",
       "\\hline\n",
       "\t1 & 1 & 10 & 10 & 5 & 1 & 1 & 1 & clus0 & 3 & 2 & 50, 50, 50, 50, 50, 50, 50, 50, 50, 50, 50, 50, 50, 50, 50, 50, 50, 50, 50, 50 & /data/srlab1/nmillard/scpost/vignettes/scpostSims/cellsVsSamples/20samples/ & cases &  265763406\\\\\n",
       "\t2 & 2 & 10 & 10 & 5 & 1 & 1 & 1 & clus0 & 3 & 2 & 50, 50, 50, 50, 50, 50, 50, 50, 50, 50, 50, 50, 50, 50, 50, 50, 50, 50, 50, 50 & /data/srlab1/nmillard/scpost/vignettes/scpostSims/cellsVsSamples/20samples/ & cases & 1113800433\\\\\n",
       "\\end{tabular}\n"
      ],
      "text/markdown": [
       "\n",
       "A data.frame: 2 × 14\n",
       "\n",
       "| <!--/--> | rep &lt;int&gt; | ncases &lt;dbl&gt; | nctrls &lt;dbl&gt; | nbatches &lt;dbl&gt; | b_scale &lt;dbl&gt; | s_scale &lt;dbl&gt; | cf_scale &lt;dbl&gt; | clus &lt;fct&gt; | fc &lt;dbl&gt; | res_use &lt;dbl&gt; | ncells &lt;list&gt; | save_path &lt;fct&gt; | cond_induce &lt;chr&gt; | seed &lt;int&gt; |\n",
       "|---|---|---|---|---|---|---|---|---|---|---|---|---|---|---|\n",
       "| 1 | 1 | 10 | 10 | 5 | 1 | 1 | 1 | clus0 | 3 | 2 | 50, 50, 50, 50, 50, 50, 50, 50, 50, 50, 50, 50, 50, 50, 50, 50, 50, 50, 50, 50 | /data/srlab1/nmillard/scpost/vignettes/scpostSims/cellsVsSamples/20samples/ | cases |  265763406 |\n",
       "| 2 | 2 | 10 | 10 | 5 | 1 | 1 | 1 | clus0 | 3 | 2 | 50, 50, 50, 50, 50, 50, 50, 50, 50, 50, 50, 50, 50, 50, 50, 50, 50, 50, 50, 50 | /data/srlab1/nmillard/scpost/vignettes/scpostSims/cellsVsSamples/20samples/ | cases | 1113800433 |\n",
       "\n"
      ],
      "text/plain": [
       "  rep ncases nctrls nbatches b_scale s_scale cf_scale clus  fc res_use\n",
       "1 1   10     10     5        1       1       1        clus0 3  2      \n",
       "2 2   10     10     5        1       1       1        clus0 3  2      \n",
       "  ncells                                                                        \n",
       "1 50, 50, 50, 50, 50, 50, 50, 50, 50, 50, 50, 50, 50, 50, 50, 50, 50, 50, 50, 50\n",
       "2 50, 50, 50, 50, 50, 50, 50, 50, 50, 50, 50, 50, 50, 50, 50, 50, 50, 50, 50, 50\n",
       "  save_path                                                                  \n",
       "1 /data/srlab1/nmillard/scpost/vignettes/scpostSims/cellsVsSamples/20samples/\n",
       "2 /data/srlab1/nmillard/scpost/vignettes/scpostSims/cellsVsSamples/20samples/\n",
       "  cond_induce seed      \n",
       "1 cases        265763406\n",
       "2 cases       1113800433"
      ]
     },
     "metadata": {},
     "output_type": "display_data"
    }
   ],
   "source": [
    "set.seed(23)\n",
    "\n",
    "# Set the number of samples, number of cells per sample, and create batch structure\n",
    "ncases <- 10\n",
    "nctrls <- 10\n",
    "nbatches <- 5\n",
    "batchStructure <- distribSamples(ncases = ncases, nctrls = nctrls, nbatches = nbatches)\n",
    "\n",
    "# set range of cells per sample\n",
    "ncells_range <- c(50,100,200)\n",
    "ncells <- lapply(seq(ncells_range), function(x){\n",
    "    a <- rep(ncells_range[x], times = ncases + nctrls)\n",
    "    names(a) <- batchStructure$sample_names\n",
    "    return(a)\n",
    "})\n",
    "\n",
    "params <- expand.grid(\n",
    "    rep = seq(5), \n",
    "    ncases = ncases, \n",
    "    nctrls = nctrls, \n",
    "    nbatches = nbatches, \n",
    "    b_scale = 1, \n",
    "    s_scale = 1, \n",
    "    cf_scale = 1, \n",
    "    clus = \"clus0\", \n",
    "    fc = 3, \n",
    "    res_use = 2, \n",
    "    ncells = ncells,\n",
    "    save_path = file.path(getwd(), \"scpostSims/cellsVsSamples/20samples/\")\n",
    ")\n",
    "params$cond_induce = \"cases\"\n",
    "params$seed <- sample(.Machine$integer.max, size = nrow(params))\n",
    "params %>% dim\n",
    "params %>% head(2)"
   ]
  },
  {
   "cell_type": "code",
   "execution_count": 14,
   "metadata": {},
   "outputs": [
    {
     "name": "stderr",
     "output_type": "stream",
     "text": [
      "Simulated dataset at 2021-07-21 13:21:01\n",
      "\n",
      "Simulated dataset at 2021-07-21 13:21:03\n",
      "\n",
      "Simulated dataset at 2021-07-21 13:21:05\n",
      "\n",
      "Simulated dataset at 2021-07-21 13:21:06\n",
      "\n",
      "Simulated dataset at 2021-07-21 13:21:08\n",
      "\n",
      "Simulated dataset at 2021-07-21 13:21:12\n",
      "\n",
      "Simulated dataset at 2021-07-21 13:21:15\n",
      "\n",
      "Simulated dataset at 2021-07-21 13:21:18\n",
      "\n",
      "Simulated dataset at 2021-07-21 13:21:21\n",
      "\n",
      "Simulated dataset at 2021-07-21 13:21:24\n",
      "\n",
      "Simulated dataset at 2021-07-21 13:21:29\n",
      "\n",
      "Simulated dataset at 2021-07-21 13:21:34\n",
      "\n",
      "Simulated dataset at 2021-07-21 13:21:39\n",
      "\n",
      "Simulated dataset at 2021-07-21 13:21:45\n",
      "\n",
      "Simulated dataset at 2021-07-21 13:21:50\n",
      "\n"
     ]
    },
    {
     "data": {
      "text/html": [
       "<ol>\n",
       "\t<li>NULL</li>\n",
       "\t<li>NULL</li>\n",
       "\t<li>NULL</li>\n",
       "\t<li>NULL</li>\n",
       "\t<li>NULL</li>\n",
       "\t<li>NULL</li>\n",
       "\t<li>NULL</li>\n",
       "\t<li>NULL</li>\n",
       "\t<li>NULL</li>\n",
       "\t<li>NULL</li>\n",
       "\t<li>NULL</li>\n",
       "\t<li>NULL</li>\n",
       "\t<li>NULL</li>\n",
       "\t<li>NULL</li>\n",
       "\t<li>NULL</li>\n",
       "</ol>\n"
      ],
      "text/latex": [
       "\\begin{enumerate}\n",
       "\\item NULL\n",
       "\\item NULL\n",
       "\\item NULL\n",
       "\\item NULL\n",
       "\\item NULL\n",
       "\\item NULL\n",
       "\\item NULL\n",
       "\\item NULL\n",
       "\\item NULL\n",
       "\\item NULL\n",
       "\\item NULL\n",
       "\\item NULL\n",
       "\\item NULL\n",
       "\\item NULL\n",
       "\\item NULL\n",
       "\\end{enumerate}\n"
      ],
      "text/markdown": [
       "1. NULL\n",
       "2. NULL\n",
       "3. NULL\n",
       "4. NULL\n",
       "5. NULL\n",
       "6. NULL\n",
       "7. NULL\n",
       "8. NULL\n",
       "9. NULL\n",
       "10. NULL\n",
       "11. NULL\n",
       "12. NULL\n",
       "13. NULL\n",
       "14. NULL\n",
       "15. NULL\n",
       "\n",
       "\n"
      ],
      "text/plain": [
       "[[1]]\n",
       "NULL\n",
       "\n",
       "[[2]]\n",
       "NULL\n",
       "\n",
       "[[3]]\n",
       "NULL\n",
       "\n",
       "[[4]]\n",
       "NULL\n",
       "\n",
       "[[5]]\n",
       "NULL\n",
       "\n",
       "[[6]]\n",
       "NULL\n",
       "\n",
       "[[7]]\n",
       "NULL\n",
       "\n",
       "[[8]]\n",
       "NULL\n",
       "\n",
       "[[9]]\n",
       "NULL\n",
       "\n",
       "[[10]]\n",
       "NULL\n",
       "\n",
       "[[11]]\n",
       "NULL\n",
       "\n",
       "[[12]]\n",
       "NULL\n",
       "\n",
       "[[13]]\n",
       "NULL\n",
       "\n",
       "[[14]]\n",
       "NULL\n",
       "\n",
       "[[15]]\n",
       "NULL\n"
      ]
     },
     "metadata": {},
     "output_type": "display_data"
    }
   ],
   "source": [
    "suppressWarnings({\n",
    "    lapply(seq(nrow(params)), function(x){\n",
    "            simDataset.withMASC(\n",
    "                save_path = params[x, 'save_path'],\n",
    "                rep = params[x, 'rep'],\n",
    "                seed = params[x, 'seed'],\n",
    "                ncases = params[x, 'ncases'],\n",
    "                nctrls = params[x, 'nctrls'],\n",
    "                nbatches = params[x, 'nbatches'],\n",
    "                batchStructure = batchStructure,\n",
    "                ncells = params[x, 'ncells'][[1]],\n",
    "                centroids = ra_pcEstimates$centroids,\n",
    "                pc_cov_list = ra_pcEstimates$pc_cov_list,\n",
    "                batch_vars = ra_pcEstimates$batch_vars,\n",
    "                b_scale = params[x, 'b_scale'],\n",
    "                sample_vars = ra_pcEstimates$sample_vars,\n",
    "                s_scale = params[x, 's_scale'],\n",
    "                cfcov = ra_freqEstimates$cfcov,\n",
    "                cf_scale = params[x, 'cf_scale'],\n",
    "                meanFreqs = ra_freqEstimates$meanFreq,\n",
    "                clus = params[x, 'clus'],\n",
    "                fc = params[x, 'fc'],\n",
    "                cond_induce = params[x, 'cond_induce'],\n",
    "                res_use = params[x, 'res_use'], \n",
    "                mc.cores = 1,\n",
    "                clusterData = TRUE,\n",
    "                returnPCs = FALSE\n",
    "            )\n",
    "    })\n",
    "})"
   ]
  },
  {
   "cell_type": "markdown",
   "metadata": {},
   "source": [
    "## 40 samples"
   ]
  },
  {
   "cell_type": "markdown",
   "metadata": {},
   "source": [
    "Again, we create a folder for the 40-sample simulations and place them into that folder. As dataset size increases, the time it takes to simulate and perform differential abundance tests will also increase (differential abundance test tends to comprise the larger portion of computation time)."
   ]
  },
  {
   "cell_type": "code",
   "execution_count": 6,
   "metadata": {},
   "outputs": [],
   "source": [
    "set.seed(23)\n",
    "\n",
    "# Set the number of samples, number of cells per sample, and create batch structure\n",
    "ncases <- 20\n",
    "nctrls <- 20\n",
    "nbatches <- 10\n",
    "batchStructure <- distribSamples(ncases = ncases, nctrls = nctrls, nbatches = nbatches)\n",
    "\n",
    "# set range of cells per sample\n",
    "ncells_range <- c(50,100,200)\n",
    "ncells <- lapply(seq(ncells_range), function(x){\n",
    "    a <- rep(ncells_range[x], times = ncases + nctrls)\n",
    "    names(a) <- batchStructure$sample_names\n",
    "    return(a)\n",
    "})\n",
    "\n",
    "params2 <- expand.grid(\n",
    "    rep = seq(5), \n",
    "    ncases = ncases, \n",
    "    nctrls = nctrls, \n",
    "    nbatches = nbatches, \n",
    "    b_scale = 1, \n",
    "    s_scale = 1, \n",
    "    cf_scale = 1, \n",
    "    clus = \"clus0\", \n",
    "    fc = 3, \n",
    "    res_use = 2, \n",
    "    ncells = ncells,\n",
    "    save_path = file.path(getwd(), \"scpostSims/cellsVsSamples/40samples/\")\n",
    ")\n",
    "params2$cond_induce = \"cases\"\n",
    "params2$seed <- sample(.Machine$integer.max, size = nrow(params2))"
   ]
  },
  {
   "cell_type": "code",
   "execution_count": 7,
   "metadata": {},
   "outputs": [
    {
     "name": "stderr",
     "output_type": "stream",
     "text": [
      "Simulated dataset at 2021-07-21 13:15:52\n",
      "\n",
      "Simulated dataset at 2021-07-21 13:15:55\n",
      "\n",
      "Simulated dataset at 2021-07-21 13:15:58\n",
      "\n",
      "Simulated dataset at 2021-07-21 13:16:01\n",
      "\n",
      "Simulated dataset at 2021-07-21 13:16:04\n",
      "\n",
      "Simulated dataset at 2021-07-21 13:16:10\n",
      "\n",
      "Simulated dataset at 2021-07-21 13:16:15\n",
      "\n",
      "Simulated dataset at 2021-07-21 13:16:20\n",
      "\n",
      "Simulated dataset at 2021-07-21 13:16:25\n",
      "\n",
      "Simulated dataset at 2021-07-21 13:16:31\n",
      "\n",
      "Simulated dataset at 2021-07-21 13:16:40\n",
      "\n",
      "Simulated dataset at 2021-07-21 13:16:50\n",
      "\n",
      "Simulated dataset at 2021-07-21 13:17:00\n",
      "\n",
      "Simulated dataset at 2021-07-21 13:17:10\n",
      "\n",
      "Simulated dataset at 2021-07-21 13:17:19\n",
      "\n"
     ]
    },
    {
     "data": {
      "text/html": [
       "<ol>\n",
       "\t<li>NULL</li>\n",
       "\t<li>NULL</li>\n",
       "\t<li>NULL</li>\n",
       "\t<li>NULL</li>\n",
       "\t<li>NULL</li>\n",
       "\t<li>NULL</li>\n",
       "\t<li>NULL</li>\n",
       "\t<li>NULL</li>\n",
       "\t<li>NULL</li>\n",
       "\t<li>NULL</li>\n",
       "\t<li>NULL</li>\n",
       "\t<li>NULL</li>\n",
       "\t<li>NULL</li>\n",
       "\t<li>NULL</li>\n",
       "\t<li>NULL</li>\n",
       "</ol>\n"
      ],
      "text/latex": [
       "\\begin{enumerate}\n",
       "\\item NULL\n",
       "\\item NULL\n",
       "\\item NULL\n",
       "\\item NULL\n",
       "\\item NULL\n",
       "\\item NULL\n",
       "\\item NULL\n",
       "\\item NULL\n",
       "\\item NULL\n",
       "\\item NULL\n",
       "\\item NULL\n",
       "\\item NULL\n",
       "\\item NULL\n",
       "\\item NULL\n",
       "\\item NULL\n",
       "\\end{enumerate}\n"
      ],
      "text/markdown": [
       "1. NULL\n",
       "2. NULL\n",
       "3. NULL\n",
       "4. NULL\n",
       "5. NULL\n",
       "6. NULL\n",
       "7. NULL\n",
       "8. NULL\n",
       "9. NULL\n",
       "10. NULL\n",
       "11. NULL\n",
       "12. NULL\n",
       "13. NULL\n",
       "14. NULL\n",
       "15. NULL\n",
       "\n",
       "\n"
      ],
      "text/plain": [
       "[[1]]\n",
       "NULL\n",
       "\n",
       "[[2]]\n",
       "NULL\n",
       "\n",
       "[[3]]\n",
       "NULL\n",
       "\n",
       "[[4]]\n",
       "NULL\n",
       "\n",
       "[[5]]\n",
       "NULL\n",
       "\n",
       "[[6]]\n",
       "NULL\n",
       "\n",
       "[[7]]\n",
       "NULL\n",
       "\n",
       "[[8]]\n",
       "NULL\n",
       "\n",
       "[[9]]\n",
       "NULL\n",
       "\n",
       "[[10]]\n",
       "NULL\n",
       "\n",
       "[[11]]\n",
       "NULL\n",
       "\n",
       "[[12]]\n",
       "NULL\n",
       "\n",
       "[[13]]\n",
       "NULL\n",
       "\n",
       "[[14]]\n",
       "NULL\n",
       "\n",
       "[[15]]\n",
       "NULL\n"
      ]
     },
     "metadata": {},
     "output_type": "display_data"
    }
   ],
   "source": [
    "suppressWarnings({\n",
    "    lapply(seq(nrow(params2)), function(x){\n",
    "            simDataset.withMASC(\n",
    "                save_path = params2[x, 'save_path'],\n",
    "                rep = params2[x, 'rep'],\n",
    "                seed = params2[x, 'seed'],\n",
    "                ncases = params2[x, 'ncases'],\n",
    "                nctrls = params2[x, 'nctrls'],\n",
    "                nbatches = params2[x, 'nbatches'],\n",
    "                batchStructure = batchStructure,\n",
    "                ncells = params2[x, 'ncells'][[1]],\n",
    "                centroids = ra_pcEstimates$centroids,\n",
    "                pc_cov_list = ra_pcEstimates$pc_cov_list,\n",
    "                batch_vars = ra_pcEstimates$batch_vars,\n",
    "                b_scale = params2[x, 'b_scale'],\n",
    "                sample_vars = ra_pcEstimates$sample_vars,\n",
    "                s_scale = params2[x, 's_scale'],\n",
    "                cfcov = ra_freqEstimates$cfcov,\n",
    "                cf_scale = params2[x, 'cf_scale'],\n",
    "                meanFreqs = ra_freqEstimates$meanFreq,\n",
    "                clus = params2[x, 'clus'],\n",
    "                fc = params2[x, 'fc'],\n",
    "                cond_induce = params2[x, 'cond_induce'],\n",
    "                res_use = params2[x, 'res_use'], \n",
    "                mc.cores = 1,\n",
    "                clusterData = TRUE,\n",
    "                returnPCs = FALSE\n",
    "            )\n",
    "    })\n",
    "})"
   ]
  },
  {
   "cell_type": "markdown",
   "metadata": {},
   "source": [
    "## 80 samples"
   ]
  },
  {
   "cell_type": "markdown",
   "metadata": {},
   "source": [
    "Again, we create a folder for the 80-sample simulations and place them into that folder. As dataset size increases, the time it takes to simulate and perform differential abundance tests will also increase (differential abundance test tends to comprise the larger portion of computation time). These simulations took several minutes"
   ]
  },
  {
   "cell_type": "code",
   "execution_count": 8,
   "metadata": {},
   "outputs": [],
   "source": [
    "set.seed(23)\n",
    "\n",
    "# Set the number of samples, number of cells per sample, and create batch structure\n",
    "ncases <- 40\n",
    "nctrls <- 40\n",
    "nbatches <- 20\n",
    "batchStructure <- distribSamples(ncases = ncases, nctrls = nctrls, nbatches = nbatches)\n",
    "\n",
    "# set range of cells per sample\n",
    "ncells_range <- c(50,100,200)\n",
    "ncells <- lapply(seq(ncells_range), function(x){\n",
    "    a <- rep(ncells_range[x], times = ncases + nctrls)\n",
    "    names(a) <- batchStructure$sample_names\n",
    "    return(a)\n",
    "})\n",
    "\n",
    "params3 <- expand.grid(\n",
    "    rep = seq(5), \n",
    "    ncases = ncases, \n",
    "    nctrls = nctrls, \n",
    "    nbatches = nbatches, \n",
    "    b_scale = 1, \n",
    "    s_scale = 1, \n",
    "    cf_scale = 1, \n",
    "    clus = \"clus0\", \n",
    "    fc = 3, \n",
    "    res_use = 2, \n",
    "    ncells = ncells,\n",
    "    save_path = file.path(getwd(), \"scpostSims/cellsVsSamples/80samples/\")\n",
    ")\n",
    "params3$cond_induce = \"cases\"\n",
    "params3$seed <- sample(.Machine$integer.max, size = nrow(params3))"
   ]
  },
  {
   "cell_type": "code",
   "execution_count": 9,
   "metadata": {},
   "outputs": [
    {
     "name": "stderr",
     "output_type": "stream",
     "text": [
      "Simulated dataset at 2021-07-21 13:17:25\n",
      "\n",
      "Simulated dataset at 2021-07-21 13:17:31\n",
      "\n",
      "Simulated dataset at 2021-07-21 13:17:37\n",
      "\n",
      "Simulated dataset at 2021-07-21 13:17:43\n",
      "\n",
      "Simulated dataset at 2021-07-21 13:17:48\n",
      "\n",
      "Simulated dataset at 2021-07-21 13:17:59\n",
      "\n",
      "Simulated dataset at 2021-07-21 13:18:09\n",
      "\n",
      "Simulated dataset at 2021-07-21 13:18:19\n",
      "\n",
      "Simulated dataset at 2021-07-21 13:18:30\n",
      "\n",
      "Simulated dataset at 2021-07-21 13:18:41\n",
      "\n",
      "Simulated dataset at 2021-07-21 13:19:00\n",
      "\n",
      "Simulated dataset at 2021-07-21 13:19:20\n",
      "\n",
      "Simulated dataset at 2021-07-21 13:19:39\n",
      "\n",
      "Simulated dataset at 2021-07-21 13:19:59\n",
      "\n",
      "Simulated dataset at 2021-07-21 13:20:20\n",
      "\n"
     ]
    },
    {
     "data": {
      "text/html": [
       "<ol>\n",
       "\t<li>NULL</li>\n",
       "\t<li>NULL</li>\n",
       "\t<li>NULL</li>\n",
       "\t<li>NULL</li>\n",
       "\t<li>NULL</li>\n",
       "\t<li>NULL</li>\n",
       "\t<li>NULL</li>\n",
       "\t<li>NULL</li>\n",
       "\t<li>NULL</li>\n",
       "\t<li>NULL</li>\n",
       "\t<li>NULL</li>\n",
       "\t<li>NULL</li>\n",
       "\t<li>NULL</li>\n",
       "\t<li>NULL</li>\n",
       "\t<li>NULL</li>\n",
       "</ol>\n"
      ],
      "text/latex": [
       "\\begin{enumerate}\n",
       "\\item NULL\n",
       "\\item NULL\n",
       "\\item NULL\n",
       "\\item NULL\n",
       "\\item NULL\n",
       "\\item NULL\n",
       "\\item NULL\n",
       "\\item NULL\n",
       "\\item NULL\n",
       "\\item NULL\n",
       "\\item NULL\n",
       "\\item NULL\n",
       "\\item NULL\n",
       "\\item NULL\n",
       "\\item NULL\n",
       "\\end{enumerate}\n"
      ],
      "text/markdown": [
       "1. NULL\n",
       "2. NULL\n",
       "3. NULL\n",
       "4. NULL\n",
       "5. NULL\n",
       "6. NULL\n",
       "7. NULL\n",
       "8. NULL\n",
       "9. NULL\n",
       "10. NULL\n",
       "11. NULL\n",
       "12. NULL\n",
       "13. NULL\n",
       "14. NULL\n",
       "15. NULL\n",
       "\n",
       "\n"
      ],
      "text/plain": [
       "[[1]]\n",
       "NULL\n",
       "\n",
       "[[2]]\n",
       "NULL\n",
       "\n",
       "[[3]]\n",
       "NULL\n",
       "\n",
       "[[4]]\n",
       "NULL\n",
       "\n",
       "[[5]]\n",
       "NULL\n",
       "\n",
       "[[6]]\n",
       "NULL\n",
       "\n",
       "[[7]]\n",
       "NULL\n",
       "\n",
       "[[8]]\n",
       "NULL\n",
       "\n",
       "[[9]]\n",
       "NULL\n",
       "\n",
       "[[10]]\n",
       "NULL\n",
       "\n",
       "[[11]]\n",
       "NULL\n",
       "\n",
       "[[12]]\n",
       "NULL\n",
       "\n",
       "[[13]]\n",
       "NULL\n",
       "\n",
       "[[14]]\n",
       "NULL\n",
       "\n",
       "[[15]]\n",
       "NULL\n"
      ]
     },
     "metadata": {},
     "output_type": "display_data"
    }
   ],
   "source": [
    "suppressWarnings({\n",
    "    lapply(seq(nrow(params3)), function(x){\n",
    "            simDataset.withMASC(\n",
    "                save_path = params3[x, 'save_path'],\n",
    "                rep = params3[x, 'rep'],\n",
    "                seed = params3[x, 'seed'],\n",
    "                ncases = params3[x, 'ncases'],\n",
    "                nctrls = params3[x, 'nctrls'],\n",
    "                nbatches = params3[x, 'nbatches'],\n",
    "                batchStructure = batchStructure,\n",
    "                ncells = params3[x, 'ncells'][[1]],\n",
    "                centroids = ra_pcEstimates$centroids,\n",
    "                pc_cov_list = ra_pcEstimates$pc_cov_list,\n",
    "                batch_vars = ra_pcEstimates$batch_vars,\n",
    "                b_scale = params3[x, 'b_scale'],\n",
    "                sample_vars = ra_pcEstimates$sample_vars,\n",
    "                s_scale = params3[x, 's_scale'],\n",
    "                cfcov = ra_freqEstimates$cfcov,\n",
    "                cf_scale = params3[x, 'cf_scale'],\n",
    "                meanFreqs = ra_freqEstimates$meanFreq,\n",
    "                clus = params3[x, 'clus'],\n",
    "                fc = params3[x, 'fc'],\n",
    "                cond_induce = params3[x, 'cond_induce'],\n",
    "                res_use = params3[x, 'res_use'], \n",
    "                mc.cores = 1,\n",
    "                clusterData = TRUE,\n",
    "                returnPCs = FALSE\n",
    "            )\n",
    "    })\n",
    "})"
   ]
  },
  {
   "cell_type": "markdown",
   "metadata": {},
   "source": [
    "# Load simulated datasets and calculate power"
   ]
  },
  {
   "cell_type": "code",
   "execution_count": 18,
   "metadata": {},
   "outputs": [
    {
     "data": {
      "text/html": [
       "15"
      ],
      "text/latex": [
       "15"
      ],
      "text/markdown": [
       "15"
      ],
      "text/plain": [
       "[1] 15"
      ]
     },
     "metadata": {},
     "output_type": "display_data"
    },
    {
     "data": {
      "text/html": [
       "<table class=\"dataframe\">\n",
       "<caption>A data.frame: 3 × 11</caption>\n",
       "<thead>\n",
       "\t<tr><th scope=col>ind_fc</th><th scope=col>ncases</th><th scope=col>nctrls</th><th scope=col>nsamples</th><th scope=col>ncells</th><th scope=col>bscale</th><th scope=col>sscale</th><th scope=col>cfscale</th><th scope=col>trials</th><th scope=col>masc_power</th><th scope=col>masc_power_ci</th></tr>\n",
       "\t<tr><th scope=col>&lt;fct&gt;</th><th scope=col>&lt;fct&gt;</th><th scope=col>&lt;fct&gt;</th><th scope=col>&lt;fct&gt;</th><th scope=col>&lt;fct&gt;</th><th scope=col>&lt;fct&gt;</th><th scope=col>&lt;fct&gt;</th><th scope=col>&lt;fct&gt;</th><th scope=col>&lt;int&gt;</th><th scope=col>&lt;dbl&gt;</th><th scope=col>&lt;dbl&gt;</th></tr>\n",
       "</thead>\n",
       "<tbody>\n",
       "\t<tr><td>3</td><td>10</td><td>10</td><td>20</td><td>50 </td><td>1</td><td>1</td><td>1</td><td>5</td><td>0.2</td><td>0.3506155</td></tr>\n",
       "\t<tr><td>3</td><td>10</td><td>10</td><td>20</td><td>100</td><td>1</td><td>1</td><td>1</td><td>5</td><td>0.4</td><td>0.4294145</td></tr>\n",
       "\t<tr><td>3</td><td>10</td><td>10</td><td>20</td><td>200</td><td>1</td><td>1</td><td>1</td><td>5</td><td>0.4</td><td>0.4294145</td></tr>\n",
       "</tbody>\n",
       "</table>\n"
      ],
      "text/latex": [
       "A data.frame: 3 × 11\n",
       "\\begin{tabular}{lllllllllll}\n",
       " ind\\_fc & ncases & nctrls & nsamples & ncells & bscale & sscale & cfscale & trials & masc\\_power & masc\\_power\\_ci\\\\\n",
       " <fct> & <fct> & <fct> & <fct> & <fct> & <fct> & <fct> & <fct> & <int> & <dbl> & <dbl>\\\\\n",
       "\\hline\n",
       "\t 3 & 10 & 10 & 20 & 50  & 1 & 1 & 1 & 5 & 0.2 & 0.3506155\\\\\n",
       "\t 3 & 10 & 10 & 20 & 100 & 1 & 1 & 1 & 5 & 0.4 & 0.4294145\\\\\n",
       "\t 3 & 10 & 10 & 20 & 200 & 1 & 1 & 1 & 5 & 0.4 & 0.4294145\\\\\n",
       "\\end{tabular}\n"
      ],
      "text/markdown": [
       "\n",
       "A data.frame: 3 × 11\n",
       "\n",
       "| ind_fc &lt;fct&gt; | ncases &lt;fct&gt; | nctrls &lt;fct&gt; | nsamples &lt;fct&gt; | ncells &lt;fct&gt; | bscale &lt;fct&gt; | sscale &lt;fct&gt; | cfscale &lt;fct&gt; | trials &lt;int&gt; | masc_power &lt;dbl&gt; | masc_power_ci &lt;dbl&gt; |\n",
       "|---|---|---|---|---|---|---|---|---|---|---|\n",
       "| 3 | 10 | 10 | 20 | 50  | 1 | 1 | 1 | 5 | 0.2 | 0.3506155 |\n",
       "| 3 | 10 | 10 | 20 | 100 | 1 | 1 | 1 | 5 | 0.4 | 0.4294145 |\n",
       "| 3 | 10 | 10 | 20 | 200 | 1 | 1 | 1 | 5 | 0.4 | 0.4294145 |\n",
       "\n"
      ],
      "text/plain": [
       "  ind_fc ncases nctrls nsamples ncells bscale sscale cfscale trials masc_power\n",
       "1 3      10     10     20       50     1      1      1       5      0.2       \n",
       "2 3      10     10     20       100    1      1      1       5      0.4       \n",
       "3 3      10     10     20       200    1      1      1       5      0.4       \n",
       "  masc_power_ci\n",
       "1 0.3506155    \n",
       "2 0.4294145    \n",
       "3 0.4294145    "
      ]
     },
     "metadata": {},
     "output_type": "display_data"
    }
   ],
   "source": [
    "dir_20samples <- file.path(getwd(), \"scpostSims/cellsVsSamples/20samples/\")\n",
    "filenames_20samples <- list.files(path = dir_20samples,\n",
    "                                  full.names = T) %>% basename\n",
    "resTables_20samples <- lapply(filenames_20samples, function(x){\n",
    "        readRDS(file.path(dir_20samples, x))[['res']]\n",
    "})\n",
    "\n",
    "power_20samples <- getPowerFromRes(\n",
    "    resFiles = filenames_20samples,\n",
    "    resTables = resTables_20samples,\n",
    "    threshold = 0.05,\n",
    "    z = 1.96,\n",
    "    stratByClus = FALSE\n",
    ")\n",
    "resTables_20samples %>% length\n",
    "power_20samples"
   ]
  },
  {
   "cell_type": "code",
   "execution_count": 19,
   "metadata": {},
   "outputs": [
    {
     "data": {
      "text/html": [
       "15"
      ],
      "text/latex": [
       "15"
      ],
      "text/markdown": [
       "15"
      ],
      "text/plain": [
       "[1] 15"
      ]
     },
     "metadata": {},
     "output_type": "display_data"
    },
    {
     "data": {
      "text/html": [
       "<table class=\"dataframe\">\n",
       "<caption>A data.frame: 3 × 11</caption>\n",
       "<thead>\n",
       "\t<tr><th scope=col>ind_fc</th><th scope=col>ncases</th><th scope=col>nctrls</th><th scope=col>nsamples</th><th scope=col>ncells</th><th scope=col>bscale</th><th scope=col>sscale</th><th scope=col>cfscale</th><th scope=col>trials</th><th scope=col>masc_power</th><th scope=col>masc_power_ci</th></tr>\n",
       "\t<tr><th scope=col>&lt;fct&gt;</th><th scope=col>&lt;fct&gt;</th><th scope=col>&lt;fct&gt;</th><th scope=col>&lt;fct&gt;</th><th scope=col>&lt;fct&gt;</th><th scope=col>&lt;fct&gt;</th><th scope=col>&lt;fct&gt;</th><th scope=col>&lt;fct&gt;</th><th scope=col>&lt;int&gt;</th><th scope=col>&lt;dbl&gt;</th><th scope=col>&lt;dbl&gt;</th></tr>\n",
       "</thead>\n",
       "<tbody>\n",
       "\t<tr><td>3</td><td>20</td><td>20</td><td>40</td><td>50 </td><td>1</td><td>1</td><td>1</td><td>5</td><td>0.6</td><td>0.4294145</td></tr>\n",
       "\t<tr><td>3</td><td>20</td><td>20</td><td>40</td><td>100</td><td>1</td><td>1</td><td>1</td><td>5</td><td>0.8</td><td>0.3506155</td></tr>\n",
       "\t<tr><td>3</td><td>20</td><td>20</td><td>40</td><td>200</td><td>1</td><td>1</td><td>1</td><td>5</td><td>0.8</td><td>0.3506155</td></tr>\n",
       "</tbody>\n",
       "</table>\n"
      ],
      "text/latex": [
       "A data.frame: 3 × 11\n",
       "\\begin{tabular}{lllllllllll}\n",
       " ind\\_fc & ncases & nctrls & nsamples & ncells & bscale & sscale & cfscale & trials & masc\\_power & masc\\_power\\_ci\\\\\n",
       " <fct> & <fct> & <fct> & <fct> & <fct> & <fct> & <fct> & <fct> & <int> & <dbl> & <dbl>\\\\\n",
       "\\hline\n",
       "\t 3 & 20 & 20 & 40 & 50  & 1 & 1 & 1 & 5 & 0.6 & 0.4294145\\\\\n",
       "\t 3 & 20 & 20 & 40 & 100 & 1 & 1 & 1 & 5 & 0.8 & 0.3506155\\\\\n",
       "\t 3 & 20 & 20 & 40 & 200 & 1 & 1 & 1 & 5 & 0.8 & 0.3506155\\\\\n",
       "\\end{tabular}\n"
      ],
      "text/markdown": [
       "\n",
       "A data.frame: 3 × 11\n",
       "\n",
       "| ind_fc &lt;fct&gt; | ncases &lt;fct&gt; | nctrls &lt;fct&gt; | nsamples &lt;fct&gt; | ncells &lt;fct&gt; | bscale &lt;fct&gt; | sscale &lt;fct&gt; | cfscale &lt;fct&gt; | trials &lt;int&gt; | masc_power &lt;dbl&gt; | masc_power_ci &lt;dbl&gt; |\n",
       "|---|---|---|---|---|---|---|---|---|---|---|\n",
       "| 3 | 20 | 20 | 40 | 50  | 1 | 1 | 1 | 5 | 0.6 | 0.4294145 |\n",
       "| 3 | 20 | 20 | 40 | 100 | 1 | 1 | 1 | 5 | 0.8 | 0.3506155 |\n",
       "| 3 | 20 | 20 | 40 | 200 | 1 | 1 | 1 | 5 | 0.8 | 0.3506155 |\n",
       "\n"
      ],
      "text/plain": [
       "  ind_fc ncases nctrls nsamples ncells bscale sscale cfscale trials masc_power\n",
       "1 3      20     20     40       50     1      1      1       5      0.6       \n",
       "2 3      20     20     40       100    1      1      1       5      0.8       \n",
       "3 3      20     20     40       200    1      1      1       5      0.8       \n",
       "  masc_power_ci\n",
       "1 0.4294145    \n",
       "2 0.3506155    \n",
       "3 0.3506155    "
      ]
     },
     "metadata": {},
     "output_type": "display_data"
    }
   ],
   "source": [
    "dir_40samples <- file.path(getwd(), \"scpostSims/cellsVsSamples/40samples/\")\n",
    "filenames_40samples <- list.files(path = dir_40samples,\n",
    "                                  full.names = T) %>% basename\n",
    "resTables_40samples <- lapply(filenames_40samples, function(x){\n",
    "        readRDS(file.path(dir_40samples, x))[['res']]\n",
    "})\n",
    "\n",
    "power_40samples <- getPowerFromRes(\n",
    "    resFiles = filenames_40samples,\n",
    "    resTables = resTables_40samples,\n",
    "    threshold = 0.05,\n",
    "    z = 1.96,\n",
    "    stratByClus = FALSE\n",
    ")\n",
    "resTables_40samples %>% length\n",
    "power_40samples"
   ]
  },
  {
   "cell_type": "code",
   "execution_count": 20,
   "metadata": {},
   "outputs": [
    {
     "data": {
      "text/html": [
       "15"
      ],
      "text/latex": [
       "15"
      ],
      "text/markdown": [
       "15"
      ],
      "text/plain": [
       "[1] 15"
      ]
     },
     "metadata": {},
     "output_type": "display_data"
    },
    {
     "data": {
      "text/html": [
       "<table class=\"dataframe\">\n",
       "<caption>A data.frame: 3 × 11</caption>\n",
       "<thead>\n",
       "\t<tr><th scope=col>ind_fc</th><th scope=col>ncases</th><th scope=col>nctrls</th><th scope=col>nsamples</th><th scope=col>ncells</th><th scope=col>bscale</th><th scope=col>sscale</th><th scope=col>cfscale</th><th scope=col>trials</th><th scope=col>masc_power</th><th scope=col>masc_power_ci</th></tr>\n",
       "\t<tr><th scope=col>&lt;fct&gt;</th><th scope=col>&lt;fct&gt;</th><th scope=col>&lt;fct&gt;</th><th scope=col>&lt;fct&gt;</th><th scope=col>&lt;fct&gt;</th><th scope=col>&lt;fct&gt;</th><th scope=col>&lt;fct&gt;</th><th scope=col>&lt;fct&gt;</th><th scope=col>&lt;int&gt;</th><th scope=col>&lt;dbl&gt;</th><th scope=col>&lt;dbl&gt;</th></tr>\n",
       "</thead>\n",
       "<tbody>\n",
       "\t<tr><td>3</td><td>40</td><td>40</td><td>80</td><td>50 </td><td>1</td><td>1</td><td>1</td><td>5</td><td>1.0</td><td>0.0000000</td></tr>\n",
       "\t<tr><td>3</td><td>40</td><td>40</td><td>80</td><td>100</td><td>1</td><td>1</td><td>1</td><td>5</td><td>0.8</td><td>0.3506155</td></tr>\n",
       "\t<tr><td>3</td><td>40</td><td>40</td><td>80</td><td>200</td><td>1</td><td>1</td><td>1</td><td>5</td><td>1.0</td><td>0.0000000</td></tr>\n",
       "</tbody>\n",
       "</table>\n"
      ],
      "text/latex": [
       "A data.frame: 3 × 11\n",
       "\\begin{tabular}{lllllllllll}\n",
       " ind\\_fc & ncases & nctrls & nsamples & ncells & bscale & sscale & cfscale & trials & masc\\_power & masc\\_power\\_ci\\\\\n",
       " <fct> & <fct> & <fct> & <fct> & <fct> & <fct> & <fct> & <fct> & <int> & <dbl> & <dbl>\\\\\n",
       "\\hline\n",
       "\t 3 & 40 & 40 & 80 & 50  & 1 & 1 & 1 & 5 & 1.0 & 0.0000000\\\\\n",
       "\t 3 & 40 & 40 & 80 & 100 & 1 & 1 & 1 & 5 & 0.8 & 0.3506155\\\\\n",
       "\t 3 & 40 & 40 & 80 & 200 & 1 & 1 & 1 & 5 & 1.0 & 0.0000000\\\\\n",
       "\\end{tabular}\n"
      ],
      "text/markdown": [
       "\n",
       "A data.frame: 3 × 11\n",
       "\n",
       "| ind_fc &lt;fct&gt; | ncases &lt;fct&gt; | nctrls &lt;fct&gt; | nsamples &lt;fct&gt; | ncells &lt;fct&gt; | bscale &lt;fct&gt; | sscale &lt;fct&gt; | cfscale &lt;fct&gt; | trials &lt;int&gt; | masc_power &lt;dbl&gt; | masc_power_ci &lt;dbl&gt; |\n",
       "|---|---|---|---|---|---|---|---|---|---|---|\n",
       "| 3 | 40 | 40 | 80 | 50  | 1 | 1 | 1 | 5 | 1.0 | 0.0000000 |\n",
       "| 3 | 40 | 40 | 80 | 100 | 1 | 1 | 1 | 5 | 0.8 | 0.3506155 |\n",
       "| 3 | 40 | 40 | 80 | 200 | 1 | 1 | 1 | 5 | 1.0 | 0.0000000 |\n",
       "\n"
      ],
      "text/plain": [
       "  ind_fc ncases nctrls nsamples ncells bscale sscale cfscale trials masc_power\n",
       "1 3      40     40     80       50     1      1      1       5      1.0       \n",
       "2 3      40     40     80       100    1      1      1       5      0.8       \n",
       "3 3      40     40     80       200    1      1      1       5      1.0       \n",
       "  masc_power_ci\n",
       "1 0.0000000    \n",
       "2 0.3506155    \n",
       "3 0.0000000    "
      ]
     },
     "metadata": {},
     "output_type": "display_data"
    }
   ],
   "source": [
    "dir_80samples <- file.path(getwd(), \"scpostSims/cellsVsSamples/80samples/\")\n",
    "filenames_80samples <- list.files(path = dir_80samples,\n",
    "                                  full.names = T) %>% basename\n",
    "resTables_80samples <- lapply(filenames_80samples, function(x){\n",
    "        readRDS(file.path(dir_80samples, x))[['res']]\n",
    "})\n",
    "\n",
    "power_80samples <- getPowerFromRes(\n",
    "    resFiles = filenames_80samples,\n",
    "    resTables = resTables_80samples,\n",
    "    threshold = 0.05,\n",
    "    z = 1.96,\n",
    "    stratByClus = FALSE\n",
    ")\n",
    "resTables_80samples %>% length\n",
    "power_80samples"
   ]
  },
  {
   "cell_type": "markdown",
   "metadata": {},
   "source": [
    "## Visualize power as study size increases"
   ]
  },
  {
   "cell_type": "code",
   "execution_count": 23,
   "metadata": {},
   "outputs": [
    {
     "data": {
      "text/html": [
       "<table class=\"dataframe\">\n",
       "<caption>A data.frame: 6 × 13</caption>\n",
       "<thead>\n",
       "\t<tr><th></th><th scope=col>ind_fc</th><th scope=col>ncases</th><th scope=col>nctrls</th><th scope=col>nsamples</th><th scope=col>ncells</th><th scope=col>bscale</th><th scope=col>sscale</th><th scope=col>cfscale</th><th scope=col>trials</th><th scope=col>masc_power</th><th scope=col>masc_power_ci</th><th scope=col>Power</th><th scope=col>CI</th></tr>\n",
       "\t<tr><th></th><th scope=col>&lt;fct&gt;</th><th scope=col>&lt;fct&gt;</th><th scope=col>&lt;fct&gt;</th><th scope=col>&lt;fct&gt;</th><th scope=col>&lt;fct&gt;</th><th scope=col>&lt;fct&gt;</th><th scope=col>&lt;fct&gt;</th><th scope=col>&lt;fct&gt;</th><th scope=col>&lt;int&gt;</th><th scope=col>&lt;dbl&gt;</th><th scope=col>&lt;dbl&gt;</th><th scope=col>&lt;dbl&gt;</th><th scope=col>&lt;dbl&gt;</th></tr>\n",
       "</thead>\n",
       "<tbody>\n",
       "\t<tr><th scope=row>1</th><td>3</td><td>10</td><td>10</td><td>20</td><td>50 </td><td>1</td><td>1</td><td>1</td><td>5</td><td>0.2</td><td>0.3506155</td><td>20</td><td>35.06155</td></tr>\n",
       "\t<tr><th scope=row>2</th><td>3</td><td>10</td><td>10</td><td>20</td><td>100</td><td>1</td><td>1</td><td>1</td><td>5</td><td>0.4</td><td>0.4294145</td><td>40</td><td>42.94145</td></tr>\n",
       "\t<tr><th scope=row>3</th><td>3</td><td>10</td><td>10</td><td>20</td><td>200</td><td>1</td><td>1</td><td>1</td><td>5</td><td>0.4</td><td>0.4294145</td><td>40</td><td>42.94145</td></tr>\n",
       "\t<tr><th scope=row>4</th><td>3</td><td>20</td><td>20</td><td>40</td><td>50 </td><td>1</td><td>1</td><td>1</td><td>5</td><td>0.6</td><td>0.4294145</td><td>60</td><td>42.94145</td></tr>\n",
       "\t<tr><th scope=row>5</th><td>3</td><td>20</td><td>20</td><td>40</td><td>100</td><td>1</td><td>1</td><td>1</td><td>5</td><td>0.8</td><td>0.3506155</td><td>80</td><td>35.06155</td></tr>\n",
       "\t<tr><th scope=row>6</th><td>3</td><td>20</td><td>20</td><td>40</td><td>200</td><td>1</td><td>1</td><td>1</td><td>5</td><td>0.8</td><td>0.3506155</td><td>80</td><td>35.06155</td></tr>\n",
       "</tbody>\n",
       "</table>\n"
      ],
      "text/latex": [
       "A data.frame: 6 × 13\n",
       "\\begin{tabular}{r|lllllllllllll}\n",
       "  & ind\\_fc & ncases & nctrls & nsamples & ncells & bscale & sscale & cfscale & trials & masc\\_power & masc\\_power\\_ci & Power & CI\\\\\n",
       "  & <fct> & <fct> & <fct> & <fct> & <fct> & <fct> & <fct> & <fct> & <int> & <dbl> & <dbl> & <dbl> & <dbl>\\\\\n",
       "\\hline\n",
       "\t1 & 3 & 10 & 10 & 20 & 50  & 1 & 1 & 1 & 5 & 0.2 & 0.3506155 & 20 & 35.06155\\\\\n",
       "\t2 & 3 & 10 & 10 & 20 & 100 & 1 & 1 & 1 & 5 & 0.4 & 0.4294145 & 40 & 42.94145\\\\\n",
       "\t3 & 3 & 10 & 10 & 20 & 200 & 1 & 1 & 1 & 5 & 0.4 & 0.4294145 & 40 & 42.94145\\\\\n",
       "\t4 & 3 & 20 & 20 & 40 & 50  & 1 & 1 & 1 & 5 & 0.6 & 0.4294145 & 60 & 42.94145\\\\\n",
       "\t5 & 3 & 20 & 20 & 40 & 100 & 1 & 1 & 1 & 5 & 0.8 & 0.3506155 & 80 & 35.06155\\\\\n",
       "\t6 & 3 & 20 & 20 & 40 & 200 & 1 & 1 & 1 & 5 & 0.8 & 0.3506155 & 80 & 35.06155\\\\\n",
       "\\end{tabular}\n"
      ],
      "text/markdown": [
       "\n",
       "A data.frame: 6 × 13\n",
       "\n",
       "| <!--/--> | ind_fc &lt;fct&gt; | ncases &lt;fct&gt; | nctrls &lt;fct&gt; | nsamples &lt;fct&gt; | ncells &lt;fct&gt; | bscale &lt;fct&gt; | sscale &lt;fct&gt; | cfscale &lt;fct&gt; | trials &lt;int&gt; | masc_power &lt;dbl&gt; | masc_power_ci &lt;dbl&gt; | Power &lt;dbl&gt; | CI &lt;dbl&gt; |\n",
       "|---|---|---|---|---|---|---|---|---|---|---|---|---|---|\n",
       "| 1 | 3 | 10 | 10 | 20 | 50  | 1 | 1 | 1 | 5 | 0.2 | 0.3506155 | 20 | 35.06155 |\n",
       "| 2 | 3 | 10 | 10 | 20 | 100 | 1 | 1 | 1 | 5 | 0.4 | 0.4294145 | 40 | 42.94145 |\n",
       "| 3 | 3 | 10 | 10 | 20 | 200 | 1 | 1 | 1 | 5 | 0.4 | 0.4294145 | 40 | 42.94145 |\n",
       "| 4 | 3 | 20 | 20 | 40 | 50  | 1 | 1 | 1 | 5 | 0.6 | 0.4294145 | 60 | 42.94145 |\n",
       "| 5 | 3 | 20 | 20 | 40 | 100 | 1 | 1 | 1 | 5 | 0.8 | 0.3506155 | 80 | 35.06155 |\n",
       "| 6 | 3 | 20 | 20 | 40 | 200 | 1 | 1 | 1 | 5 | 0.8 | 0.3506155 | 80 | 35.06155 |\n",
       "\n"
      ],
      "text/plain": [
       "  ind_fc ncases nctrls nsamples ncells bscale sscale cfscale trials masc_power\n",
       "1 3      10     10     20       50     1      1      1       5      0.2       \n",
       "2 3      10     10     20       100    1      1      1       5      0.4       \n",
       "3 3      10     10     20       200    1      1      1       5      0.4       \n",
       "4 3      20     20     40       50     1      1      1       5      0.6       \n",
       "5 3      20     20     40       100    1      1      1       5      0.8       \n",
       "6 3      20     20     40       200    1      1      1       5      0.8       \n",
       "  masc_power_ci Power CI      \n",
       "1 0.3506155     20    35.06155\n",
       "2 0.4294145     40    42.94145\n",
       "3 0.4294145     40    42.94145\n",
       "4 0.4294145     60    42.94145\n",
       "5 0.3506155     80    35.06155\n",
       "6 0.3506155     80    35.06155"
      ]
     },
     "metadata": {},
     "output_type": "display_data"
    }
   ],
   "source": [
    "comb <- rbind.data.frame(power_20samples, power_40samples, power_80samples)\n",
    "comb$Power <- 100 * comb$masc_power\n",
    "comb$CI <- 100 * comb$masc_power_ci\n",
    "comb %>% head\n",
    "saveRDS(comb, file.path(getwd(), \"samplesVsCells.rds\"))"
   ]
  },
  {
   "cell_type": "code",
   "execution_count": 25,
   "metadata": {},
   "outputs": [
    {
     "data": {
      "image/png": "[encoded data removed]",
      "text/plain": [
       "plot without title"
      ]
     },
     "metadata": {
      "image/png": {
       "height": 300,
       "width": 420
      }
     },
     "output_type": "display_data"
    }
   ],
   "source": [
    "fig.size(5,7)\n",
    "comb <- readRDS(file.path(getwd(), \"samplesVsCells.rds\"))\n",
    "comb %>% sample_frac %>%\n",
    "    ggplot(aes(x = ncells, y = nsamples, fill = Power)) +\n",
    "    geom_tile() +\n",
    "    scale_fill_viridis(limits = c(0,100)) +\n",
    "    labs(title = 'Samples vs. cells per sample', y = 'Number of samples', x = 'Cells per sample', fill = 'Power (%)') +\n",
    "    geom_hline(yintercept = 0.05, col = 'black') +\n",
    "    theme(plot.title = element_text(size = 24, face = 'bold'),\n",
    "          axis.title.x = element_text(size = 20), axis.title.y = element_text(size = 20),\n",
    "          axis.text.x = element_text(size = 18), axis.text.y = element_text(size = 18),\n",
    "          legend.title = element_text(size = 18), legend.text = element_text(size = 18)) +\n",
    "    scale_x_discrete(position = \"top\") +\n",
    "    scale_y_discrete(position = \"left\") "
   ]
  },
  {
   "cell_type": "markdown",
   "metadata": {},
   "source": [
    "As the results show, increasing the number of cells per sample within the same sample size did not tend to noticeably increase power in this context (RA). In contrast, increasing the number of samples in the study dramatically increased the power. \n",
    "\n",
    "Performing the same analysis over several datasets yielded similar results, where increasing the number of samples provided more significant power gains than increasing the number of cells per sample. More results for wider ranges and different fold changes can be found in the scPOST manuscript."
   ]
  },
  {
   "cell_type": "markdown",
   "metadata": {},
   "source": [
    "# Session information"
   ]
  },
  {
   "cell_type": "code",
   "execution_count": 28,
   "metadata": {},
   "outputs": [
    {
     "data": {
      "text/plain": [
       "R version 4.0.3 (2020-10-10)\n",
       "Platform: x86_64-conda-linux-gnu (64-bit)\n",
       "Running under: Red Hat Enterprise Linux Server release 6.5 (Santiago)\n",
       "\n",
       "Matrix products: default\n",
       "BLAS/LAPACK: /PHShome/nm455/miniconda3/envs/paraR4.0.3/lib/libopenblasp-r0.3.12.so\n",
       "\n",
       "Random number generation:\n",
       " RNG:     L'Ecuyer-CMRG \n",
       " Normal:  Inversion \n",
       " Sample:  Rejection \n",
       " \n",
       "locale:\n",
       " [1] LC_CTYPE=en_US.UTF-8       LC_NUMERIC=C              \n",
       " [3] LC_TIME=en_US.UTF-8        LC_COLLATE=en_US.UTF-8    \n",
       " [5] LC_MONETARY=en_US.UTF-8    LC_MESSAGES=en_US.UTF-8   \n",
       " [7] LC_PAPER=en_US.UTF-8       LC_NAME=C                 \n",
       " [9] LC_ADDRESS=C               LC_TELEPHONE=C            \n",
       "[11] LC_MEASUREMENT=en_US.UTF-8 LC_IDENTIFICATION=C       \n",
       "\n",
       "attached base packages:\n",
       "[1] stats     graphics  grDevices utils     datasets  methods   base     \n",
       "\n",
       "other attached packages:\n",
       "[1] patchwork_1.1.1    RColorBrewer_1.1-2 ggplot2_3.3.3      dplyr_1.0.4       \n",
       "[5] scpost_1.0        \n",
       "\n",
       "loaded via a namespace (and not attached):\n",
       "  [1] Seurat_4.0.0         Rtsne_0.15           minqa_1.2.4         \n",
       "  [4] colorspace_2.0-0     deldir_0.2-10        ellipsis_0.3.1      \n",
       "  [7] ggridges_0.5.3       IRdisplay_1.0        base64enc_0.1-3     \n",
       " [10] spatstat.data_2.1-0  farver_2.0.3         leiden_0.3.7        \n",
       " [13] listenv_0.8.0        ggrepel_0.9.1        fansi_0.4.2         \n",
       " [16] codetools_0.2-18     splines_4.0.3        polyclip_1.10-0     \n",
       " [19] IRkernel_1.1.1       jsonlite_1.7.2       nloptr_1.2.2.2      \n",
       " [22] ica_1.0-2            cluster_2.1.1        png_0.1-7           \n",
       " [25] uwot_0.1.10          shiny_1.6.0          sctransform_0.3.2   \n",
       " [28] compiler_4.0.3       httr_1.4.2           assertthat_0.2.1    \n",
       " [31] SeuratObject_4.0.0   Matrix_1.3-2         fastmap_1.1.0       \n",
       " [34] lazyeval_0.2.2       later_1.1.0.1        htmltools_0.5.1.1   \n",
       " [37] tools_4.0.3          igraph_1.2.6         gtable_0.3.0        \n",
       " [40] glue_1.4.2           RANN_2.6.1           reshape2_1.4.4      \n",
       " [43] Rcpp_1.0.6           spatstat_1.64-1      scattermore_0.7     \n",
       " [46] vctrs_0.3.6          nlme_3.1-152         lmtest_0.9-38       \n",
       " [49] stringr_1.4.0        globals_0.14.0       lme4_1.1-26         \n",
       " [52] mime_0.10            miniUI_0.1.1.1       lifecycle_1.0.0     \n",
       " [55] irlba_2.3.3          gtools_3.8.2         statmod_1.4.35      \n",
       " [58] goftest_1.2-2        future_1.21.0        MASS_7.3-53.1       \n",
       " [61] zoo_1.8-8            scales_1.1.1         promises_1.2.0.1    \n",
       " [64] spatstat.utils_2.1-0 parallel_4.0.3       reticulate_1.18     \n",
       " [67] pbapply_1.4-3        gridExtra_2.3        rpart_4.1-15        \n",
       " [70] stringi_1.5.3        boot_1.3-27          repr_1.1.3          \n",
       " [73] rlang_0.4.10         pkgconfig_2.0.3      matrixStats_0.58.0  \n",
       " [76] evaluate_0.14        lattice_0.20-41      ROCR_1.0-11         \n",
       " [79] purrr_0.3.4          tensor_1.5           labeling_0.4.2      \n",
       " [82] htmlwidgets_1.5.3    cowplot_1.1.1        tidyselect_1.1.0    \n",
       " [85] parallelly_1.23.0    RcppAnnoy_0.0.18     plyr_1.8.6          \n",
       " [88] magrittr_2.0.1       R6_2.5.0             generics_0.1.0      \n",
       " [91] pbdZMQ_0.3-5         DBI_1.1.1            withr_2.4.1         \n",
       " [94] pillar_1.5.0         mgcv_1.8-34          fitdistrplus_1.1-3  \n",
       " [97] survival_3.2-7       abind_1.4-5          tibble_3.0.6        \n",
       "[100] future.apply_1.7.0   crayon_1.4.1         uuid_0.1-4          \n",
       "[103] KernSmooth_2.23-18   utf8_1.1.4           plotly_4.9.3        \n",
       "[106] grid_4.0.3           data.table_1.14.0    digest_0.6.27       \n",
       "[109] xtable_1.8-4         tidyr_1.1.2          httpuv_1.5.5        \n",
       "[112] munsell_0.5.0        viridisLite_0.3.0   "
      ]
     },
     "metadata": {},
     "output_type": "display_data"
    }
   ],
   "source": [
    "sessionInfo()"
   ]
  },
  {
   "cell_type": "code",
   "execution_count": null,
   "metadata": {},
   "outputs": [],
   "source": []
  }
 ],
 "metadata": {
  "kernelspec": {
   "display_name": "R",
   "language": "R",
   "name": "ir"
  },
  "language_info": {
   "codemirror_mode": "r",
   "file_extension": ".r",
   "mimetype": "text/x-r-source",
   "name": "R",
   "pygments_lexer": "r",
   "version": "4.0.3"
  },
  "toc-showcode": false,
  "toc-showtags": false
 },
 "nbformat": 4,
 "nbformat_minor": 4
}
