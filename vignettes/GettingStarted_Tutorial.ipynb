{
 "cells": [
  {
   "cell_type": "markdown",
   "metadata": {},
   "source": [
    "# scPOST objective"
   ]
  },
  {
   "cell_type": "markdown",
   "metadata": {},
   "source": [
    "- scPOST is a simulation framework that estimates a study design's power to detect differentially abundant cell states (e.g. an expansion of a cell state in disease samples compared to healthy). \n",
    "- scPOST allows users to control the simulated data's characteristics, including: effect size, the number of samples, the number of cells per sample, the batch multiplexing structure, and the magnitude of simulated noise. \n",
    "- Thus, users can use scPOST to explore how different study design choices might affect power."
   ]
  },
  {
   "cell_type": "markdown",
   "metadata": {},
   "source": [
    "## Installation"
   ]
  },
  {
   "cell_type": "code",
   "execution_count": 1,
   "metadata": {},
   "outputs": [
    {
     "name": "stderr",
     "output_type": "stream",
     "text": [
      "Loading required package: usethis\n",
      "Downloading GitHub repo immunogenomics/scpost@HEAD\n"
     ]
    },
    {
     "name": "stdout",
     "output_type": "stream",
     "text": [
      "\n",
      "\u001b[32m✔\u001b[39m  \u001b[90mchecking for file ‘/tmp/RtmpI8Uutj/remotes82ee53c7fbdd/immunogenomics-scpost-da40227/DESCRIPTION’\u001b[39m\u001b[36m\u001b[39m\n",
      "\u001b[90m─\u001b[39m\u001b[90m  \u001b[39m\u001b[90mpreparing ‘scpost’:\u001b[39m\u001b[36m\u001b[39m\n",
      "\u001b[32m✔\u001b[39m  \u001b[90mchecking DESCRIPTION meta-information\u001b[39m\u001b[36m\u001b[39m\n",
      "\u001b[90m─\u001b[39m\u001b[90m  \u001b[39m\u001b[90mchecking for LF line-endings in source and make files and shell scripts\u001b[39m\u001b[36m\u001b[39m\n",
      "\u001b[90m─\u001b[39m\u001b[90m  \u001b[39m\u001b[90mchecking for empty or unneeded directories\u001b[39m\u001b[36m\u001b[39m\n",
      "\u001b[90m─\u001b[39m\u001b[90m  \u001b[39m\u001b[90mlooking to see if a ‘data/datalist’ file should be added\u001b[39m\u001b[36m\u001b[39m\n",
      "\u001b[90m─\u001b[39m\u001b[90m  \u001b[39m\u001b[90mbuilding ‘scpost_1.0.tar.gz’\u001b[39m\u001b[36m\u001b[36m (359ms)\u001b[36m\u001b[39m\n",
      "   Warning: invalid uid value replaced by that for user 'nobody'\n",
      "   \n",
      "\r"
     ]
    }
   ],
   "source": [
    "library(devtools)\n",
    "devtools::install_github(repo = \"immunogenomics/scpost\", force = TRUE)"
   ]
  },
  {
   "cell_type": "code",
   "execution_count": 2,
   "metadata": {},
   "outputs": [
    {
     "name": "stderr",
     "output_type": "stream",
     "text": [
      "Registered S3 method overwritten by 'spatstat':\n",
      "  method     from\n",
      "  print.boxx cli \n"
     ]
    }
   ],
   "source": [
    "library(scpost)"
   ]
  },
  {
   "cell_type": "markdown",
   "metadata": {},
   "source": [
    "## Minimum input"
   ]
  },
  {
   "cell_type": "markdown",
   "metadata": {},
   "source": [
    "To simulate data, scPOST uses an input prototype dataset (such as public or pilot data). scPOST estimates two types of variation often found in multi-sample single-cell data:\n",
    "\n",
    "1. Variation in a cell state's frequency across samples (Cell state frequency variation)\n",
    "1. Variation in a cell state's gene expression. We estimate and simulate gene expression with principal components (PCs), because PCs are a summary of gene expression that also takes into account gene covariation. This also reduces computational burden.\n",
    "\n",
    "scPOST requires the following inputs for each cell:\n",
    "\n",
    "1. Cell state annotations (in single-cell these are often obtained from clustering algorithms, such as the Louvain method)\n",
    "1. Sample annotations (the sample each cell comes from)\n",
    "1. Batch annotations (if no batch information for the data is available, it is sufficient to treat every sample as it's own batch)\n",
    "1. Principal component values (these are obtained from PCA)\n",
    "\n",
    "Let's take a look at an example of a prototype dataset that we will apply scPOST to."
   ]
  },
  {
   "cell_type": "code",
   "execution_count": 3,
   "metadata": {},
   "outputs": [
    {
     "name": "stdout",
     "output_type": "stream",
     "text": [
      "'data.frame':\t1844 obs. of  11 variables:\n",
      " $ UMAP1       : num  -4.81 -4.13 -0.23 -4.86 1.44 ...\n",
      " $ UMAP2       : num  0.961 0.804 -2.206 0.906 1.474 ...\n",
      " $ CellID      : chr  \"S006_L1Q1_M01\" \"S006_L1Q1_M03\" \"S006_L1Q1_M05\" \"S006_L1Q1_M07\" ...\n",
      " $ sample      : Factor w/ 21 levels \"300-0122\",\"300-0153\",..: 18 18 18 18 18 18 18 18 18 18 ...\n",
      " $ batch       : Factor w/ 24 levels \"300-0122\",\"300-0153\",..: 18 18 18 18 18 18 18 18 18 18 ...\n",
      " $ disease     : chr  \"OA\" \"OA\" \"OA\" \"OA\" ...\n",
      " $ nUMI        : int  14660 12703 10968 16464 13746 14744 15939 7979 19584 11007 ...\n",
      " $ nGenes      : int  4152 3923 3760 4552 3734 4151 4204 2888 4714 3681 ...\n",
      " $ celltype    : Factor w/ 5 levels \"B cell\",\"Empty\",..: 3 3 3 3 3 3 3 3 3 3 ...\n",
      " $ clusAllCells: Factor w/ 12 levels \"0\",\"1\",\"2\",\"3\",..: 6 6 7 6 4 6 6 9 6 6 ...\n",
      " $ clusOnlyFib : Factor w/ 9 levels \"0\",\"1\",\"2\",\"3\",..: 3 3 2 3 1 3 3 1 3 3 ...\n"
     ]
    },
    {
     "data": {
      "text/html": [
       "<table>\n",
       "<caption>A data.frame: 2 × 20</caption>\n",
       "<thead>\n",
       "\t<tr><th></th><th scope=col>PC1</th><th scope=col>PC2</th><th scope=col>PC3</th><th scope=col>PC4</th><th scope=col>PC5</th><th scope=col>PC6</th><th scope=col>PC7</th><th scope=col>PC8</th><th scope=col>PC9</th><th scope=col>PC10</th><th scope=col>PC11</th><th scope=col>PC12</th><th scope=col>PC13</th><th scope=col>PC14</th><th scope=col>PC15</th><th scope=col>PC16</th><th scope=col>PC17</th><th scope=col>PC18</th><th scope=col>PC19</th><th scope=col>PC20</th></tr>\n",
       "\t<tr><th></th><th scope=col>&lt;dbl&gt;</th><th scope=col>&lt;dbl&gt;</th><th scope=col>&lt;dbl&gt;</th><th scope=col>&lt;dbl&gt;</th><th scope=col>&lt;dbl&gt;</th><th scope=col>&lt;dbl&gt;</th><th scope=col>&lt;dbl&gt;</th><th scope=col>&lt;dbl&gt;</th><th scope=col>&lt;dbl&gt;</th><th scope=col>&lt;dbl&gt;</th><th scope=col>&lt;dbl&gt;</th><th scope=col>&lt;dbl&gt;</th><th scope=col>&lt;dbl&gt;</th><th scope=col>&lt;dbl&gt;</th><th scope=col>&lt;dbl&gt;</th><th scope=col>&lt;dbl&gt;</th><th scope=col>&lt;dbl&gt;</th><th scope=col>&lt;dbl&gt;</th><th scope=col>&lt;dbl&gt;</th><th scope=col>&lt;dbl&gt;</th></tr>\n",
       "</thead>\n",
       "<tbody>\n",
       "\t<tr><th scope=row>S006_L1Q1_M01</th><td>19.54967</td><td>-1.811336</td><td>1.338648</td><td>-3.845058</td><td>-1.56015</td><td>-1.102576</td><td>1.6973464</td><td>-0.6949008</td><td>-0.732699</td><td>-1.1053434</td><td>1.072299</td><td>-1.171199</td><td>2.041257</td><td>-0.9153473</td><td> 0.6063470</td><td>-1.1541958</td><td>-2.90230</td><td>-0.71679693</td><td>-1.075425</td><td>1.4423108</td></tr>\n",
       "\t<tr><th scope=row>S006_L1Q1_M03</th><td>16.15553</td><td>-1.055468</td><td>2.950489</td><td> 1.226705</td><td>-1.64750</td><td> 1.241454</td><td>0.6577186</td><td> 3.2392051</td><td>-1.171088</td><td>-0.4900129</td><td>2.818605</td><td>-2.738194</td><td>3.586889</td><td>-1.8724081</td><td>-0.5646049</td><td>-0.8233941</td><td>-1.54052</td><td>-0.03015161</td><td>-1.837483</td><td>0.2765889</td></tr>\n",
       "</tbody>\n",
       "</table>\n"
      ],
      "text/latex": [
       "A data.frame: 2 × 20\n",
       "\\begin{tabular}{r|llllllllllllllllllll}\n",
       "  & PC1 & PC2 & PC3 & PC4 & PC5 & PC6 & PC7 & PC8 & PC9 & PC10 & PC11 & PC12 & PC13 & PC14 & PC15 & PC16 & PC17 & PC18 & PC19 & PC20\\\\\n",
       "  & <dbl> & <dbl> & <dbl> & <dbl> & <dbl> & <dbl> & <dbl> & <dbl> & <dbl> & <dbl> & <dbl> & <dbl> & <dbl> & <dbl> & <dbl> & <dbl> & <dbl> & <dbl> & <dbl> & <dbl>\\\\\n",
       "\\hline\n",
       "\tS006\\_L1Q1\\_M01 & 19.54967 & -1.811336 & 1.338648 & -3.845058 & -1.56015 & -1.102576 & 1.6973464 & -0.6949008 & -0.732699 & -1.1053434 & 1.072299 & -1.171199 & 2.041257 & -0.9153473 &  0.6063470 & -1.1541958 & -2.90230 & -0.71679693 & -1.075425 & 1.4423108\\\\\n",
       "\tS006\\_L1Q1\\_M03 & 16.15553 & -1.055468 & 2.950489 &  1.226705 & -1.64750 &  1.241454 & 0.6577186 &  3.2392051 & -1.171088 & -0.4900129 & 2.818605 & -2.738194 & 3.586889 & -1.8724081 & -0.5646049 & -0.8233941 & -1.54052 & -0.03015161 & -1.837483 & 0.2765889\\\\\n",
       "\\end{tabular}\n"
      ],
      "text/markdown": [
       "\n",
       "A data.frame: 2 × 20\n",
       "\n",
       "| <!--/--> | PC1 &lt;dbl&gt; | PC2 &lt;dbl&gt; | PC3 &lt;dbl&gt; | PC4 &lt;dbl&gt; | PC5 &lt;dbl&gt; | PC6 &lt;dbl&gt; | PC7 &lt;dbl&gt; | PC8 &lt;dbl&gt; | PC9 &lt;dbl&gt; | PC10 &lt;dbl&gt; | PC11 &lt;dbl&gt; | PC12 &lt;dbl&gt; | PC13 &lt;dbl&gt; | PC14 &lt;dbl&gt; | PC15 &lt;dbl&gt; | PC16 &lt;dbl&gt; | PC17 &lt;dbl&gt; | PC18 &lt;dbl&gt; | PC19 &lt;dbl&gt; | PC20 &lt;dbl&gt; |\n",
       "|---|---|---|---|---|---|---|---|---|---|---|---|---|---|---|---|---|---|---|---|---|\n",
       "| S006_L1Q1_M01 | 19.54967 | -1.811336 | 1.338648 | -3.845058 | -1.56015 | -1.102576 | 1.6973464 | -0.6949008 | -0.732699 | -1.1053434 | 1.072299 | -1.171199 | 2.041257 | -0.9153473 |  0.6063470 | -1.1541958 | -2.90230 | -0.71679693 | -1.075425 | 1.4423108 |\n",
       "| S006_L1Q1_M03 | 16.15553 | -1.055468 | 2.950489 |  1.226705 | -1.64750 |  1.241454 | 0.6577186 |  3.2392051 | -1.171088 | -0.4900129 | 2.818605 | -2.738194 | 3.586889 | -1.8724081 | -0.5646049 | -0.8233941 | -1.54052 | -0.03015161 | -1.837483 | 0.2765889 |\n",
       "\n"
      ],
      "text/plain": [
       "              PC1      PC2       PC3      PC4       PC5      PC6      \n",
       "S006_L1Q1_M01 19.54967 -1.811336 1.338648 -3.845058 -1.56015 -1.102576\n",
       "S006_L1Q1_M03 16.15553 -1.055468 2.950489  1.226705 -1.64750  1.241454\n",
       "              PC7       PC8        PC9       PC10       PC11     PC12     \n",
       "S006_L1Q1_M01 1.6973464 -0.6949008 -0.732699 -1.1053434 1.072299 -1.171199\n",
       "S006_L1Q1_M03 0.6577186  3.2392051 -1.171088 -0.4900129 2.818605 -2.738194\n",
       "              PC13     PC14       PC15       PC16       PC17     PC18       \n",
       "S006_L1Q1_M01 2.041257 -0.9153473  0.6063470 -1.1541958 -2.90230 -0.71679693\n",
       "S006_L1Q1_M03 3.586889 -1.8724081 -0.5646049 -0.8233941 -1.54052 -0.03015161\n",
       "              PC19      PC20     \n",
       "S006_L1Q1_M01 -1.075425 1.4423108\n",
       "S006_L1Q1_M03 -1.837483 0.2765889"
      ]
     },
     "metadata": {},
     "output_type": "display_data"
    }
   ],
   "source": [
    "ra_FibObj$meta %>% str\n",
    "ra_FibObj$embeddings %>% head(2)"
   ]
  },
  {
   "cell_type": "markdown",
   "metadata": {},
   "source": [
    "In the metadata, we have:\n",
    "\n",
    "- Cell state annotations (clusOnlyFib)\n",
    "- Sample annotations (sample)\n",
    "- Batch annotations (batch)\n",
    "\n",
    "In the embeddings, we have:\n",
    "\n",
    "- Principal component values for 20 PCs"
   ]
  },
  {
   "cell_type": "markdown",
   "metadata": {},
   "source": [
    "# Getting started with scPOST"
   ]
  },
  {
   "cell_type": "markdown",
   "metadata": {},
   "source": [
    "This tutorial will run through the scPOST framework, which comprises 3 steps.\n",
    "\n",
    "Step 1: Parameter estimation\n",
    "\n",
    "Step 2: Dataset simulation\n",
    "\n",
    "Step 3: Association testing for cell state frequency shifts (e.g. expansion or deletion)\n",
    "\n",
    "Here, we will simulate fibroblast data from the rheumatoid arthritis (RA) dataset described in Zhang F, Wei K, Slowikowski K, Fonseka C, Rao DA, *et al.*, *Nature Immunol* (2020). The input prototype dataset we will use is contained in \"ra_FibObj\".\n",
    "\n",
    "Through cytometry, the authors identified an HLA-DRA+ fibroblast cell state that was expanded in inflammatory RA samples compared to osteoarthritis samples. However, they we unable to detect this expansion in their single-cell RNA sequencing (scRNA-seq) data due to sample size (n = 21, 17 case, 4 control).\n",
    "\n",
    "**Let's use scPOST to find study design changes that might increase power.**"
   ]
  },
  {
   "cell_type": "markdown",
   "metadata": {},
   "source": [
    "# Step 1: Parameter estimation"
   ]
  },
  {
   "cell_type": "markdown",
   "metadata": {},
   "source": [
    "## Cell state frequency Variation"
   ]
  },
  {
   "cell_type": "markdown",
   "metadata": {},
   "source": [
    "With the \"estimateFreqVar\" function, we estimate each cell state's mean frequency and covariance across samples"
   ]
  },
  {
   "cell_type": "code",
   "execution_count": 4,
   "metadata": {},
   "outputs": [
    {
     "data": {
      "text/plain": [
       "   user  system elapsed \n",
       "  0.203   0.001   0.217 "
      ]
     },
     "metadata": {},
     "output_type": "display_data"
    }
   ],
   "source": [
    "system.time({\n",
    "    raFib_freqEstimates <- estimateFreqVar(meta = ra_FibObj$meta, clusCol = 'clusOnlyFib', sampleCol = 'sample', logCov = TRUE)\n",
    "})"
   ]
  },
  {
   "cell_type": "code",
   "execution_count": 5,
   "metadata": {},
   "outputs": [
    {
     "name": "stdout",
     "output_type": "stream",
     "text": [
      "List of 2\n",
      " $ meanFreq: Named num [1:9] 0.1871 0.1783 0.1481 0.1038 0.0966 ...\n",
      "  ..- attr(*, \"names\")= chr [1:9] \"clus0\" \"clus1\" \"clus2\" \"clus3\" ...\n",
      " $ cfcov   : num [1:9, 1:9] 2.87 -1.225 0.278 0.311 -0.705 ...\n",
      "  ..- attr(*, \"dimnames\")=List of 2\n",
      "  .. ..$ : chr [1:9] \"clus0\" \"clus1\" \"clus2\" \"clus3\" ...\n",
      "  .. ..$ : chr [1:9] \"clus0\" \"clus1\" \"clus2\" \"clus3\" ...\n"
     ]
    }
   ],
   "source": [
    "raFib_freqEstimates %>% str"
   ]
  },
  {
   "cell_type": "markdown",
   "metadata": {},
   "source": [
    "## Gene expression variation"
   ]
  },
  {
   "cell_type": "markdown",
   "metadata": {},
   "source": [
    "With the \"estimatePCVar\" function, we estimate each cell state's gene expression variation. We use linear mixed effects models to estimate this variance, which we can deconvolute into different sources of variance. From these models, we estimate the following for each cell state:\n",
    "\n",
    "1. Centroid in PC space\n",
    "1. Residual variance in PC space\n",
    "1. Batch-associated variance in PC space\n",
    "1. Sample-associated variance in PC space\n",
    "\n",
    "Computation time will depend on the size of the real data. For larger datasets, we recommend saving the aforementioned estimates so that they can be used for future simulations"
   ]
  },
  {
   "cell_type": "code",
   "execution_count": 6,
   "metadata": {},
   "outputs": [
    {
     "data": {
      "text/plain": [
       "   user  system elapsed \n",
       "  7.473   1.894   7.145 "
      ]
     },
     "metadata": {},
     "output_type": "display_data"
    }
   ],
   "source": [
    "system.time({\n",
    "    raFib_pcEstimates <- estimatePCVar(pca = ra_FibObj$embeddings, npcs = 20, meta = ra_FibObj$meta, clusCol = 'clusOnlyFib',\n",
    "                                       sampleCol = 'sample', batchCol = 'batch')\n",
    "})"
   ]
  },
  {
   "cell_type": "code",
   "execution_count": 7,
   "metadata": {},
   "outputs": [
    {
     "name": "stdout",
     "output_type": "stream",
     "text": [
      "List of 4\n",
      " $ centroids  : num [1:9, 1:20] -1.32 -1.58 14.28 -6.91 -7.64 ...\n",
      "  ..- attr(*, \"dimnames\")=List of 2\n",
      " $ pc_cov_list:List of 9\n",
      " $ batch_vars : num [1:9, 1:20] 0.848 5.89 4.168 5.455 1.944 ...\n",
      "  ..- attr(*, \"dimnames\")=List of 2\n",
      " $ sample_vars: num [1:9, 1:20] 1.902757 8.78203 0.104539 0.000455 2.816822 ...\n",
      "  ..- attr(*, \"dimnames\")=List of 2\n"
     ]
    }
   ],
   "source": [
    "raFib_pcEstimates %>% str(1)\n",
    "# Save raFib_pcaEstimates for future use"
   ]
  },
  {
   "cell_type": "markdown",
   "metadata": {},
   "source": [
    "# Step 2 and 3: Simulate dataset and perform association testing"
   ]
  },
  {
   "cell_type": "markdown",
   "metadata": {},
   "source": [
    "Next, we'll generate *in silico* fibroblast datasets and use MASC (Mixed effects association of single-cells) to test whether we test an expansion or depletion of a cluster in our simulated data.\n",
    "\n",
    "For users that wish to estimate power to detect differential abundance, we recommend users use the \"simDataset.withMASC\" function to perform both **Step 2 and Step 3** at the same time so that they may make use of streamlined file naming and handling. Users that only wish to simulate a dataset can use the \"simDataset.base\" function.\n",
    "\n",
    "**Important: Before running simulations, create a save folder where you will save the results of the simulations**\n",
    "\n",
    "- Before running our simulations, we created a \"scpostSims/gettingStarted\" folder"
   ]
  },
  {
   "cell_type": "markdown",
   "metadata": {},
   "source": [
    "## Simulate datasets with 20 samples: unbalanced study design"
   ]
  },
  {
   "cell_type": "code",
   "execution_count": 31,
   "metadata": {},
   "outputs": [],
   "source": [
    "createParamTable <- function(nreps, clus, fc, ncases = 10, nctrls = 10, nbatches = 4, b_scale = 1, s_scale = 1, cf_scale = 1, \n",
    "                             res_use = 1.2, cond_induce = \"cases\", save_path){\n",
    "    paramTable <- expand.grid(\n",
    "        rep = seq(nreps),\n",
    "        ncases = ncases,\n",
    "        nctrls = nctrls,\n",
    "        nbatches = nbatches,\n",
    "        b_scale = b_scale,\n",
    "        s_scale = s_scale,\n",
    "        cf_scale = cf_scale,\n",
    "        clus = clus,\n",
    "        fc = fc,\n",
    "        res_use = res_use,\n",
    "        save_path = save_path\n",
    "    )\n",
    "    paramTable$cond_induce = cond_induce\n",
    "    paramTable$seed <- sample(.Machine$integer.max, size = nrow(paramTable))\n",
    "    \n",
    "    return(paramTable)\n",
    "}"
   ]
  },
  {
   "cell_type": "markdown",
   "metadata": {},
   "source": [
    "The cohort of the original RA scRNA-seq data consisted of 17 cases and 4 controls. Here, we'll simulate 5 datasets that each have 20 samples (17 cases and 3 controls). \n",
    "\n",
    "Let's set the number of samples, the number of cells per sample, and the batch structure."
   ]
  },
  {
   "cell_type": "code",
   "execution_count": 48,
   "metadata": {},
   "outputs": [
    {
     "name": "stdout",
     "output_type": "stream",
     "text": [
      "List of 4\n",
      " $ batches     :List of 4\n",
      "  ..$ batch1:List of 2\n",
      "  .. ..$ cases: chr [1:5] \"sample20\" \"sample13\" \"sample11\" \"sample1\" ...\n",
      "  .. ..$ ctrls: chr \"sample5\"\n",
      "  ..$ batch2:List of 2\n",
      "  .. ..$ cases: chr [1:4] \"sample17\" \"sample2\" \"sample10\" \"sample19\"\n",
      "  .. ..$ ctrls: chr \"sample9\"\n",
      "  ..$ batch3:List of 2\n",
      "  .. ..$ cases: chr [1:4] \"sample18\" \"sample12\" \"sample8\" \"sample3\"\n",
      "  .. ..$ ctrls: chr \"sample14\"\n",
      "  ..$ batch4:List of 2\n",
      "  .. ..$ cases: chr [1:4] \"sample16\" \"sample7\" \"sample4\" \"sample6\"\n",
      "  .. ..$ ctrls: chr(0) \n",
      " $ sample_names: chr [1:20] \"sample1\" \"sample2\" \"sample3\" \"sample4\" ...\n",
      " $ cases       : chr [1:17] \"sample20\" \"sample17\" \"sample18\" \"sample16\" ...\n",
      " $ ctrls       : chr [1:3] \"sample5\" \"sample9\" \"sample14\"\n"
     ]
    }
   ],
   "source": [
    "set.seed(23)\n",
    "\n",
    "# Set the number of samples, number of cells per sample, and create batch structure\n",
    "ncases <- 17\n",
    "nctrls <- 3\n",
    "nbatches <- 4\n",
    "batchStructure <- distribSamples(ncases = ncases, nctrls = nctrls, nbatches = nbatches)\n",
    "ncells <- rep(250, times = ncases + nctrls)\n",
    "names(ncells) <- batchStructure$sample_names\n",
    "\n",
    "batchStructure %>% str"
   ]
  },
  {
   "cell_type": "markdown",
   "metadata": {},
   "source": [
    "Next, we'll set up a parameter table with the \"createParamTable\" function that we'll use to run multiple simulations: \n",
    "- We'll simulate realistic levels of variation by setting \"b_scale\", \"s_scale\", and \"cf_scale\" equal to 1. \n",
    "- We'll induce a fold-change of 5 into \"clus0\", the HLA-DRA+ fibroblast cell state\n",
    "- We'll set up a folder where we will save our results"
   ]
  },
  {
   "cell_type": "code",
   "execution_count": 49,
   "metadata": {},
   "outputs": [
    {
     "data": {
      "text/html": [
       "<table>\n",
       "<caption>A data.frame: 2 × 13</caption>\n",
       "<thead>\n",
       "\t<tr><th scope=col>rep</th><th scope=col>ncases</th><th scope=col>nctrls</th><th scope=col>nbatches</th><th scope=col>b_scale</th><th scope=col>s_scale</th><th scope=col>cf_scale</th><th scope=col>clus</th><th scope=col>fc</th><th scope=col>res_use</th><th scope=col>save_path</th><th scope=col>cond_induce</th><th scope=col>seed</th></tr>\n",
       "\t<tr><th scope=col>&lt;int&gt;</th><th scope=col>&lt;dbl&gt;</th><th scope=col>&lt;dbl&gt;</th><th scope=col>&lt;dbl&gt;</th><th scope=col>&lt;dbl&gt;</th><th scope=col>&lt;dbl&gt;</th><th scope=col>&lt;dbl&gt;</th><th scope=col>&lt;fct&gt;</th><th scope=col>&lt;dbl&gt;</th><th scope=col>&lt;dbl&gt;</th><th scope=col>&lt;fct&gt;</th><th scope=col>&lt;chr&gt;</th><th scope=col>&lt;int&gt;</th></tr>\n",
       "</thead>\n",
       "<tbody>\n",
       "\t<tr><td>1</td><td>17</td><td>3</td><td>4</td><td>1</td><td>1</td><td>1</td><td>clus0</td><td>5</td><td>0.6</td><td>/data/srlab1/nmillard/scpost/vignettes/scpostSims/gettingStarted/</td><td>cases</td><td> 943762698</td></tr>\n",
       "\t<tr><td>2</td><td>17</td><td>3</td><td>4</td><td>1</td><td>1</td><td>1</td><td>clus0</td><td>5</td><td>0.6</td><td>/data/srlab1/nmillard/scpost/vignettes/scpostSims/gettingStarted/</td><td>cases</td><td>2040394625</td></tr>\n",
       "</tbody>\n",
       "</table>\n"
      ],
      "text/latex": [
       "A data.frame: 2 × 13\n",
       "\\begin{tabular}{r|lllllllllllll}\n",
       " rep & ncases & nctrls & nbatches & b\\_scale & s\\_scale & cf\\_scale & clus & fc & res\\_use & save\\_path & cond\\_induce & seed\\\\\n",
       " <int> & <dbl> & <dbl> & <dbl> & <dbl> & <dbl> & <dbl> & <fct> & <dbl> & <dbl> & <fct> & <chr> & <int>\\\\\n",
       "\\hline\n",
       "\t 1 & 17 & 3 & 4 & 1 & 1 & 1 & clus0 & 5 & 0.6 & /data/srlab1/nmillard/scpost/vignettes/scpostSims/gettingStarted/ & cases &  943762698\\\\\n",
       "\t 2 & 17 & 3 & 4 & 1 & 1 & 1 & clus0 & 5 & 0.6 & /data/srlab1/nmillard/scpost/vignettes/scpostSims/gettingStarted/ & cases & 2040394625\\\\\n",
       "\\end{tabular}\n"
      ],
      "text/markdown": [
       "\n",
       "A data.frame: 2 × 13\n",
       "\n",
       "| rep &lt;int&gt; | ncases &lt;dbl&gt; | nctrls &lt;dbl&gt; | nbatches &lt;dbl&gt; | b_scale &lt;dbl&gt; | s_scale &lt;dbl&gt; | cf_scale &lt;dbl&gt; | clus &lt;fct&gt; | fc &lt;dbl&gt; | res_use &lt;dbl&gt; | save_path &lt;fct&gt; | cond_induce &lt;chr&gt; | seed &lt;int&gt; |\n",
       "|---|---|---|---|---|---|---|---|---|---|---|---|---|\n",
       "| 1 | 17 | 3 | 4 | 1 | 1 | 1 | clus0 | 5 | 0.6 | /data/srlab1/nmillard/scpost/vignettes/scpostSims/gettingStarted/ | cases |  943762698 |\n",
       "| 2 | 17 | 3 | 4 | 1 | 1 | 1 | clus0 | 5 | 0.6 | /data/srlab1/nmillard/scpost/vignettes/scpostSims/gettingStarted/ | cases | 2040394625 |\n",
       "\n"
      ],
      "text/plain": [
       "  rep ncases nctrls nbatches b_scale s_scale cf_scale clus  fc res_use\n",
       "1 1   17     3      4        1       1       1        clus0 5  0.6    \n",
       "2 2   17     3      4        1       1       1        clus0 5  0.6    \n",
       "  save_path                                                         cond_induce\n",
       "1 /data/srlab1/nmillard/scpost/vignettes/scpostSims/gettingStarted/ cases      \n",
       "2 /data/srlab1/nmillard/scpost/vignettes/scpostSims/gettingStarted/ cases      \n",
       "  seed      \n",
       "1  943762698\n",
       "2 2040394625"
      ]
     },
     "metadata": {},
     "output_type": "display_data"
    }
   ],
   "source": [
    "params <- createParamTable(\n",
    "    nreps = 5,\n",
    "    clus = \"clus0\",\n",
    "    fc = 5,\n",
    "    ncases = ncases,\n",
    "    nctrls = nctrls,\n",
    "    nbatches = nbatches,\n",
    "    b_scale = 1,\n",
    "    s_scale = 1,\n",
    "    cf_scale = 1,\n",
    "    res_use = 0.6,\n",
    "    cond_induce = \"cases\",\n",
    "    save_path = file.path(getwd(), \"scpostSims/gettingStarted/\")\n",
    ")\n",
    "\n",
    "params %>% head(2)"
   ]
  },
  {
   "cell_type": "markdown",
   "metadata": {},
   "source": [
    "The \"simDataset.MASC\" function will simulate datasets and save them as a list containing:\n",
    "- Metadata information for each simulated cell\n",
    "- p-values from applying MASC to test for differential abundance. We obtain a p-value for each simulated cell state."
   ]
  },
  {
   "cell_type": "code",
   "execution_count": 50,
   "metadata": {},
   "outputs": [
    {
     "name": "stderr",
     "output_type": "stream",
     "text": [
      "Simulated dataset at 2020-11-24 11:43:25\n",
      "Simulated dataset at 2020-11-24 11:43:31\n",
      "Simulated dataset at 2020-11-24 11:43:39\n",
      "Simulated dataset at 2020-11-24 11:43:45\n",
      "Simulated dataset at 2020-11-24 11:43:51\n"
     ]
    },
    {
     "data": {
      "text/html": [
       "<ol>\n",
       "\t<li>NULL</li>\n",
       "\t<li>NULL</li>\n",
       "\t<li>NULL</li>\n",
       "\t<li>NULL</li>\n",
       "\t<li>NULL</li>\n",
       "</ol>\n"
      ],
      "text/latex": [
       "\\begin{enumerate}\n",
       "\\item NULL\n",
       "\\item NULL\n",
       "\\item NULL\n",
       "\\item NULL\n",
       "\\item NULL\n",
       "\\end{enumerate}\n"
      ],
      "text/markdown": [
       "1. NULL\n",
       "2. NULL\n",
       "3. NULL\n",
       "4. NULL\n",
       "5. NULL\n",
       "\n",
       "\n"
      ],
      "text/plain": [
       "[[1]]\n",
       "NULL\n",
       "\n",
       "[[2]]\n",
       "NULL\n",
       "\n",
       "[[3]]\n",
       "NULL\n",
       "\n",
       "[[4]]\n",
       "NULL\n",
       "\n",
       "[[5]]\n",
       "NULL\n"
      ]
     },
     "metadata": {},
     "output_type": "display_data"
    }
   ],
   "source": [
    "suppressWarnings({\n",
    "    lapply(seq(nrow(params)), function(x){\n",
    "            simDataset.withMASC(\n",
    "                save_path = params[x, 'save_path'],\n",
    "                rep = params[x, 'rep'],\n",
    "                seed = params[x, 'seed'],\n",
    "                ncases = params[x, 'ncases'],\n",
    "                nctrls = params[x, 'nctrls'],\n",
    "                nbatches = params[x, 'nbatches'],\n",
    "                batchStructure = batchStructure,\n",
    "                ncells = ncells,\n",
    "                centroids = raFib_pcEstimates$centroids,\n",
    "                pc_cov_list = raFib_pcEstimates$pc_cov_list,\n",
    "                batch_vars = raFib_pcEstimates$batch_vars,\n",
    "                b_scale = params[x, 'b_scale'],\n",
    "                sample_vars = raFib_pcEstimates$sample_vars,\n",
    "                s_scale = params[x, 's_scale'],\n",
    "                cfcov = raFib_freqEstimates$cfcov,\n",
    "                cf_scale = params[x, 'cf_scale'],\n",
    "                meanFreqs = raFib_freqEstimates$meanFreq,\n",
    "                clus = params[x, 'clus'],\n",
    "                fc = params[x, 'fc'],\n",
    "                cond_induce = params[x, 'cond_induce'],\n",
    "                res_use = params[x, 'res_use'], \n",
    "                mc.cores = 1,\n",
    "                clusterData = TRUE,\n",
    "                returnPCs = FALSE\n",
    "            )\n",
    "    })\n",
    "})"
   ]
  },
  {
   "cell_type": "markdown",
   "metadata": {},
   "source": [
    "## Simulate datasets with 20 samples: balanced study design"
   ]
  },
  {
   "cell_type": "markdown",
   "metadata": {},
   "source": [
    "Now, let's simulate 20-sample datasets with almost the same study design. However, now we'll simulate a more balanced number of cases and controls: 10 cases and 10 controls"
   ]
  },
  {
   "cell_type": "code",
   "execution_count": 51,
   "metadata": {},
   "outputs": [
    {
     "data": {
      "text/html": [
       "<table>\n",
       "<caption>A data.frame: 2 × 13</caption>\n",
       "<thead>\n",
       "\t<tr><th scope=col>rep</th><th scope=col>ncases</th><th scope=col>nctrls</th><th scope=col>nbatches</th><th scope=col>b_scale</th><th scope=col>s_scale</th><th scope=col>cf_scale</th><th scope=col>clus</th><th scope=col>fc</th><th scope=col>res_use</th><th scope=col>save_path</th><th scope=col>cond_induce</th><th scope=col>seed</th></tr>\n",
       "\t<tr><th scope=col>&lt;int&gt;</th><th scope=col>&lt;dbl&gt;</th><th scope=col>&lt;dbl&gt;</th><th scope=col>&lt;dbl&gt;</th><th scope=col>&lt;dbl&gt;</th><th scope=col>&lt;dbl&gt;</th><th scope=col>&lt;dbl&gt;</th><th scope=col>&lt;fct&gt;</th><th scope=col>&lt;dbl&gt;</th><th scope=col>&lt;dbl&gt;</th><th scope=col>&lt;fct&gt;</th><th scope=col>&lt;chr&gt;</th><th scope=col>&lt;int&gt;</th></tr>\n",
       "</thead>\n",
       "<tbody>\n",
       "\t<tr><td>1</td><td>10</td><td>10</td><td>4</td><td>1</td><td>1</td><td>1</td><td>clus0</td><td>5</td><td>0.6</td><td>/data/srlab1/nmillard/scpost/vignettes/scpostSims/gettingStarted/</td><td>cases</td><td> 265763406</td></tr>\n",
       "\t<tr><td>2</td><td>10</td><td>10</td><td>4</td><td>1</td><td>1</td><td>1</td><td>clus0</td><td>5</td><td>0.6</td><td>/data/srlab1/nmillard/scpost/vignettes/scpostSims/gettingStarted/</td><td>cases</td><td>1113800433</td></tr>\n",
       "</tbody>\n",
       "</table>\n"
      ],
      "text/latex": [
       "A data.frame: 2 × 13\n",
       "\\begin{tabular}{r|lllllllllllll}\n",
       " rep & ncases & nctrls & nbatches & b\\_scale & s\\_scale & cf\\_scale & clus & fc & res\\_use & save\\_path & cond\\_induce & seed\\\\\n",
       " <int> & <dbl> & <dbl> & <dbl> & <dbl> & <dbl> & <dbl> & <fct> & <dbl> & <dbl> & <fct> & <chr> & <int>\\\\\n",
       "\\hline\n",
       "\t 1 & 10 & 10 & 4 & 1 & 1 & 1 & clus0 & 5 & 0.6 & /data/srlab1/nmillard/scpost/vignettes/scpostSims/gettingStarted/ & cases &  265763406\\\\\n",
       "\t 2 & 10 & 10 & 4 & 1 & 1 & 1 & clus0 & 5 & 0.6 & /data/srlab1/nmillard/scpost/vignettes/scpostSims/gettingStarted/ & cases & 1113800433\\\\\n",
       "\\end{tabular}\n"
      ],
      "text/markdown": [
       "\n",
       "A data.frame: 2 × 13\n",
       "\n",
       "| rep &lt;int&gt; | ncases &lt;dbl&gt; | nctrls &lt;dbl&gt; | nbatches &lt;dbl&gt; | b_scale &lt;dbl&gt; | s_scale &lt;dbl&gt; | cf_scale &lt;dbl&gt; | clus &lt;fct&gt; | fc &lt;dbl&gt; | res_use &lt;dbl&gt; | save_path &lt;fct&gt; | cond_induce &lt;chr&gt; | seed &lt;int&gt; |\n",
       "|---|---|---|---|---|---|---|---|---|---|---|---|---|\n",
       "| 1 | 10 | 10 | 4 | 1 | 1 | 1 | clus0 | 5 | 0.6 | /data/srlab1/nmillard/scpost/vignettes/scpostSims/gettingStarted/ | cases |  265763406 |\n",
       "| 2 | 10 | 10 | 4 | 1 | 1 | 1 | clus0 | 5 | 0.6 | /data/srlab1/nmillard/scpost/vignettes/scpostSims/gettingStarted/ | cases | 1113800433 |\n",
       "\n"
      ],
      "text/plain": [
       "  rep ncases nctrls nbatches b_scale s_scale cf_scale clus  fc res_use\n",
       "1 1   10     10     4        1       1       1        clus0 5  0.6    \n",
       "2 2   10     10     4        1       1       1        clus0 5  0.6    \n",
       "  save_path                                                         cond_induce\n",
       "1 /data/srlab1/nmillard/scpost/vignettes/scpostSims/gettingStarted/ cases      \n",
       "2 /data/srlab1/nmillard/scpost/vignettes/scpostSims/gettingStarted/ cases      \n",
       "  seed      \n",
       "1  265763406\n",
       "2 1113800433"
      ]
     },
     "metadata": {},
     "output_type": "display_data"
    }
   ],
   "source": [
    "set.seed(23)\n",
    "\n",
    "# Set the number of samples, number of cells per sample, and create batch structure\n",
    "ncases <- 10\n",
    "nctrls <- 10\n",
    "nbatches <- 4\n",
    "batchStructure <- distribSamples(ncases = ncases, nctrls = nctrls, nbatches = nbatches)\n",
    "ncells <- rep(250, times = ncases + nctrls)\n",
    "names(ncells) <- batchStructure$sample_names\n",
    "\n",
    "params <- createParamTable(\n",
    "    nreps = 5,\n",
    "    clus = \"clus0\",\n",
    "    fc = 5,\n",
    "    ncases = ncases,\n",
    "    nctrls = nctrls,\n",
    "    nbatches = nbatches,\n",
    "    b_scale = 1,\n",
    "    s_scale = 1,\n",
    "    cf_scale = 1,\n",
    "    res_use = 0.6,\n",
    "    cond_induce = \"cases\",\n",
    "    save_path = file.path(getwd(), \"scpostSims/gettingStarted/\")\n",
    ")\n",
    "\n",
    "params %>% head(2)"
   ]
  },
  {
   "cell_type": "code",
   "execution_count": 52,
   "metadata": {},
   "outputs": [
    {
     "name": "stderr",
     "output_type": "stream",
     "text": [
      "Simulated dataset at 2020-11-24 11:44:34\n",
      "Simulated dataset at 2020-11-24 11:44:41\n",
      "Simulated dataset at 2020-11-24 11:44:47\n",
      "Simulated dataset at 2020-11-24 11:44:55\n",
      "Simulated dataset at 2020-11-24 11:45:02\n"
     ]
    },
    {
     "data": {
      "text/html": [
       "<ol>\n",
       "\t<li>NULL</li>\n",
       "\t<li>NULL</li>\n",
       "\t<li>NULL</li>\n",
       "\t<li>NULL</li>\n",
       "\t<li>NULL</li>\n",
       "</ol>\n"
      ],
      "text/latex": [
       "\\begin{enumerate}\n",
       "\\item NULL\n",
       "\\item NULL\n",
       "\\item NULL\n",
       "\\item NULL\n",
       "\\item NULL\n",
       "\\end{enumerate}\n"
      ],
      "text/markdown": [
       "1. NULL\n",
       "2. NULL\n",
       "3. NULL\n",
       "4. NULL\n",
       "5. NULL\n",
       "\n",
       "\n"
      ],
      "text/plain": [
       "[[1]]\n",
       "NULL\n",
       "\n",
       "[[2]]\n",
       "NULL\n",
       "\n",
       "[[3]]\n",
       "NULL\n",
       "\n",
       "[[4]]\n",
       "NULL\n",
       "\n",
       "[[5]]\n",
       "NULL\n"
      ]
     },
     "metadata": {},
     "output_type": "display_data"
    }
   ],
   "source": [
    "suppressWarnings({\n",
    "    lapply(seq(nrow(params)), function(x){\n",
    "            simDataset.withMASC(\n",
    "                save_path = params[x, 'save_path'],\n",
    "                rep = params[x, 'rep'],\n",
    "                seed = params[x, 'seed'],\n",
    "                ncases = params[x, 'ncases'],\n",
    "                nctrls = params[x, 'nctrls'],\n",
    "                nbatches = params[x, 'nbatches'],\n",
    "                batchStructure = batchStructure,\n",
    "                ncells = ncells,\n",
    "                centroids = raFib_pcEstimates$centroids,\n",
    "                pc_cov_list = raFib_pcEstimates$pc_cov_list,\n",
    "                batch_vars = raFib_pcEstimates$batch_vars,\n",
    "                b_scale = params[x, 'b_scale'],\n",
    "                sample_vars = raFib_pcEstimates$sample_vars,\n",
    "                s_scale = params[x, 's_scale'],\n",
    "                cfcov = raFib_freqEstimates$cfcov,\n",
    "                cf_scale = params[x, 'cf_scale'],\n",
    "                meanFreqs = raFib_freqEstimates$meanFreq,\n",
    "                clus = params[x, 'clus'],\n",
    "                fc = params[x, 'fc'],\n",
    "                cond_induce = params[x, 'cond_induce'],\n",
    "                res_use = params[x, 'res_use'], \n",
    "                mc.cores = 1,\n",
    "                clusterData = TRUE,\n",
    "                returnPCs = FALSE\n",
    "            )\n",
    "    })\n",
    "})"
   ]
  },
  {
   "cell_type": "markdown",
   "metadata": {},
   "source": [
    "# Get Power"
   ]
  },
  {
   "cell_type": "markdown",
   "metadata": {},
   "source": [
    "Now that we've simulated data and performed association testing, we can retrieve what our estimated power is. \n",
    "\n",
    "We only simulated 5 replicates for each study design; to achieve a more accurate estimate, we recommend running many replicates. Here, we load the results tables from MASC analysis (named \"res\" in the saved list that was created by the \"simDataset.MASC\" function)"
   ]
  },
  {
   "cell_type": "code",
   "execution_count": 53,
   "metadata": {},
   "outputs": [],
   "source": [
    "dir <- file.path(getwd(), \"scpostSims/gettingStarted\")\n",
    "filenames <- list.files(path = dir,\n",
    "                        full.names = T,\n",
    "                        pattern = '*res') %>% basename\n",
    "resTables <- lapply(filenames, function(x){\n",
    "        readRDS(file.path(dir, x))[[\"res\"]]\n",
    "})"
   ]
  },
  {
   "cell_type": "markdown",
   "metadata": {},
   "source": [
    "If you induced a fold change in multiple cell states, you can stratify the power results by cell state (instead of aggregate power over all cell states). Here, we only induced a fold change in the HLA-DRA+ fibroblast cell state, so that is not necessary."
   ]
  },
  {
   "cell_type": "code",
   "execution_count": 54,
   "metadata": {},
   "outputs": [
    {
     "data": {
      "text/html": [
       "<table>\n",
       "<caption>A data.frame: 2 × 11</caption>\n",
       "<thead>\n",
       "\t<tr><th scope=col>ind_fc</th><th scope=col>ncases</th><th scope=col>nctrls</th><th scope=col>nsamples</th><th scope=col>ncells</th><th scope=col>bscale</th><th scope=col>sscale</th><th scope=col>cfscale</th><th scope=col>trials</th><th scope=col>masc_power</th><th scope=col>masc_power_ci</th></tr>\n",
       "\t<tr><th scope=col>&lt;fct&gt;</th><th scope=col>&lt;fct&gt;</th><th scope=col>&lt;fct&gt;</th><th scope=col>&lt;fct&gt;</th><th scope=col>&lt;fct&gt;</th><th scope=col>&lt;fct&gt;</th><th scope=col>&lt;fct&gt;</th><th scope=col>&lt;fct&gt;</th><th scope=col>&lt;int&gt;</th><th scope=col>&lt;dbl&gt;</th><th scope=col>&lt;dbl&gt;</th></tr>\n",
       "</thead>\n",
       "<tbody>\n",
       "\t<tr><td>5</td><td>10</td><td>10</td><td>20</td><td>250</td><td>1</td><td>1</td><td>1</td><td>5</td><td>0.8</td><td>0.3506155</td></tr>\n",
       "\t<tr><td>5</td><td>17</td><td>3 </td><td>20</td><td>250</td><td>1</td><td>1</td><td>1</td><td>5</td><td>0.0</td><td>0.0000000</td></tr>\n",
       "</tbody>\n",
       "</table>\n"
      ],
      "text/latex": [
       "A data.frame: 2 × 11\n",
       "\\begin{tabular}{r|lllllllllll}\n",
       " ind\\_fc & ncases & nctrls & nsamples & ncells & bscale & sscale & cfscale & trials & masc\\_power & masc\\_power\\_ci\\\\\n",
       " <fct> & <fct> & <fct> & <fct> & <fct> & <fct> & <fct> & <fct> & <int> & <dbl> & <dbl>\\\\\n",
       "\\hline\n",
       "\t 5 & 10 & 10 & 20 & 250 & 1 & 1 & 1 & 5 & 0.8 & 0.3506155\\\\\n",
       "\t 5 & 17 & 3  & 20 & 250 & 1 & 1 & 1 & 5 & 0.0 & 0.0000000\\\\\n",
       "\\end{tabular}\n"
      ],
      "text/markdown": [
       "\n",
       "A data.frame: 2 × 11\n",
       "\n",
       "| ind_fc &lt;fct&gt; | ncases &lt;fct&gt; | nctrls &lt;fct&gt; | nsamples &lt;fct&gt; | ncells &lt;fct&gt; | bscale &lt;fct&gt; | sscale &lt;fct&gt; | cfscale &lt;fct&gt; | trials &lt;int&gt; | masc_power &lt;dbl&gt; | masc_power_ci &lt;dbl&gt; |\n",
       "|---|---|---|---|---|---|---|---|---|---|---|\n",
       "| 5 | 10 | 10 | 20 | 250 | 1 | 1 | 1 | 5 | 0.8 | 0.3506155 |\n",
       "| 5 | 17 | 3  | 20 | 250 | 1 | 1 | 1 | 5 | 0.0 | 0.0000000 |\n",
       "\n"
      ],
      "text/plain": [
       "  ind_fc ncases nctrls nsamples ncells bscale sscale cfscale trials masc_power\n",
       "1 5      10     10     20       250    1      1      1       5      0.8       \n",
       "2 5      17     3      20       250    1      1      1       5      0.0       \n",
       "  masc_power_ci\n",
       "1 0.3506155    \n",
       "2 0.0000000    "
      ]
     },
     "metadata": {},
     "output_type": "display_data"
    }
   ],
   "source": [
    "getPowerFromRes(\n",
    "    resFiles = filenames,\n",
    "    resTables = resTables,\n",
    "    threshold = 0.05,\n",
    "    z = 1.96,\n",
    "    stratByClus = FALSE\n",
    ")"
   ]
  },
  {
   "cell_type": "markdown",
   "metadata": {},
   "source": [
    "From these small number of simulations, we estimated that the unbalanced study design would have 0% power. However, by changing the balance of cases and controls so that the study design is more balanced, we see an estimated power of 80%. This example showcases how scPOST can be used to evaluate how changing a study design might affect power.\n",
    "\n",
    "For more accurate estimates, we recommend running higher numbers of simulations. In Millard *et al.*, we ran 500 simulations for each of these study designs, and estimated 12% power for the unbalanced study design and 60% power for the balanced study design."
   ]
  },
  {
   "cell_type": "code",
   "execution_count": null,
   "metadata": {},
   "outputs": [],
   "source": []
  },
  {
   "cell_type": "markdown",
   "metadata": {},
   "source": [
    "# End"
   ]
  }
 ],
 "metadata": {
  "kernelspec": {
   "display_name": "R",
   "language": "R",
   "name": "ir"
  },
  "language_info": {
   "codemirror_mode": "r",
   "file_extension": ".r",
   "mimetype": "text/x-r-source",
   "name": "R",
   "pygments_lexer": "r",
   "version": "3.6.1"
  },
  "toc-showcode": false,
  "toc-showtags": false
 },
 "nbformat": 4,
 "nbformat_minor": 4
}
