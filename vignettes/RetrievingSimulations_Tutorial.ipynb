{
 "cells": [
  {
   "cell_type": "markdown",
   "metadata": {},
   "source": [
    "# Objective: Retrieving a simulated dataset"
   ]
  },
  {
   "cell_type": "markdown",
   "metadata": {},
   "source": [
    "- scPOST is a simulation framework that estimates a study design's power to detect differentially abundant cell states (e.g. an expansion of a cell state in disease samples compared to healthy). \n",
    "- scPOST allows users to control the simulated data's characteristics, including: effect size, the number of samples, the number of cells per sample, the batch multiplexing structure, and the magnitude of simulated noise. \n",
    "- Users may retrieve simulated datasets (without performing association testing) to be used in multiple analyses\n",
    "\n",
    "Here, we'll simulate a realistic dataset by using a rheumatoid arthritis (RA) dataset described in Zhang F, Wei K, Slowikowski K, Fonseka C, Rao DA, *et al.*, *Nature Immunol* (2020). The metadata and PC embeddings for this batch-corrected dataset is provided in the pre-loaded data: ra_HarmObj.\n",
    "\n",
    "In this tutorial, we'll:\n",
    "- Retrieve the simulated dataset and see how it compares to the original input data\n",
    "- See how cf_scale affects the observed fold-change in a cell state between cases/ctrls"
   ]
  },
  {
   "cell_type": "markdown",
   "metadata": {},
   "source": [
    "## Install and load packages"
   ]
  },
  {
   "cell_type": "code",
   "execution_count": 1,
   "metadata": {},
   "outputs": [
    {
     "name": "stderr",
     "output_type": "stream",
     "text": [
      "Loading required package: usethis\n",
      "Downloading GitHub repo immunogenomics/scpost@HEAD\n"
     ]
    },
    {
     "name": "stdout",
     "output_type": "stream",
     "text": [
      "\n",
      "\u001b[32m✔\u001b[39m  \u001b[90mchecking for file ‘/tmp/Rtmpyo7iHe/remotesb2674458f227/immunogenomics-scpost-018a15e/DESCRIPTION’\u001b[39m\u001b[36m\u001b[39m\n",
      "\u001b[90m─\u001b[39m\u001b[90m  \u001b[39m\u001b[90mpreparing ‘scpost’:\u001b[39m\u001b[36m\u001b[39m\n",
      "\u001b[32m✔\u001b[39m  \u001b[90mchecking DESCRIPTION meta-information\u001b[39m\u001b[36m\u001b[39m\n",
      "\u001b[90m─\u001b[39m\u001b[90m  \u001b[39m\u001b[90mchecking for LF line-endings in source and make files and shell scripts\u001b[39m\u001b[36m\u001b[39m\n",
      "\u001b[90m─\u001b[39m\u001b[90m  \u001b[39m\u001b[90mchecking for empty or unneeded directories\u001b[39m\u001b[36m\u001b[39m\n",
      "\u001b[90m─\u001b[39m\u001b[90m  \u001b[39m\u001b[90mlooking to see if a ‘data/datalist’ file should be added\u001b[39m\u001b[36m\u001b[39m\n",
      "\u001b[90m─\u001b[39m\u001b[90m  \u001b[39m\u001b[90mbuilding ‘scpost_1.0.tar.gz’\u001b[39m\u001b[36m\u001b[36m (348ms)\u001b[36m\u001b[39m\n",
      "   Warning: invalid uid value replaced by that for user 'nobody'\n",
      "   \n",
      "\r"
     ]
    }
   ],
   "source": [
    "library(devtools)\n",
    "# devtools::install_github(repo = \"immunogenomics/scpost\")"
   ]
  },
  {
   "cell_type": "code",
   "execution_count": 1,
   "metadata": {},
   "outputs": [],
   "source": [
    "suppressPackageStartupMessages({\n",
    "    # imports for analyses\n",
    "    library(scpost)\n",
    "    library(dplyr)\n",
    "    \n",
    "    # imports for figures\n",
    "    library(ggplot2)\n",
    "    library(RColorBrewer)\n",
    "    library(patchwork)\n",
    "})\n",
    "\n",
    "fig.size <- function (height, width) {\n",
    "    options(repr.plot.height = height, repr.plot.width = width)\n",
    "}"
   ]
  },
  {
   "cell_type": "markdown",
   "metadata": {},
   "source": [
    "## Minimum input"
   ]
  },
  {
   "cell_type": "markdown",
   "metadata": {},
   "source": [
    "To simulate data, scPOST uses an input prototype dataset (such as public or pilot data). scPOST estimates two types of variation often found in multi-sample single-cell data:\n",
    "\n",
    "1. Variation in a cell state's frequency across samples (Cell state frequency variation)\n",
    "1. Variation in a cell state's gene expression. We estimate and simulate gene expression with principal components (PCs), because PCs are a summary of gene expression that also takes into account gene covariation. This also reduces computational burden.\n",
    "\n",
    "scPOST requires the following inputs for each cell:\n",
    "\n",
    "1. Cell state annotations (in single-cell these are often obtained from clustering algorithms, such as the Louvain method)\n",
    "1. Sample annotations (the sample each cell comes from)\n",
    "1. Batch annotations (if no batch information for the data is available, it is sufficient to treat every sample as it's own batch)\n",
    "1. Principal component values (these are obtained from PCA)\n",
    "\n",
    "Let's take a look at a prototype dataset that we will apply scPOST to."
   ]
  },
  {
   "cell_type": "code",
   "execution_count": 2,
   "metadata": {},
   "outputs": [
    {
     "name": "stdout",
     "output_type": "stream",
     "text": [
      "'data.frame':\t5265 obs. of  11 variables:\n",
      " $ UMAP1      : num  5.62 8.12 5.62 4.77 6.4 ...\n",
      " $ UMAP2      : num  8.79 9.33 8.94 9.74 9.27 ...\n",
      " $ CellID     : chr  \"S006_L1Q1_A03\" \"S006_L1Q1_A05\" \"S006_L1Q1_A07\" \"S006_L1Q1_A09\" ...\n",
      " $ sample     : Factor w/ 21 levels \"300-0122\",\"300-0153\",..: 18 18 18 18 18 18 18 18 18 18 ...\n",
      " $ batch      : Factor w/ 24 levels \"S006\",\"S010\",..: 1 1 1 1 1 1 1 1 1 1 ...\n",
      " $ disease    : chr  \"OA\" \"OA\" \"OA\" \"OA\" ...\n",
      " $ nUMI       : int  2728 4074 2409 3456 2445 1920 3248 2469 1574 3775 ...\n",
      " $ nGenes     : int  1239 1673 1305 1607 1362 978 1367 1159 808 1854 ...\n",
      " $ celltype   : Factor w/ 5 levels \"B cell\",\"Empty\",..: 5 5 5 5 5 5 5 5 5 5 ...\n",
      " $ preHarmClus: Factor w/ 16 levels \"0\",\"1\",\"2\",\"3\",..: 4 4 4 4 4 6 4 6 7 4 ...\n",
      " $ harmClus   : Factor w/ 12 levels \"0\",\"1\",\"2\",\"3\",..: 1 5 1 1 1 5 1 5 1 1 ...\n"
     ]
    },
    {
     "data": {
      "text/html": [
       "<table>\n",
       "<caption>A matrix: 2 × 20 of type dbl</caption>\n",
       "<thead>\n",
       "\t<tr><th></th><th scope=col>PC1</th><th scope=col>PC2</th><th scope=col>PC3</th><th scope=col>PC4</th><th scope=col>PC5</th><th scope=col>PC6</th><th scope=col>PC7</th><th scope=col>PC8</th><th scope=col>PC9</th><th scope=col>PC10</th><th scope=col>PC11</th><th scope=col>PC12</th><th scope=col>PC13</th><th scope=col>PC14</th><th scope=col>PC15</th><th scope=col>PC16</th><th scope=col>PC17</th><th scope=col>PC18</th><th scope=col>PC19</th><th scope=col>PC20</th></tr>\n",
       "</thead>\n",
       "<tbody>\n",
       "\t<tr><th scope=row>S006_L1Q1_A03</th><td>11.57628</td><td>6.304524</td><td>-3.532067</td><td>-2.3212458</td><td>-4.534631</td><td> 4.423516</td><td> 1.226113</td><td> 0.6364615</td><td>0.18457875</td><td>-1.742039</td><td>-0.4326295</td><td>0.7424086</td><td> 2.85007198</td><td>-0.5497023</td><td>-0.05773964</td><td>1.1564199</td><td>0.04095544</td><td>1.424328</td><td>-0.7622679</td><td> 0.5349482</td></tr>\n",
       "\t<tr><th scope=row>S006_L1Q1_A05</th><td>13.65466</td><td>6.387232</td><td>-8.760231</td><td> 0.8590661</td><td> 1.222178</td><td>-1.380863</td><td>-1.815533</td><td>-3.7155236</td><td>0.01938719</td><td>-2.097043</td><td>-2.4153602</td><td>0.4064317</td><td>-0.05631964</td><td> 2.5217680</td><td>-1.15868534</td><td>0.9470168</td><td>1.45416877</td><td>1.212025</td><td> 0.4820971</td><td>-3.8591148</td></tr>\n",
       "</tbody>\n",
       "</table>\n"
      ],
      "text/latex": [
       "A matrix: 2 × 20 of type dbl\n",
       "\\begin{tabular}{r|llllllllllllllllllll}\n",
       "  & PC1 & PC2 & PC3 & PC4 & PC5 & PC6 & PC7 & PC8 & PC9 & PC10 & PC11 & PC12 & PC13 & PC14 & PC15 & PC16 & PC17 & PC18 & PC19 & PC20\\\\\n",
       "\\hline\n",
       "\tS006\\_L1Q1\\_A03 & 11.57628 & 6.304524 & -3.532067 & -2.3212458 & -4.534631 &  4.423516 &  1.226113 &  0.6364615 & 0.18457875 & -1.742039 & -0.4326295 & 0.7424086 &  2.85007198 & -0.5497023 & -0.05773964 & 1.1564199 & 0.04095544 & 1.424328 & -0.7622679 &  0.5349482\\\\\n",
       "\tS006\\_L1Q1\\_A05 & 13.65466 & 6.387232 & -8.760231 &  0.8590661 &  1.222178 & -1.380863 & -1.815533 & -3.7155236 & 0.01938719 & -2.097043 & -2.4153602 & 0.4064317 & -0.05631964 &  2.5217680 & -1.15868534 & 0.9470168 & 1.45416877 & 1.212025 &  0.4820971 & -3.8591148\\\\\n",
       "\\end{tabular}\n"
      ],
      "text/markdown": [
       "\n",
       "A matrix: 2 × 20 of type dbl\n",
       "\n",
       "| <!--/--> | PC1 | PC2 | PC3 | PC4 | PC5 | PC6 | PC7 | PC8 | PC9 | PC10 | PC11 | PC12 | PC13 | PC14 | PC15 | PC16 | PC17 | PC18 | PC19 | PC20 |\n",
       "|---|---|---|---|---|---|---|---|---|---|---|---|---|---|---|---|---|---|---|---|---|\n",
       "| S006_L1Q1_A03 | 11.57628 | 6.304524 | -3.532067 | -2.3212458 | -4.534631 |  4.423516 |  1.226113 |  0.6364615 | 0.18457875 | -1.742039 | -0.4326295 | 0.7424086 |  2.85007198 | -0.5497023 | -0.05773964 | 1.1564199 | 0.04095544 | 1.424328 | -0.7622679 |  0.5349482 |\n",
       "| S006_L1Q1_A05 | 13.65466 | 6.387232 | -8.760231 |  0.8590661 |  1.222178 | -1.380863 | -1.815533 | -3.7155236 | 0.01938719 | -2.097043 | -2.4153602 | 0.4064317 | -0.05631964 |  2.5217680 | -1.15868534 | 0.9470168 | 1.45416877 | 1.212025 |  0.4820971 | -3.8591148 |\n",
       "\n"
      ],
      "text/plain": [
       "              PC1      PC2      PC3       PC4        PC5       PC6      \n",
       "S006_L1Q1_A03 11.57628 6.304524 -3.532067 -2.3212458 -4.534631  4.423516\n",
       "S006_L1Q1_A05 13.65466 6.387232 -8.760231  0.8590661  1.222178 -1.380863\n",
       "              PC7       PC8        PC9        PC10      PC11       PC12     \n",
       "S006_L1Q1_A03  1.226113  0.6364615 0.18457875 -1.742039 -0.4326295 0.7424086\n",
       "S006_L1Q1_A05 -1.815533 -3.7155236 0.01938719 -2.097043 -2.4153602 0.4064317\n",
       "              PC13        PC14       PC15        PC16      PC17       PC18    \n",
       "S006_L1Q1_A03  2.85007198 -0.5497023 -0.05773964 1.1564199 0.04095544 1.424328\n",
       "S006_L1Q1_A05 -0.05631964  2.5217680 -1.15868534 0.9470168 1.45416877 1.212025\n",
       "              PC19       PC20      \n",
       "S006_L1Q1_A03 -0.7622679  0.5349482\n",
       "S006_L1Q1_A05  0.4820971 -3.8591148"
      ]
     },
     "metadata": {},
     "output_type": "display_data"
    }
   ],
   "source": [
    "ra_HarmObj$meta %>% str\n",
    "ra_HarmObj$embeddings %>% head(2)"
   ]
  },
  {
   "cell_type": "markdown",
   "metadata": {},
   "source": [
    "In the metadata, we have:\n",
    "\n",
    "- Cell state annotations (harmClus)\n",
    "- Sample annotations (sample)\n",
    "- Batch annotations (batch)\n",
    "\n",
    "In the embeddings, we have:\n",
    "\n",
    "- Principal component values for 20 PCs"
   ]
  },
  {
   "cell_type": "markdown",
   "metadata": {},
   "source": [
    "# Step 1: Parameter estimation"
   ]
  },
  {
   "cell_type": "code",
   "execution_count": 3,
   "metadata": {},
   "outputs": [
    {
     "data": {
      "text/plain": [
       "   user  system elapsed \n",
       "  0.209   0.019   0.229 "
      ]
     },
     "metadata": {},
     "output_type": "display_data"
    }
   ],
   "source": [
    "system.time({\n",
    "    ra_freqEstimates <- estimateFreqVar(meta = ra_HarmObj$meta, clusCol = 'harmClus', sampleCol = 'sample', logCov = TRUE)\n",
    "})"
   ]
  },
  {
   "cell_type": "code",
   "execution_count": 4,
   "metadata": {},
   "outputs": [
    {
     "data": {
      "text/plain": [
       "   user  system elapsed \n",
       "  9.142   1.901   8.772 "
      ]
     },
     "metadata": {},
     "output_type": "display_data"
    }
   ],
   "source": [
    "system.time({\n",
    "    ra_pcEstimates <- estimatePCVar(pca = ra_HarmObj$embeddings, npcs = 20, meta = ra_HarmObj$meta, clusCol = 'harmClus',\n",
    "                                    sampleCol = 'sample', batchCol = 'batch')\n",
    "})"
   ]
  },
  {
   "cell_type": "markdown",
   "metadata": {},
   "source": [
    "# Step 2: Simulate dataset"
   ]
  },
  {
   "cell_type": "markdown",
   "metadata": {},
   "source": [
    "Here, we'll simulate a realistic dataset like we did in the \"Getting Started\" tutorial. However, we now use the simDataset.base function, which simulates a dataset based on the estimated parameters; it does not perform association testing like the simDataset.withMASC function. "
   ]
  },
  {
   "cell_type": "code",
   "execution_count": 6,
   "metadata": {},
   "outputs": [],
   "source": [
    "set.seed(23)\n",
    "\n",
    "# Set the number of samples, number of cells per sample, and create batch structure\n",
    "ncases <- 17\n",
    "nctrls <- 4\n",
    "nbatches <- 4\n",
    "batchStructure <- distribSamples(ncases = ncases, nctrls = nctrls, nbatches = nbatches)\n",
    "ncells <- rep(250, times = ncases + nctrls)\n",
    "names(ncells) <- batchStructure$sample_names"
   ]
  },
  {
   "cell_type": "markdown",
   "metadata": {},
   "source": [
    "Next, we'll set up a parameter table with the \"createParamTable\" function that we'll use to run multiple simulations: \n",
    "- We'll simulate realistic levels of variation by setting \"b_scale\", \"s_scale\", and \"cf_scale\" equal to 1. \n",
    "- We'll won't induce a fold-change, so we'll set fc = 1, and just choose a random cluster to to induce the fold-change into\n",
    "- We'll set up a folder where we will save our results"
   ]
  },
  {
   "cell_type": "code",
   "execution_count": 7,
   "metadata": {},
   "outputs": [
    {
     "data": {
      "text/html": [
       "<table>\n",
       "<caption>A data.frame: 1 × 13</caption>\n",
       "<thead>\n",
       "\t<tr><th scope=col>rep</th><th scope=col>ncases</th><th scope=col>nctrls</th><th scope=col>nbatches</th><th scope=col>b_scale</th><th scope=col>s_scale</th><th scope=col>cf_scale</th><th scope=col>clus</th><th scope=col>fc</th><th scope=col>res_use</th><th scope=col>save_path</th><th scope=col>cond_induce</th><th scope=col>seed</th></tr>\n",
       "\t<tr><th scope=col>&lt;int&gt;</th><th scope=col>&lt;dbl&gt;</th><th scope=col>&lt;dbl&gt;</th><th scope=col>&lt;dbl&gt;</th><th scope=col>&lt;dbl&gt;</th><th scope=col>&lt;dbl&gt;</th><th scope=col>&lt;dbl&gt;</th><th scope=col>&lt;fct&gt;</th><th scope=col>&lt;dbl&gt;</th><th scope=col>&lt;dbl&gt;</th><th scope=col>&lt;fct&gt;</th><th scope=col>&lt;chr&gt;</th><th scope=col>&lt;int&gt;</th></tr>\n",
       "</thead>\n",
       "<tbody>\n",
       "\t<tr><td>1</td><td>17</td><td>4</td><td>4</td><td>1</td><td>1</td><td>1</td><td>clus0</td><td>1</td><td>0.6</td><td>/data/srlab1/nmillard/scpost/vignettes/scpostSims/retrievingSimulations</td><td>cases</td><td>1294557932</td></tr>\n",
       "</tbody>\n",
       "</table>\n"
      ],
      "text/latex": [
       "A data.frame: 1 × 13\n",
       "\\begin{tabular}{r|lllllllllllll}\n",
       " rep & ncases & nctrls & nbatches & b\\_scale & s\\_scale & cf\\_scale & clus & fc & res\\_use & save\\_path & cond\\_induce & seed\\\\\n",
       " <int> & <dbl> & <dbl> & <dbl> & <dbl> & <dbl> & <dbl> & <fct> & <dbl> & <dbl> & <fct> & <chr> & <int>\\\\\n",
       "\\hline\n",
       "\t 1 & 17 & 4 & 4 & 1 & 1 & 1 & clus0 & 1 & 0.6 & /data/srlab1/nmillard/scpost/vignettes/scpostSims/retrievingSimulations & cases & 1294557932\\\\\n",
       "\\end{tabular}\n"
      ],
      "text/markdown": [
       "\n",
       "A data.frame: 1 × 13\n",
       "\n",
       "| rep &lt;int&gt; | ncases &lt;dbl&gt; | nctrls &lt;dbl&gt; | nbatches &lt;dbl&gt; | b_scale &lt;dbl&gt; | s_scale &lt;dbl&gt; | cf_scale &lt;dbl&gt; | clus &lt;fct&gt; | fc &lt;dbl&gt; | res_use &lt;dbl&gt; | save_path &lt;fct&gt; | cond_induce &lt;chr&gt; | seed &lt;int&gt; |\n",
       "|---|---|---|---|---|---|---|---|---|---|---|---|---|\n",
       "| 1 | 17 | 4 | 4 | 1 | 1 | 1 | clus0 | 1 | 0.6 | /data/srlab1/nmillard/scpost/vignettes/scpostSims/retrievingSimulations | cases | 1294557932 |\n",
       "\n"
      ],
      "text/plain": [
       "  rep ncases nctrls nbatches b_scale s_scale cf_scale clus  fc res_use\n",
       "1 1   17     4      4        1       1       1        clus0 1  0.6    \n",
       "  save_path                                                              \n",
       "1 /data/srlab1/nmillard/scpost/vignettes/scpostSims/retrievingSimulations\n",
       "  cond_induce seed      \n",
       "1 cases       1294557932"
      ]
     },
     "metadata": {},
     "output_type": "display_data"
    }
   ],
   "source": [
    "params <- createParamTable(\n",
    "    nreps = 1,\n",
    "    clus = \"clus0\",\n",
    "    fc = 1,\n",
    "    ncases = ncases,\n",
    "    nctrls = nctrls,\n",
    "    nbatches = nbatches,\n",
    "    b_scale = 1,\n",
    "    s_scale = 1,\n",
    "    cf_scale = 1,\n",
    "    res_use = 0.6,\n",
    "    cond_induce = \"cases\",\n",
    "    save_path = file.path(getwd(), \"scpostSims/retrievingSimulations\")\n",
    ")\n",
    "\n",
    "params %>% head(2)"
   ]
  },
  {
   "cell_type": "markdown",
   "metadata": {},
   "source": [
    "Here, we want to return the dataset PC embeddings, so we set the \"returnPCs\" argument to TRUE. We do not need to re-cluster the simulated data, so we set the \"clusterData\" argument to FALSE."
   ]
  },
  {
   "cell_type": "code",
   "execution_count": 8,
   "metadata": {},
   "outputs": [
    {
     "name": "stderr",
     "output_type": "stream",
     "text": [
      "Simulated dataset at 2020-11-24 16:26:01\n"
     ]
    },
    {
     "data": {
      "text/html": [
       "<ol>\n",
       "\t<li>NULL</li>\n",
       "</ol>\n"
      ],
      "text/latex": [
       "\\begin{enumerate}\n",
       "\\item NULL\n",
       "\\end{enumerate}\n"
      ],
      "text/markdown": [
       "1. NULL\n",
       "\n",
       "\n"
      ],
      "text/plain": [
       "[[1]]\n",
       "NULL\n"
      ]
     },
     "metadata": {},
     "output_type": "display_data"
    }
   ],
   "source": [
    "suppressWarnings({\n",
    "    lapply(seq(nrow(params)), function(x){\n",
    "            simDataset.base(\n",
    "                save_path = params[x, 'save_path'],\n",
    "                rep = params[x, 'rep'],\n",
    "                seed = params[x, 'seed'],\n",
    "                ncases = params[x, 'ncases'],\n",
    "                nctrls = params[x, 'nctrls'],\n",
    "                nbatches = params[x, 'nbatches'],\n",
    "                batchStructure = batchStructure,\n",
    "                ncells = ncells,\n",
    "                centroids = ra_pcEstimates$centroids,\n",
    "                pc_cov_list = ra_pcEstimates$pc_cov_list,\n",
    "                batch_vars = ra_pcEstimates$batch_vars,\n",
    "                b_scale = params[x, 'b_scale'],\n",
    "                sample_vars = ra_pcEstimates$sample_vars,\n",
    "                s_scale = params[x, 's_scale'],\n",
    "                cfcov = ra_freqEstimates$cfcov,\n",
    "                cf_scale = params[x, 'cf_scale'],\n",
    "                meanFreqs = ra_freqEstimates$meanFreq,\n",
    "                clus = params[x, 'clus'],\n",
    "                fc = params[x, 'fc'],\n",
    "                cond_induce = params[x, 'cond_induce'],\n",
    "                res_use = params[x, 'res_use'], \n",
    "                mc.cores = 1,\n",
    "                clusterData = FALSE,\n",
    "                returnPCs = TRUE\n",
    "            )\n",
    "    })\n",
    "})"
   ]
  },
  {
   "cell_type": "markdown",
   "metadata": {},
   "source": [
    "# Retrieve simulated dataset"
   ]
  },
  {
   "cell_type": "code",
   "execution_count": 9,
   "metadata": {},
   "outputs": [],
   "source": [
    "dir <- file.path(getwd(), \"scpostSims/retrievingSimulations/\")\n",
    "sim_filenames <- list.files(path = dir,\n",
    "                            full.names = T) %>% basename\n",
    "sim_data <- lapply(sim_filenames, function(x){\n",
    "        readRDS(file.path(dir, x))\n",
    "})"
   ]
  },
  {
   "cell_type": "markdown",
   "metadata": {},
   "source": [
    "From the saved data, we see that we simulated 5,253 cells. Let's visualize how the PC embeddings of our simulated dataset compare to the original data"
   ]
  },
  {
   "cell_type": "code",
   "execution_count": 10,
   "metadata": {},
   "outputs": [
    {
     "name": "stdout",
     "output_type": "stream",
     "text": [
      "List of 2\n",
      " $ meta   :'data.frame':\t5252 obs. of  4 variables:\n",
      "  ..$ cellstate: Factor w/ 12 levels \"0\",\"1\",\"2\",\"3\",..: 1 1 1 3 3 3 3 3 3 3 ...\n",
      "  ..$ sample   : Factor w/ 21 levels \"sample13\",\"sample17\",..: 3 3 3 3 3 3 3 3 3 3 ...\n",
      "  ..$ condition: Factor w/ 2 levels \"case\",\"ctrl\": 1 1 1 1 1 1 1 1 1 1 ...\n",
      "  ..$ batch    : chr [1:5252] \"batch1\" \"batch1\" \"batch1\" \"batch1\" ...\n",
      " $ new_pcs: num [1:5252, 1:20] 13.01 12.24 12.9 4.33 3.24 ...\n",
      "  ..- attr(*, \"dimnames\")=List of 2\n",
      "  .. ..$ : chr [1:5252] \"1\" \"2\" \"3\" \"4\" ...\n",
      "  .. ..$ : chr [1:20] \"PC1\" \"PC2\" \"PC3\" \"PC4\" ...\n"
     ]
    }
   ],
   "source": [
    "sim_data[[1]] %>% str"
   ]
  },
  {
   "cell_type": "markdown",
   "metadata": {},
   "source": [
    "Now let's combine our simulated data with the real data"
   ]
  },
  {
   "cell_type": "code",
   "execution_count": 11,
   "metadata": {},
   "outputs": [
    {
     "data": {
      "text/html": [
       "<table>\n",
       "<caption>A data.frame: 2 × 24</caption>\n",
       "<thead>\n",
       "\t<tr><th></th><th scope=col>cellstate</th><th scope=col>sample</th><th scope=col>batch</th><th scope=col>PC1</th><th scope=col>PC2</th><th scope=col>PC3</th><th scope=col>PC4</th><th scope=col>PC5</th><th scope=col>PC6</th><th scope=col>PC7</th><th scope=col>⋯</th><th scope=col>PC12</th><th scope=col>PC13</th><th scope=col>PC14</th><th scope=col>PC15</th><th scope=col>PC16</th><th scope=col>PC17</th><th scope=col>PC18</th><th scope=col>PC19</th><th scope=col>PC20</th><th scope=col>dataset</th></tr>\n",
       "\t<tr><th></th><th scope=col>&lt;fct&gt;</th><th scope=col>&lt;fct&gt;</th><th scope=col>&lt;fct&gt;</th><th scope=col>&lt;dbl&gt;</th><th scope=col>&lt;dbl&gt;</th><th scope=col>&lt;dbl&gt;</th><th scope=col>&lt;dbl&gt;</th><th scope=col>&lt;dbl&gt;</th><th scope=col>&lt;dbl&gt;</th><th scope=col>&lt;dbl&gt;</th><th scope=col>⋯</th><th scope=col>&lt;dbl&gt;</th><th scope=col>&lt;dbl&gt;</th><th scope=col>&lt;dbl&gt;</th><th scope=col>&lt;dbl&gt;</th><th scope=col>&lt;dbl&gt;</th><th scope=col>&lt;dbl&gt;</th><th scope=col>&lt;dbl&gt;</th><th scope=col>&lt;dbl&gt;</th><th scope=col>&lt;dbl&gt;</th><th scope=col>&lt;chr&gt;</th></tr>\n",
       "</thead>\n",
       "<tbody>\n",
       "\t<tr><th scope=row>2</th><td>0</td><td>301-0159</td><td>S006</td><td>11.57628</td><td>6.304524</td><td>-3.532067</td><td>-2.3212458</td><td>-4.534631</td><td> 4.423516</td><td> 1.226113</td><td>⋯</td><td>0.7424086</td><td> 2.85007198</td><td>-0.5497023</td><td>-0.05773964</td><td>1.1564199</td><td>0.04095544</td><td>1.424328</td><td>-0.7622679</td><td> 0.5349482</td><td>Real</td></tr>\n",
       "\t<tr><th scope=row>3</th><td>4</td><td>301-0159</td><td>S006</td><td>13.65466</td><td>6.387232</td><td>-8.760231</td><td> 0.8590661</td><td> 1.222178</td><td>-1.380863</td><td>-1.815533</td><td>⋯</td><td>0.4064317</td><td>-0.05631964</td><td> 2.5217680</td><td>-1.15868534</td><td>0.9470168</td><td>1.45416877</td><td>1.212025</td><td> 0.4820971</td><td>-3.8591148</td><td>Real</td></tr>\n",
       "</tbody>\n",
       "</table>\n"
      ],
      "text/latex": [
       "A data.frame: 2 × 24\n",
       "\\begin{tabular}{r|llllllllllllllllllllllll}\n",
       "  & cellstate & sample & batch & PC1 & PC2 & PC3 & PC4 & PC5 & PC6 & PC7 & PC8 & PC9 & PC10 & PC11 & PC12 & PC13 & PC14 & PC15 & PC16 & PC17 & PC18 & PC19 & PC20 & dataset\\\\\n",
       "  & <fct> & <fct> & <fct> & <dbl> & <dbl> & <dbl> & <dbl> & <dbl> & <dbl> & <dbl> & <dbl> & <dbl> & <dbl> & <dbl> & <dbl> & <dbl> & <dbl> & <dbl> & <dbl> & <dbl> & <dbl> & <dbl> & <dbl> & <chr>\\\\\n",
       "\\hline\n",
       "\t2 & 0 & 301-0159 & S006 & 11.57628 & 6.304524 & -3.532067 & -2.3212458 & -4.534631 &  4.423516 &  1.226113 &  0.6364615 & 0.18457875 & -1.742039 & -0.4326295 & 0.7424086 &  2.85007198 & -0.5497023 & -0.05773964 & 1.1564199 & 0.04095544 & 1.424328 & -0.7622679 &  0.5349482 & Real\\\\\n",
       "\t3 & 4 & 301-0159 & S006 & 13.65466 & 6.387232 & -8.760231 &  0.8590661 &  1.222178 & -1.380863 & -1.815533 & -3.7155236 & 0.01938719 & -2.097043 & -2.4153602 & 0.4064317 & -0.05631964 &  2.5217680 & -1.15868534 & 0.9470168 & 1.45416877 & 1.212025 &  0.4820971 & -3.8591148 & Real\\\\\n",
       "\\end{tabular}\n"
      ],
      "text/markdown": [
       "\n",
       "A data.frame: 2 × 24\n",
       "\n",
       "| <!--/--> | cellstate &lt;fct&gt; | sample &lt;fct&gt; | batch &lt;fct&gt; | PC1 &lt;dbl&gt; | PC2 &lt;dbl&gt; | PC3 &lt;dbl&gt; | PC4 &lt;dbl&gt; | PC5 &lt;dbl&gt; | PC6 &lt;dbl&gt; | PC7 &lt;dbl&gt; | ⋯ ⋯ | PC12 &lt;dbl&gt; | PC13 &lt;dbl&gt; | PC14 &lt;dbl&gt; | PC15 &lt;dbl&gt; | PC16 &lt;dbl&gt; | PC17 &lt;dbl&gt; | PC18 &lt;dbl&gt; | PC19 &lt;dbl&gt; | PC20 &lt;dbl&gt; | dataset &lt;chr&gt; |\n",
       "|---|---|---|---|---|---|---|---|---|---|---|---|---|---|---|---|---|---|---|---|---|---|\n",
       "| 2 | 0 | 301-0159 | S006 | 11.57628 | 6.304524 | -3.532067 | -2.3212458 | -4.534631 |  4.423516 |  1.226113 | ⋯ | 0.7424086 |  2.85007198 | -0.5497023 | -0.05773964 | 1.1564199 | 0.04095544 | 1.424328 | -0.7622679 |  0.5349482 | Real |\n",
       "| 3 | 4 | 301-0159 | S006 | 13.65466 | 6.387232 | -8.760231 |  0.8590661 |  1.222178 | -1.380863 | -1.815533 | ⋯ | 0.4064317 | -0.05631964 |  2.5217680 | -1.15868534 | 0.9470168 | 1.45416877 | 1.212025 |  0.4820971 | -3.8591148 | Real |\n",
       "\n"
      ],
      "text/plain": [
       "  cellstate sample   batch PC1      PC2      PC3       PC4        PC5      \n",
       "2 0         301-0159 S006  11.57628 6.304524 -3.532067 -2.3212458 -4.534631\n",
       "3 4         301-0159 S006  13.65466 6.387232 -8.760231  0.8590661  1.222178\n",
       "  PC6       PC7       ⋯ PC12      PC13        PC14       PC15        PC16     \n",
       "2  4.423516  1.226113 ⋯ 0.7424086  2.85007198 -0.5497023 -0.05773964 1.1564199\n",
       "3 -1.380863 -1.815533 ⋯ 0.4064317 -0.05631964  2.5217680 -1.15868534 0.9470168\n",
       "  PC17       PC18     PC19       PC20       dataset\n",
       "2 0.04095544 1.424328 -0.7622679  0.5349482 Real   \n",
       "3 1.45416877 1.212025  0.4820971 -3.8591148 Real   "
      ]
     },
     "metadata": {},
     "output_type": "display_data"
    }
   ],
   "source": [
    "ra_pcs <- cbind.data.frame(ra_HarmObj$meta, ra_HarmObj$embeddings) %>% dplyr::select(c(harmClus, sample, batch,\n",
    "                                                                                        paste0(\"PC\", 1:20)))\n",
    "sim_pcs <- cbind.data.frame(sim_data[[1]]$meta, sim_data[[1]]$new_pcs) %>% dplyr::select(-condition)\n",
    "colnames(ra_pcs) <- c(\"cellstate\", \"sample\", \"batch\", paste0(\"PC\", 1:20))\n",
    "colnames(sim_pcs) <- c(\"cellstate\", \"sample\", \"batch\", paste0(\"PC\", 1:20))\n",
    "\n",
    "comb_pcs <- rbind.data.frame(ra_pcs, sim_pcs)\n",
    "comb_pcs$dataset <- c(rep(\"Real\", nrow(ra_pcs)), rep(\"Sim\", nrow(sim_pcs)))\n",
    "\n",
    "comb_pcs %>% head(2)"
   ]
  },
  {
   "cell_type": "markdown",
   "metadata": {},
   "source": [
    "## Visualize the real input RA dataset with the simulated dataset"
   ]
  },
  {
   "cell_type": "code",
   "execution_count": 12,
   "metadata": {},
   "outputs": [
    {
     "data": {
      "text/plain": [
       "   user  system elapsed \n",
       " 13.409   1.778  11.241 "
      ]
     },
     "metadata": {},
     "output_type": "display_data"
    }
   ],
   "source": [
    "system.time({\n",
    "    umap_comb <- uwot::umap(comb_pcs %>% dplyr::select(paste0(\"PC\", 1:20)))\n",
    "    colnames(umap_comb) <- paste0(\"UMAP\", 1:2)\n",
    "    plot_comb <- cbind.data.frame(umap_comb, comb_pcs)\n",
    "})"
   ]
  },
  {
   "cell_type": "code",
   "execution_count": 13,
   "metadata": {},
   "outputs": [
    {
     "data": {
      "image/png": "[encoded data removed]",
      "text/plain": [
       "plot without title"
      ]
     },
     "metadata": {},
     "output_type": "display_data"
    }
   ],
   "source": [
    "# create color palette\n",
    "plotPal <- colorRampPalette(brewer.pal(9, 'Set1'))\n",
    "\n",
    "fig.size(4,10)\n",
    "plot_comb %>% sample_frac %>% ggplot(aes(x = UMAP1, y = UMAP2, col = cellstate)) +\n",
    "    geom_point(size = 0.1) +\n",
    "    theme_classic() +\n",
    "    labs(title = 'Real and simulated RA datasets in UMAP space', col = 'Cell state') +\n",
    "    scale_color_manual(values = plotPal(plot_comb$cellstate %>% unique %>% length)) +\n",
    "    guides(col = guide_legend(override.aes = list(stroke = 1, alpha = 1, shape = 19, size = 4))) +\n",
    "    facet_wrap(~dataset)"
   ]
  },
  {
   "cell_type": "markdown",
   "metadata": {},
   "source": [
    "It looks like the simulated cells were placed into a similar PC space when compared to the real data. A notable difference between the simulated dataset and the input real data is the number of each state. This is because the simulated dataset also generates cell state frequency distributions for each simulated sample, which will be different from the real data. For example, our simulated dataset generated more cells as cell state 2, but fewer cells as cell state 3."
   ]
  },
  {
   "cell_type": "code",
   "execution_count": 14,
   "metadata": {},
   "outputs": [
    {
     "data": {
      "text/plain": [
       ".\n",
       "  0   1   2   3   4   5   6   7   8   9  10  11 \n",
       "824 805 752 694 549 508 359 308 284 107  45  30 "
      ]
     },
     "metadata": {},
     "output_type": "display_data"
    },
    {
     "data": {
      "text/plain": [
       ".\n",
       "   0    1    2    3    4    5    6    7    8    9   10   11 \n",
       " 610 1041 1100  481  323  565  360  278  299   89   38   68 "
      ]
     },
     "metadata": {},
     "output_type": "display_data"
    }
   ],
   "source": [
    "plot_comb %>% filter(dataset == 'Real') %>% pull(cellstate) %>% table\n",
    "plot_comb %>% filter(dataset == 'Sim') %>% pull(cellstate) %>% table"
   ]
  },
  {
   "cell_type": "markdown",
   "metadata": {},
   "source": [
    "# Retrieving the observed fold-change in a simulated dataset"
   ]
  },
  {
   "cell_type": "markdown",
   "metadata": {},
   "source": [
    "scPOST simulates cell state frequency distributions for each simulated sample. Because our model includes variance in these distributions, the actual observed fold-change may be slightly different from the fold-change we wanted to induce. This is how cell state frequency variation contributes to a decrease in power; if the variance is high, random sampling can mask the true fold-change by resulting in a smaller observed fold-change.\n",
    "\n",
    "Let's simulate a few datasets with no cell state frequency variation, and then a few with realistic levels of cell state frequency variation. Then, we can check what the observed fold-change is. We do this by setting \"cf_scale\" to 0. A realistic level of variation (as estimated from the real data) would be \"cf_scale\" set to 1."
   ]
  },
  {
   "cell_type": "code",
   "execution_count": 15,
   "metadata": {},
   "outputs": [],
   "source": [
    "set.seed(23)\n",
    "\n",
    "# Set the number of samples, number of cells per sample, and create batch structure\n",
    "ncases <- 10\n",
    "nctrls <- 10\n",
    "nbatches <- 4\n",
    "batchStructure <- distribSamples(ncases = ncases, nctrls = nctrls, nbatches = nbatches)\n",
    "ncells <- rep(250, times = ncases + nctrls)\n",
    "names(ncells) <- batchStructure$sample_names"
   ]
  },
  {
   "cell_type": "markdown",
   "metadata": {},
   "source": [
    "Next, we'll set up a parameter table with the \"createParamTable\" function that we'll use to run multiple simulations: \n",
    "- We'll simulate realistic levels of variation by setting \"b_scale\", \"s_scale\". We'll simulate either 0 or realistic levels of cell state frequency variation by setting and \"cf_scale\" equal to 0 or 1 respectively. \n",
    "- We'll induce a fold-change of 2 in \"clus0\"\n",
    "- We'll set up a folder where we will save our results\n",
    "\n",
    "With the following parameter table, we'll run:\n",
    "\n",
    "- 5 simulations with cf_scale = 0\n",
    "- 5 simulations with cf_scale = 1"
   ]
  },
  {
   "cell_type": "code",
   "execution_count": 16,
   "metadata": {},
   "outputs": [
    {
     "data": {
      "text/html": [
       "<ol class=list-inline>\n",
       "\t<li>10</li>\n",
       "\t<li>13</li>\n",
       "</ol>\n"
      ],
      "text/latex": [
       "\\begin{enumerate*}\n",
       "\\item 10\n",
       "\\item 13\n",
       "\\end{enumerate*}\n"
      ],
      "text/markdown": [
       "1. 10\n",
       "2. 13\n",
       "\n",
       "\n"
      ],
      "text/plain": [
       "[1] 10 13"
      ]
     },
     "metadata": {},
     "output_type": "display_data"
    },
    {
     "data": {
      "text/html": [
       "<table>\n",
       "<caption>A data.frame: 2 × 13</caption>\n",
       "<thead>\n",
       "\t<tr><th scope=col>rep</th><th scope=col>ncases</th><th scope=col>nctrls</th><th scope=col>nbatches</th><th scope=col>b_scale</th><th scope=col>s_scale</th><th scope=col>cf_scale</th><th scope=col>clus</th><th scope=col>fc</th><th scope=col>res_use</th><th scope=col>save_path</th><th scope=col>cond_induce</th><th scope=col>seed</th></tr>\n",
       "\t<tr><th scope=col>&lt;int&gt;</th><th scope=col>&lt;dbl&gt;</th><th scope=col>&lt;dbl&gt;</th><th scope=col>&lt;dbl&gt;</th><th scope=col>&lt;dbl&gt;</th><th scope=col>&lt;dbl&gt;</th><th scope=col>&lt;dbl&gt;</th><th scope=col>&lt;fct&gt;</th><th scope=col>&lt;dbl&gt;</th><th scope=col>&lt;dbl&gt;</th><th scope=col>&lt;fct&gt;</th><th scope=col>&lt;chr&gt;</th><th scope=col>&lt;int&gt;</th></tr>\n",
       "</thead>\n",
       "<tbody>\n",
       "\t<tr><td>1</td><td>10</td><td>10</td><td>4</td><td>1</td><td>1</td><td>0</td><td>clus0</td><td>2</td><td>0.6</td><td>/data/srlab1/nmillard/scpost/vignettes/scpostSims/retrievingCFscale</td><td>cases</td><td> 265763406</td></tr>\n",
       "\t<tr><td>2</td><td>10</td><td>10</td><td>4</td><td>1</td><td>1</td><td>0</td><td>clus0</td><td>2</td><td>0.6</td><td>/data/srlab1/nmillard/scpost/vignettes/scpostSims/retrievingCFscale</td><td>cases</td><td>1113800433</td></tr>\n",
       "</tbody>\n",
       "</table>\n"
      ],
      "text/latex": [
       "A data.frame: 2 × 13\n",
       "\\begin{tabular}{r|lllllllllllll}\n",
       " rep & ncases & nctrls & nbatches & b\\_scale & s\\_scale & cf\\_scale & clus & fc & res\\_use & save\\_path & cond\\_induce & seed\\\\\n",
       " <int> & <dbl> & <dbl> & <dbl> & <dbl> & <dbl> & <dbl> & <fct> & <dbl> & <dbl> & <fct> & <chr> & <int>\\\\\n",
       "\\hline\n",
       "\t 1 & 10 & 10 & 4 & 1 & 1 & 0 & clus0 & 2 & 0.6 & /data/srlab1/nmillard/scpost/vignettes/scpostSims/retrievingCFscale & cases &  265763406\\\\\n",
       "\t 2 & 10 & 10 & 4 & 1 & 1 & 0 & clus0 & 2 & 0.6 & /data/srlab1/nmillard/scpost/vignettes/scpostSims/retrievingCFscale & cases & 1113800433\\\\\n",
       "\\end{tabular}\n"
      ],
      "text/markdown": [
       "\n",
       "A data.frame: 2 × 13\n",
       "\n",
       "| rep &lt;int&gt; | ncases &lt;dbl&gt; | nctrls &lt;dbl&gt; | nbatches &lt;dbl&gt; | b_scale &lt;dbl&gt; | s_scale &lt;dbl&gt; | cf_scale &lt;dbl&gt; | clus &lt;fct&gt; | fc &lt;dbl&gt; | res_use &lt;dbl&gt; | save_path &lt;fct&gt; | cond_induce &lt;chr&gt; | seed &lt;int&gt; |\n",
       "|---|---|---|---|---|---|---|---|---|---|---|---|---|\n",
       "| 1 | 10 | 10 | 4 | 1 | 1 | 0 | clus0 | 2 | 0.6 | /data/srlab1/nmillard/scpost/vignettes/scpostSims/retrievingCFscale | cases |  265763406 |\n",
       "| 2 | 10 | 10 | 4 | 1 | 1 | 0 | clus0 | 2 | 0.6 | /data/srlab1/nmillard/scpost/vignettes/scpostSims/retrievingCFscale | cases | 1113800433 |\n",
       "\n"
      ],
      "text/plain": [
       "  rep ncases nctrls nbatches b_scale s_scale cf_scale clus  fc res_use\n",
       "1 1   10     10     4        1       1       0        clus0 2  0.6    \n",
       "2 2   10     10     4        1       1       0        clus0 2  0.6    \n",
       "  save_path                                                          \n",
       "1 /data/srlab1/nmillard/scpost/vignettes/scpostSims/retrievingCFscale\n",
       "2 /data/srlab1/nmillard/scpost/vignettes/scpostSims/retrievingCFscale\n",
       "  cond_induce seed      \n",
       "1 cases        265763406\n",
       "2 cases       1113800433"
      ]
     },
     "metadata": {},
     "output_type": "display_data"
    }
   ],
   "source": [
    "params <- createParamTable(\n",
    "    nreps = 5,\n",
    "    clus = \"clus0\",\n",
    "    fc = 2,\n",
    "    ncases = ncases,\n",
    "    nctrls = nctrls,\n",
    "    nbatches = nbatches,\n",
    "    b_scale = 1,\n",
    "    s_scale = 1,\n",
    "    cf_scale = c(0,1),\n",
    "    res_use = 0.6,\n",
    "    cond_induce = \"cases\",\n",
    "    save_path = file.path(getwd(), \"scpostSims/retrievingCFscale\")\n",
    ")\n",
    "\n",
    "params %>% dim\n",
    "params %>% head(2)"
   ]
  },
  {
   "cell_type": "markdown",
   "metadata": {},
   "source": [
    "Here, we want to return the dataset PC embeddings, so we set the \"returnPCs\" argument to TRUE. We do not need to re-cluster the simulated data, so we set the \"clusterData\" argument to FALSE."
   ]
  },
  {
   "cell_type": "code",
   "execution_count": 17,
   "metadata": {},
   "outputs": [
    {
     "name": "stderr",
     "output_type": "stream",
     "text": [
      "Simulated dataset at 2020-11-24 16:26:57\n",
      "Simulated dataset at 2020-11-24 16:26:59\n",
      "Simulated dataset at 2020-11-24 16:27:01\n",
      "Simulated dataset at 2020-11-24 16:27:03\n",
      "Simulated dataset at 2020-11-24 16:27:04\n",
      "Simulated dataset at 2020-11-24 16:27:06\n",
      "Simulated dataset at 2020-11-24 16:27:08\n",
      "Simulated dataset at 2020-11-24 16:27:10\n",
      "Simulated dataset at 2020-11-24 16:27:11\n",
      "Simulated dataset at 2020-11-24 16:27:13\n"
     ]
    },
    {
     "data": {
      "text/html": [
       "<ol>\n",
       "\t<li>NULL</li>\n",
       "\t<li>NULL</li>\n",
       "\t<li>NULL</li>\n",
       "\t<li>NULL</li>\n",
       "\t<li>NULL</li>\n",
       "\t<li>NULL</li>\n",
       "\t<li>NULL</li>\n",
       "\t<li>NULL</li>\n",
       "\t<li>NULL</li>\n",
       "\t<li>NULL</li>\n",
       "</ol>\n"
      ],
      "text/latex": [
       "\\begin{enumerate}\n",
       "\\item NULL\n",
       "\\item NULL\n",
       "\\item NULL\n",
       "\\item NULL\n",
       "\\item NULL\n",
       "\\item NULL\n",
       "\\item NULL\n",
       "\\item NULL\n",
       "\\item NULL\n",
       "\\item NULL\n",
       "\\end{enumerate}\n"
      ],
      "text/markdown": [
       "1. NULL\n",
       "2. NULL\n",
       "3. NULL\n",
       "4. NULL\n",
       "5. NULL\n",
       "6. NULL\n",
       "7. NULL\n",
       "8. NULL\n",
       "9. NULL\n",
       "10. NULL\n",
       "\n",
       "\n"
      ],
      "text/plain": [
       "[[1]]\n",
       "NULL\n",
       "\n",
       "[[2]]\n",
       "NULL\n",
       "\n",
       "[[3]]\n",
       "NULL\n",
       "\n",
       "[[4]]\n",
       "NULL\n",
       "\n",
       "[[5]]\n",
       "NULL\n",
       "\n",
       "[[6]]\n",
       "NULL\n",
       "\n",
       "[[7]]\n",
       "NULL\n",
       "\n",
       "[[8]]\n",
       "NULL\n",
       "\n",
       "[[9]]\n",
       "NULL\n",
       "\n",
       "[[10]]\n",
       "NULL\n"
      ]
     },
     "metadata": {},
     "output_type": "display_data"
    }
   ],
   "source": [
    "suppressWarnings({\n",
    "    lapply(seq(nrow(params)), function(x){\n",
    "            simDataset.base(\n",
    "                save_path = params[x, 'save_path'],\n",
    "                rep = params[x, 'rep'],\n",
    "                seed = params[x, 'seed'],\n",
    "                ncases = params[x, 'ncases'],\n",
    "                nctrls = params[x, 'nctrls'],\n",
    "                nbatches = params[x, 'nbatches'],\n",
    "                batchStructure = batchStructure,\n",
    "                ncells = ncells,\n",
    "                centroids = ra_pcEstimates$centroids,\n",
    "                pc_cov_list = ra_pcEstimates$pc_cov_list,\n",
    "                batch_vars = ra_pcEstimates$batch_vars,\n",
    "                b_scale = params[x, 'b_scale'],\n",
    "                sample_vars = ra_pcEstimates$sample_vars,\n",
    "                s_scale = params[x, 's_scale'],\n",
    "                cfcov = ra_freqEstimates$cfcov,\n",
    "                cf_scale = params[x, 'cf_scale'],\n",
    "                meanFreqs = ra_freqEstimates$meanFreq,\n",
    "                clus = params[x, 'clus'],\n",
    "                fc = params[x, 'fc'],\n",
    "                cond_induce = params[x, 'cond_induce'],\n",
    "                res_use = params[x, 'res_use'], \n",
    "                mc.cores = 1,\n",
    "                clusterData = FALSE,\n",
    "                returnPCs = TRUE\n",
    "            )\n",
    "    })\n",
    "})"
   ]
  },
  {
   "cell_type": "markdown",
   "metadata": {},
   "source": [
    "## Retrieve simulated datasets"
   ]
  },
  {
   "cell_type": "code",
   "execution_count": 18,
   "metadata": {},
   "outputs": [
    {
     "data": {
      "text/html": [
       "10"
      ],
      "text/latex": [
       "10"
      ],
      "text/markdown": [
       "10"
      ],
      "text/plain": [
       "[1] 10"
      ]
     },
     "metadata": {},
     "output_type": "display_data"
    }
   ],
   "source": [
    "dir <- file.path(getwd(), \"scpostSims/retrievingCFscale/\")\n",
    "sim_filenames <- list.files(path = dir,\n",
    "                            full.names = T,) %>% basename\n",
    "sim_data <- lapply(sim_filenames, function(x){\n",
    "        readRDS(file.path(dir, x))[[\"meta\"]]\n",
    "})"
   ]
  },
  {
   "cell_type": "markdown",
   "metadata": {},
   "source": [
    "Now let's see what our observed fold-changes are. We induced a fold-change of 2 in cell state 0. When cf_scale = 0 (zero cell state frequency variation), we should see an exact fold-change of 2 in cell state 0, while we'll see some variance when cf_scale = 1"
   ]
  },
  {
   "cell_type": "code",
   "execution_count": 19,
   "metadata": {},
   "outputs": [
    {
     "data": {
      "image/png": "[encoded data removed]",
      "text/plain": [
       "plot without title"
      ]
     },
     "metadata": {},
     "output_type": "display_data"
    }
   ],
   "source": [
    "getFC <- function(meta_data, cluster){\n",
    "    tbl <- meta_data %>% subset(cellstate == paste0(cluster))\n",
    "    tbl %<>% group_by(condition) %>% summarize(freq = dplyr::n(), .groups = 'drop')\n",
    "    fc <- tbl %>% summarize(obs_fc = freq[condition == 'case'] / freq[condition == 'ctrl'], .groups = 'drop') %>% dplyr::pull(obs_fc)\n",
    "    return(fc)\n",
    "}\n",
    "\n",
    "obs_fcs <- data.frame(obs_fc = sapply(sim_data, function(x){\n",
    "    getFC(x, cluster = 0)\n",
    "}))\n",
    "obs_fcs$cf_scale <- c(rep(0, 5), rep(1, 5))\n",
    "\n",
    "mean_fcs <- obs_fcs %>% group_by(cf_scale) %>% summarise(mean_obs = mean(obs_fc), sd = sd(obs_fc), .groups = 'drop') %>% data.frame\n",
    "mean_fcs$cf_scale <- factor(mean_fcs$cf_scale, levels = c(0,1))\n",
    "\n",
    "fig.size(3,4)\n",
    "mean_fcs %>% ggplot(aes(x = cf_scale, y = mean_obs)) +\n",
    "    geom_bar(stat = 'identity', fill = 'gray') +\n",
    "    geom_errorbar(aes(ymin = mean_obs - sd, ymax = mean_obs + sd), width = 0.2) +\n",
    "    theme_classic() +\n",
    "    labs(x = 'cf_scale', y = 'Observed fold-change')"
   ]
  },
  {
   "cell_type": "markdown",
   "metadata": {},
   "source": [
    "As expected, when cf_scale = 0, there is no variance. However, when we have a realistic level of cell state frequency variation, we do see some variance. If variance is higher, it could result in decreased power, because the observed fold-change might be lower than the true fold-change. Over more replicates, our average observed fold-changes would begin to converge to 2."
   ]
  },
  {
   "cell_type": "markdown",
   "metadata": {},
   "source": [
    "# End"
   ]
  }
 ],
 "metadata": {
  "kernelspec": {
   "display_name": "R",
   "language": "R",
   "name": "ir"
  },
  "language_info": {
   "codemirror_mode": "r",
   "file_extension": ".r",
   "mimetype": "text/x-r-source",
   "name": "R",
   "pygments_lexer": "r",
   "version": "3.6.1"
  },
  "toc-showcode": false,
  "toc-showtags": false
 },
 "nbformat": 4,
 "nbformat_minor": 4
}
